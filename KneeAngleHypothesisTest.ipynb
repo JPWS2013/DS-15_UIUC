{
 "metadata": {
  "name": "",
  "signature": "sha256:3a295630f4995a157bf528b125b20df2a50a9d4950d1ab42576393e242f23eb8"
 },
 "nbformat": 3,
 "nbformat_minor": 0,
 "worksheets": [
  {
   "cells": [
    {
     "cell_type": "code",
     "collapsed": false,
     "input": [
      "%matplotlib inline\n",
      "#%precision 3"
     ],
     "language": "python",
     "metadata": {},
     "outputs": [],
     "prompt_number": 1
    },
    {
     "cell_type": "code",
     "collapsed": false,
     "input": [
      "import thinkstats2\n",
      "import thinkplot\n",
      "import ReadCsvs as rc\n",
      "from JointAngFuncs import *"
     ],
     "language": "python",
     "metadata": {},
     "outputs": [],
     "prompt_number": 2
    },
    {
     "cell_type": "code",
     "collapsed": false,
     "input": [
      "AFO, PPAFO, Shoes=rc.ReadGaitData()"
     ],
     "language": "python",
     "metadata": {},
     "outputs": [
      {
       "output_type": "stream",
       "stream": "stdout",
       "text": [
        "Sub001_6MW_AFO_0001.mat\n",
        "Sub001_6MW_AFO_0002.mat"
       ]
      },
      {
       "output_type": "stream",
       "stream": "stdout",
       "text": [
        "\n",
        "Sub001_6MW_AFO_0003.mat"
       ]
      },
      {
       "output_type": "stream",
       "stream": "stdout",
       "text": [
        "\n",
        "Sub001_6MW_AFO_0004.mat"
       ]
      },
      {
       "output_type": "stream",
       "stream": "stdout",
       "text": [
        "\n",
        "Sub001_6MW_AFO_0005.mat"
       ]
      },
      {
       "output_type": "stream",
       "stream": "stdout",
       "text": [
        "\n",
        "Sub001_6MW_AFO_0006.mat"
       ]
      },
      {
       "output_type": "stream",
       "stream": "stdout",
       "text": [
        "\n",
        "Sub001_6MW_AFO_0007.mat"
       ]
      },
      {
       "output_type": "stream",
       "stream": "stdout",
       "text": [
        "\n",
        "Sub001_6MW_AFO_0008.mat"
       ]
      },
      {
       "output_type": "stream",
       "stream": "stdout",
       "text": [
        "\n",
        "Sub001_6MW_AFO_0009.mat"
       ]
      },
      {
       "output_type": "stream",
       "stream": "stdout",
       "text": [
        "\n",
        "Sub001_6MW_PPAFO_0001.mat"
       ]
      },
      {
       "output_type": "stream",
       "stream": "stdout",
       "text": [
        "\n",
        "Sub001_6MW_PPAFO_0002.mat"
       ]
      },
      {
       "output_type": "stream",
       "stream": "stdout",
       "text": [
        "\n",
        "Sub001_6MW_PPAFO_0003.mat"
       ]
      },
      {
       "output_type": "stream",
       "stream": "stdout",
       "text": [
        "\n",
        "Sub001_6MW_PPAFO_0004.mat"
       ]
      },
      {
       "output_type": "stream",
       "stream": "stdout",
       "text": [
        "\n",
        "Sub001_6MW_PPAFO_0005.mat"
       ]
      },
      {
       "output_type": "stream",
       "stream": "stdout",
       "text": [
        "\n",
        "Sub001_6MW_PPAFO_0006.mat"
       ]
      },
      {
       "output_type": "stream",
       "stream": "stdout",
       "text": [
        "\n",
        "Sub001_6MW_PPAFO_0007.mat"
       ]
      },
      {
       "output_type": "stream",
       "stream": "stdout",
       "text": [
        "\n",
        "Sub001_6MW_PPAFO_0008.mat"
       ]
      },
      {
       "output_type": "stream",
       "stream": "stdout",
       "text": [
        "\n",
        "Sub001_6MW_PPAFO_0009.mat"
       ]
      },
      {
       "output_type": "stream",
       "stream": "stdout",
       "text": [
        "\n",
        "Sub001_6MW_Shoes_0001.mat"
       ]
      },
      {
       "output_type": "stream",
       "stream": "stdout",
       "text": [
        "\n",
        "Sub001_6MW_Shoes_0002.mat"
       ]
      },
      {
       "output_type": "stream",
       "stream": "stdout",
       "text": [
        "\n",
        "Sub001_6MW_Shoes_0003.mat"
       ]
      },
      {
       "output_type": "stream",
       "stream": "stdout",
       "text": [
        "\n",
        "Sub001_6MW_Shoes_0004.mat"
       ]
      },
      {
       "output_type": "stream",
       "stream": "stdout",
       "text": [
        "\n",
        "Sub001_6MW_Shoes_0005.mat"
       ]
      },
      {
       "output_type": "stream",
       "stream": "stdout",
       "text": [
        "\n",
        "Sub001_6MW_Shoes_0006.mat"
       ]
      },
      {
       "output_type": "stream",
       "stream": "stdout",
       "text": [
        "\n",
        "Sub001_6MW_Shoes_0007.mat"
       ]
      },
      {
       "output_type": "stream",
       "stream": "stdout",
       "text": [
        "\n",
        "Sub001_6MW_Shoes_0008.mat"
       ]
      },
      {
       "output_type": "stream",
       "stream": "stdout",
       "text": [
        "\n",
        "Sub001_6MW_Shoes_0009.mat"
       ]
      },
      {
       "output_type": "stream",
       "stream": "stdout",
       "text": [
        "\n",
        "Sub002_6MW_AFO_0001.mat"
       ]
      },
      {
       "output_type": "stream",
       "stream": "stdout",
       "text": [
        "\n",
        "Sub002_6MW_AFO_0002.mat"
       ]
      },
      {
       "output_type": "stream",
       "stream": "stdout",
       "text": [
        "\n",
        "Sub002_6MW_AFO_0003.mat"
       ]
      },
      {
       "output_type": "stream",
       "stream": "stdout",
       "text": [
        "\n",
        "Sub002_6MW_AFO_0004.mat"
       ]
      },
      {
       "output_type": "stream",
       "stream": "stdout",
       "text": [
        "\n",
        "Sub002_6MW_AFO_0005.mat"
       ]
      },
      {
       "output_type": "stream",
       "stream": "stdout",
       "text": [
        "\n",
        "Sub002_6MW_AFO_0006.mat"
       ]
      },
      {
       "output_type": "stream",
       "stream": "stdout",
       "text": [
        "\n",
        "Sub002_6MW_AFO_0007.mat"
       ]
      },
      {
       "output_type": "stream",
       "stream": "stdout",
       "text": [
        "\n",
        "Sub002_6MW_AFO_0008.mat"
       ]
      },
      {
       "output_type": "stream",
       "stream": "stdout",
       "text": [
        "\n",
        "Sub002_6MW_AFO_0009.mat"
       ]
      },
      {
       "output_type": "stream",
       "stream": "stdout",
       "text": [
        "\n",
        "Sub002_6MW_PPAFO_0001.mat"
       ]
      },
      {
       "output_type": "stream",
       "stream": "stdout",
       "text": [
        "\n",
        "Sub002_6MW_PPAFO_0002.mat"
       ]
      },
      {
       "output_type": "stream",
       "stream": "stdout",
       "text": [
        "\n",
        "Sub002_6MW_PPAFO_0003.mat"
       ]
      },
      {
       "output_type": "stream",
       "stream": "stdout",
       "text": [
        "\n",
        "Sub002_6MW_PPAFO_0004.mat"
       ]
      },
      {
       "output_type": "stream",
       "stream": "stdout",
       "text": [
        "\n",
        "Sub002_6MW_PPAFO_0005.mat"
       ]
      },
      {
       "output_type": "stream",
       "stream": "stdout",
       "text": [
        "\n",
        "Sub002_6MW_PPAFO_0006.mat"
       ]
      },
      {
       "output_type": "stream",
       "stream": "stdout",
       "text": [
        "\n",
        "Sub002_6MW_PPAFO_0007.mat"
       ]
      },
      {
       "output_type": "stream",
       "stream": "stdout",
       "text": [
        "\n",
        "Sub002_6MW_PPAFO_0008.mat"
       ]
      },
      {
       "output_type": "stream",
       "stream": "stdout",
       "text": [
        "\n",
        "Sub002_6MW_Shoe_0001.mat"
       ]
      },
      {
       "output_type": "stream",
       "stream": "stdout",
       "text": [
        "\n",
        "Sub002_6MW_Shoe_0002.mat"
       ]
      },
      {
       "output_type": "stream",
       "stream": "stdout",
       "text": [
        "\n",
        "Sub002_6MW_Shoe_0003.mat"
       ]
      },
      {
       "output_type": "stream",
       "stream": "stdout",
       "text": [
        "\n",
        "Sub002_6MW_Shoe_0004.mat"
       ]
      },
      {
       "output_type": "stream",
       "stream": "stdout",
       "text": [
        "\n",
        "Sub002_6MW_Shoe_0005.mat"
       ]
      },
      {
       "output_type": "stream",
       "stream": "stdout",
       "text": [
        "\n",
        "Sub002_6MW_Shoe_0006.mat"
       ]
      },
      {
       "output_type": "stream",
       "stream": "stdout",
       "text": [
        "\n",
        "Sub002_6MW_Shoe_0007.mat"
       ]
      },
      {
       "output_type": "stream",
       "stream": "stdout",
       "text": [
        "\n",
        "Sub002_6MW_Shoe_0008.mat"
       ]
      },
      {
       "output_type": "stream",
       "stream": "stdout",
       "text": [
        "\n",
        "BAD_DATA_Sub003_6MW_AFO_0005.mat"
       ]
      },
      {
       "output_type": "stream",
       "stream": "stdout",
       "text": [
        "\n",
        "Sub003_6MW_AFO_0001.mat\n",
        "Sub003_6MW_AFO_0002.mat"
       ]
      },
      {
       "output_type": "stream",
       "stream": "stdout",
       "text": [
        "\n",
        "Sub003_6MW_AFO_0003.mat"
       ]
      },
      {
       "output_type": "stream",
       "stream": "stdout",
       "text": [
        "\n",
        "Sub003_6MW_AFO_0005.mat"
       ]
      },
      {
       "output_type": "stream",
       "stream": "stdout",
       "text": [
        "\n",
        "Sub003_6MW_AFO_0006.mat\n",
        "Sub003_6MW_AFO_0007.mat"
       ]
      },
      {
       "output_type": "stream",
       "stream": "stdout",
       "text": [
        "\n",
        "Sub003_6MW_AFO_0008.mat"
       ]
      },
      {
       "output_type": "stream",
       "stream": "stdout",
       "text": [
        "\n",
        "Sub003_6MW_AFO_0009.mat"
       ]
      },
      {
       "output_type": "stream",
       "stream": "stdout",
       "text": [
        "\n",
        "Sub003_6MW_PPAFO_0003.mat"
       ]
      },
      {
       "output_type": "stream",
       "stream": "stdout",
       "text": [
        "\n",
        "Sub003_6MW_PPAFO_0004.mat"
       ]
      },
      {
       "output_type": "stream",
       "stream": "stdout",
       "text": [
        "\n",
        "Sub003_6MW_PPAFO_0005.mat"
       ]
      },
      {
       "output_type": "stream",
       "stream": "stdout",
       "text": [
        "\n",
        "Sub003_6MW_PPAFO_0006.mat"
       ]
      },
      {
       "output_type": "stream",
       "stream": "stdout",
       "text": [
        "\n",
        "Sub003_6MW_PPAFO_0007.mat"
       ]
      },
      {
       "output_type": "stream",
       "stream": "stdout",
       "text": [
        "\n",
        "Sub003_6MW_PPAFO_0008.mat"
       ]
      },
      {
       "output_type": "stream",
       "stream": "stdout",
       "text": [
        "\n",
        "Sub003_6MW_PPAFO_0009.mat"
       ]
      },
      {
       "output_type": "stream",
       "stream": "stdout",
       "text": [
        "\n",
        "Sub003_6MW_Shoe_0001.mat"
       ]
      },
      {
       "output_type": "stream",
       "stream": "stdout",
       "text": [
        "\n",
        "Sub003_6MW_Shoe_0002.mat"
       ]
      },
      {
       "output_type": "stream",
       "stream": "stdout",
       "text": [
        "\n",
        "Sub003_6MW_Shoe_0003.mat"
       ]
      },
      {
       "output_type": "stream",
       "stream": "stdout",
       "text": [
        "\n",
        "Sub003_6MW_Shoe_0004.mat"
       ]
      },
      {
       "output_type": "stream",
       "stream": "stdout",
       "text": [
        "\n",
        "Sub003_6MW_Shoe_0005.mat"
       ]
      },
      {
       "output_type": "stream",
       "stream": "stdout",
       "text": [
        "\n",
        "Sub003_6MW_Shoe_0006.mat"
       ]
      },
      {
       "output_type": "stream",
       "stream": "stdout",
       "text": [
        "\n",
        "Sub003_6MW_Shoe_0007.mat"
       ]
      },
      {
       "output_type": "stream",
       "stream": "stdout",
       "text": [
        "\n",
        "Sub003_6MW_Shoe_0008.mat"
       ]
      },
      {
       "output_type": "stream",
       "stream": "stdout",
       "text": [
        "\n",
        "Sub003_6MW_Shoe_0009.mat"
       ]
      },
      {
       "output_type": "stream",
       "stream": "stdout",
       "text": [
        "\n",
        "Sub003_6MW_Shoe_0010.mat"
       ]
      },
      {
       "output_type": "stream",
       "stream": "stdout",
       "text": [
        "\n",
        "Sub003_6MW_Shoe_0011.mat"
       ]
      },
      {
       "output_type": "stream",
       "stream": "stdout",
       "text": [
        "\n",
        "Sub004_6MW_AFO_0001.mat"
       ]
      },
      {
       "output_type": "stream",
       "stream": "stdout",
       "text": [
        "\n",
        "Sub004_6MW_AFO_0002.mat"
       ]
      },
      {
       "output_type": "stream",
       "stream": "stdout",
       "text": [
        "\n",
        "Sub004_6MW_AFO_0003.mat"
       ]
      },
      {
       "output_type": "stream",
       "stream": "stdout",
       "text": [
        "\n",
        "Sub004_6MW_AFO_0004.mat"
       ]
      },
      {
       "output_type": "stream",
       "stream": "stdout",
       "text": [
        "\n",
        "Sub004_6MW_PPAFO_0001.mat"
       ]
      },
      {
       "output_type": "stream",
       "stream": "stdout",
       "text": [
        "\n",
        "Sub004_6MW_PPAFO_0002.mat"
       ]
      },
      {
       "output_type": "stream",
       "stream": "stdout",
       "text": [
        "\n",
        "Sub004_6MW_PPAFO_0003.mat"
       ]
      },
      {
       "output_type": "stream",
       "stream": "stdout",
       "text": [
        "\n",
        "Sub004_6MW_PPAFO_0004.mat"
       ]
      },
      {
       "output_type": "stream",
       "stream": "stdout",
       "text": [
        "\n",
        "Sub004_6MW_PPAFO_0005.mat"
       ]
      },
      {
       "output_type": "stream",
       "stream": "stdout",
       "text": [
        "\n",
        "Sub004_6MW_PPAFO_0006.mat"
       ]
      },
      {
       "output_type": "stream",
       "stream": "stdout",
       "text": [
        "\n",
        "Sub004_6MW_Shoes_0001.mat"
       ]
      },
      {
       "output_type": "stream",
       "stream": "stdout",
       "text": [
        "\n",
        "Sub004_6MW_Shoes_0002.mat"
       ]
      },
      {
       "output_type": "stream",
       "stream": "stdout",
       "text": [
        "\n",
        "Sub004_6MW_Shoes_0003.mat"
       ]
      },
      {
       "output_type": "stream",
       "stream": "stdout",
       "text": [
        "\n",
        "Sub004_6MW_Shoes_0004.mat"
       ]
      },
      {
       "output_type": "stream",
       "stream": "stdout",
       "text": [
        "\n",
        "Sub004_6MW_Shoes_0005.mat"
       ]
      },
      {
       "output_type": "stream",
       "stream": "stdout",
       "text": [
        "\n",
        "Sub005_6MW_AFO_0001.mat"
       ]
      },
      {
       "output_type": "stream",
       "stream": "stdout",
       "text": [
        "\n",
        "Sub005_6MW_AFO_0002.mat"
       ]
      },
      {
       "output_type": "stream",
       "stream": "stdout",
       "text": [
        "\n",
        "Sub005_6MW_AFO_0003.mat"
       ]
      },
      {
       "output_type": "stream",
       "stream": "stdout",
       "text": [
        "\n",
        "Sub005_6MW_AFO_0004.mat"
       ]
      },
      {
       "output_type": "stream",
       "stream": "stdout",
       "text": [
        "\n",
        "Sub005_6MW_AFO_0006.mat"
       ]
      },
      {
       "output_type": "stream",
       "stream": "stdout",
       "text": [
        "\n",
        "Sub005_6MW_AFO_0007.mat"
       ]
      },
      {
       "output_type": "stream",
       "stream": "stdout",
       "text": [
        "\n",
        "Sub005_6MW_AFO_0008.mat"
       ]
      },
      {
       "output_type": "stream",
       "stream": "stdout",
       "text": [
        "\n",
        "Sub005_6MW_AFO_0009.mat"
       ]
      },
      {
       "output_type": "stream",
       "stream": "stdout",
       "text": [
        "\n",
        "Sub005_6MW_AFO_0010.mat"
       ]
      },
      {
       "output_type": "stream",
       "stream": "stdout",
       "text": [
        "\n",
        "Sub005_6MW_AFO_0011.mat"
       ]
      },
      {
       "output_type": "stream",
       "stream": "stdout",
       "text": [
        "\n",
        "Sub005_6MW_AFO_0012.mat"
       ]
      },
      {
       "output_type": "stream",
       "stream": "stdout",
       "text": [
        "\n",
        "Sub005_6MW_AFO_0013.mat"
       ]
      },
      {
       "output_type": "stream",
       "stream": "stdout",
       "text": [
        "\n",
        "Sub005_6MW_PPAFO_0001.mat"
       ]
      },
      {
       "output_type": "stream",
       "stream": "stdout",
       "text": [
        "\n",
        "Sub005_6MW_PPAFO_0002.mat"
       ]
      },
      {
       "output_type": "stream",
       "stream": "stdout",
       "text": [
        "\n",
        "Sub005_6MW_PPAFO_0003.mat"
       ]
      },
      {
       "output_type": "stream",
       "stream": "stdout",
       "text": [
        "\n",
        "Sub005_6MW_PPAFO_0006_static.mat"
       ]
      },
      {
       "output_type": "stream",
       "stream": "stdout",
       "text": [
        "\n",
        "Sub005_6MW_PPAFO_0007.mat"
       ]
      },
      {
       "output_type": "stream",
       "stream": "stdout",
       "text": [
        "\n",
        "Sub005_6MW_PPAFO_0008_static.mat"
       ]
      },
      {
       "output_type": "stream",
       "stream": "stdout",
       "text": [
        "\n",
        "Sub005_6MW_PPAFO_0009.mat"
       ]
      },
      {
       "output_type": "stream",
       "stream": "stdout",
       "text": [
        "\n",
        "Sub005_6MW_PPAFO_0010.mat"
       ]
      },
      {
       "output_type": "stream",
       "stream": "stdout",
       "text": [
        "\n",
        "Sub005_6MW_PPAFO_0011.mat"
       ]
      },
      {
       "output_type": "stream",
       "stream": "stdout",
       "text": [
        "\n",
        "Sub005_6MW_PPAFO_0012.mat"
       ]
      },
      {
       "output_type": "stream",
       "stream": "stdout",
       "text": [
        "\n",
        "Sub005_6MW_PPAFO_0013.mat"
       ]
      },
      {
       "output_type": "stream",
       "stream": "stdout",
       "text": [
        "\n",
        "Sub005_6MW_PPAFO_0016.mat"
       ]
      },
      {
       "output_type": "stream",
       "stream": "stdout",
       "text": [
        "\n",
        "Sub005_6MW_Shoes_0001_Static_good.mat"
       ]
      },
      {
       "output_type": "stream",
       "stream": "stdout",
       "text": [
        "\n",
        "Sub005_6MW_Shoes_0002_static.mat"
       ]
      },
      {
       "output_type": "stream",
       "stream": "stdout",
       "text": [
        "\n",
        "Sub005_6MW_Shoes_0003_static.mat"
       ]
      },
      {
       "output_type": "stream",
       "stream": "stdout",
       "text": [
        "\n",
        "Sub005_6MW_Shoes_0004.mat"
       ]
      },
      {
       "output_type": "stream",
       "stream": "stdout",
       "text": [
        "\n",
        "Sub005_6MW_Shoes_0006.mat"
       ]
      },
      {
       "output_type": "stream",
       "stream": "stdout",
       "text": [
        "\n",
        "Sub005_6MW_Shoes_0007.mat"
       ]
      },
      {
       "output_type": "stream",
       "stream": "stdout",
       "text": [
        "\n",
        "Sub005_6MW_Shoes_0008.mat"
       ]
      },
      {
       "output_type": "stream",
       "stream": "stdout",
       "text": [
        "\n",
        "Sub005_6MW_Shoes_0009.mat"
       ]
      },
      {
       "output_type": "stream",
       "stream": "stdout",
       "text": [
        "\n",
        "Sub005_6MW_Shoes_0010.mat"
       ]
      },
      {
       "output_type": "stream",
       "stream": "stdout",
       "text": [
        "\n",
        "Sub005_6MW_Shoes_0012.mat"
       ]
      },
      {
       "output_type": "stream",
       "stream": "stdout",
       "text": [
        "\n",
        "Sub005_6MW_Shoes_0013.mat"
       ]
      },
      {
       "output_type": "stream",
       "stream": "stdout",
       "text": [
        "\n",
        "Sub007_6MW_AFO_0008.mat"
       ]
      },
      {
       "output_type": "stream",
       "stream": "stdout",
       "text": [
        "\n",
        "Sub007_6MW_AFO_0009.mat"
       ]
      },
      {
       "output_type": "stream",
       "stream": "stdout",
       "text": [
        "\n",
        "Sub007_6MW_AFO_0010.mat"
       ]
      },
      {
       "output_type": "stream",
       "stream": "stdout",
       "text": [
        "\n",
        "Sub007_6MW_AFO_0011.mat"
       ]
      },
      {
       "output_type": "stream",
       "stream": "stdout",
       "text": [
        "\n",
        "Sub007_6MW_AFO_0012.mat"
       ]
      },
      {
       "output_type": "stream",
       "stream": "stdout",
       "text": [
        "\n",
        "Sub007_6MW_PPAFO_0001.mat"
       ]
      },
      {
       "output_type": "stream",
       "stream": "stdout",
       "text": [
        "\n",
        "Sub007_6MW_PPAFO_0002.mat"
       ]
      },
      {
       "output_type": "stream",
       "stream": "stdout",
       "text": [
        "\n",
        "Sub007_6MW_PPAFO_0003.mat"
       ]
      },
      {
       "output_type": "stream",
       "stream": "stdout",
       "text": [
        "\n",
        "Sub007_6MW_PPAFO_0004.mat"
       ]
      },
      {
       "output_type": "stream",
       "stream": "stdout",
       "text": [
        "\n",
        "Sub007_6MW_PPAFO_0005.mat"
       ]
      },
      {
       "output_type": "stream",
       "stream": "stdout",
       "text": [
        "\n",
        "Sub007_6MW_PPAFO_0006.mat"
       ]
      },
      {
       "output_type": "stream",
       "stream": "stdout",
       "text": [
        "\n",
        "Sub007_6MW_Shoes_0001.mat"
       ]
      },
      {
       "output_type": "stream",
       "stream": "stdout",
       "text": [
        "\n",
        "Sub007_6MW_Shoes_0002.mat"
       ]
      },
      {
       "output_type": "stream",
       "stream": "stdout",
       "text": [
        "\n",
        "Sub007_6MW_Shoes_0003.mat"
       ]
      },
      {
       "output_type": "stream",
       "stream": "stdout",
       "text": [
        "\n",
        "Sub007_6MW_Shoes_0004.mat"
       ]
      },
      {
       "output_type": "stream",
       "stream": "stdout",
       "text": [
        "\n",
        "Sub007_6MW_Shoes_0005.mat"
       ]
      },
      {
       "output_type": "stream",
       "stream": "stdout",
       "text": [
        "\n",
        "Sub007_6MW_Shoes_0006.mat"
       ]
      },
      {
       "output_type": "stream",
       "stream": "stdout",
       "text": [
        "\n",
        "Sub009_6MW_AFO_0001.mat"
       ]
      },
      {
       "output_type": "stream",
       "stream": "stdout",
       "text": [
        "\n",
        "Sub009_6MW_AFO_0002.mat"
       ]
      },
      {
       "output_type": "stream",
       "stream": "stdout",
       "text": [
        "\n",
        "Sub009_6MW_AFO_0003.mat"
       ]
      },
      {
       "output_type": "stream",
       "stream": "stdout",
       "text": [
        "\n",
        "Sub009_6MW_AFO_0004.mat"
       ]
      },
      {
       "output_type": "stream",
       "stream": "stdout",
       "text": [
        "\n",
        "Sub009_6MW_AFO_0005.mat"
       ]
      },
      {
       "output_type": "stream",
       "stream": "stdout",
       "text": [
        "\n",
        "Sub009_6MW_PPAFO_0001.mat"
       ]
      },
      {
       "output_type": "stream",
       "stream": "stdout",
       "text": [
        "\n",
        "Sub009_6MW_PPAFO_0002_static.mat"
       ]
      },
      {
       "output_type": "stream",
       "stream": "stdout",
       "text": [
        "\n",
        "Sub009_6MW_PPAFO_0003.mat"
       ]
      },
      {
       "output_type": "stream",
       "stream": "stdout",
       "text": [
        "\n",
        "Sub009_6MW_PPAFO_0004.mat"
       ]
      },
      {
       "output_type": "stream",
       "stream": "stdout",
       "text": [
        "\n",
        "Sub009_6MW_PPAFO_0005.mat"
       ]
      },
      {
       "output_type": "stream",
       "stream": "stdout",
       "text": [
        "\n",
        "Sub009_6MW_PPAFO_0006.mat"
       ]
      },
      {
       "output_type": "stream",
       "stream": "stdout",
       "text": [
        "\n",
        "Sub009_6MW_Shoes_0001.mat"
       ]
      },
      {
       "output_type": "stream",
       "stream": "stdout",
       "text": [
        "\n",
        "Sub009_6MW_Shoes_0002.mat"
       ]
      },
      {
       "output_type": "stream",
       "stream": "stdout",
       "text": [
        "\n",
        "Sub009_6MW_Shoes_0003.mat"
       ]
      },
      {
       "output_type": "stream",
       "stream": "stdout",
       "text": [
        "\n",
        "Sub009_6MW_Shoes_0004.mat"
       ]
      },
      {
       "output_type": "stream",
       "stream": "stdout",
       "text": [
        "\n",
        "Sub010_6MW_AFO_0001.mat"
       ]
      },
      {
       "output_type": "stream",
       "stream": "stdout",
       "text": [
        "\n",
        "Sub010_6MW_AFO_0002.mat"
       ]
      },
      {
       "output_type": "stream",
       "stream": "stdout",
       "text": [
        "\n",
        "Sub010_6MW_AFO_0003.mat"
       ]
      },
      {
       "output_type": "stream",
       "stream": "stdout",
       "text": [
        "\n",
        "Sub010_6MW_AFO_0004.mat"
       ]
      },
      {
       "output_type": "stream",
       "stream": "stdout",
       "text": [
        "\n",
        "Sub010_6MW_AFO_0005.mat"
       ]
      },
      {
       "output_type": "stream",
       "stream": "stdout",
       "text": [
        "\n",
        "Sub010_6MW_PPAFO_0001.mat"
       ]
      },
      {
       "output_type": "stream",
       "stream": "stdout",
       "text": [
        "\n",
        "Sub010_6MW_PPAFO_0002.mat"
       ]
      },
      {
       "output_type": "stream",
       "stream": "stdout",
       "text": [
        "\n",
        "Sub010_6MW_PPAFO_0003.mat"
       ]
      },
      {
       "output_type": "stream",
       "stream": "stdout",
       "text": [
        "\n",
        "Sub010_6MW_PPAFO_0004.mat"
       ]
      },
      {
       "output_type": "stream",
       "stream": "stdout",
       "text": [
        "\n",
        "Sub010_6MW_PPAFO_0005.mat"
       ]
      },
      {
       "output_type": "stream",
       "stream": "stdout",
       "text": [
        "\n",
        "Sub010_6MW_PPAFO_0006.mat"
       ]
      },
      {
       "output_type": "stream",
       "stream": "stdout",
       "text": [
        "\n",
        "Sub010_6MW_Shoes_0004.mat"
       ]
      },
      {
       "output_type": "stream",
       "stream": "stdout",
       "text": [
        "\n",
        "Sub010_6MW_Shoes_0005.mat"
       ]
      },
      {
       "output_type": "stream",
       "stream": "stdout",
       "text": [
        "\n",
        "Sub010_6MW_Shoes_0006.mat"
       ]
      },
      {
       "output_type": "stream",
       "stream": "stdout",
       "text": [
        "\n",
        "Sub010_6MW_Shoes_0007.mat"
       ]
      },
      {
       "output_type": "stream",
       "stream": "stdout",
       "text": [
        "\n",
        "Sub010_6MW_Shoes_0008.mat"
       ]
      },
      {
       "output_type": "stream",
       "stream": "stdout",
       "text": [
        "\n",
        "Sub011_6MW_AFO_0001.mat"
       ]
      },
      {
       "output_type": "stream",
       "stream": "stdout",
       "text": [
        "\n",
        "Sub011_6MW_AFO_0002.mat"
       ]
      },
      {
       "output_type": "stream",
       "stream": "stdout",
       "text": [
        "\n",
        "Sub011_6MW_AFO_0003.mat"
       ]
      },
      {
       "output_type": "stream",
       "stream": "stdout",
       "text": [
        "\n",
        "Sub011_6MW_AFO_0004.mat"
       ]
      },
      {
       "output_type": "stream",
       "stream": "stdout",
       "text": [
        "\n",
        "Sub011_6MW_AFO_0005.mat"
       ]
      },
      {
       "output_type": "stream",
       "stream": "stdout",
       "text": [
        "\n",
        "Sub011_6MW_AFO_0006.mat"
       ]
      },
      {
       "output_type": "stream",
       "stream": "stdout",
       "text": [
        "\n",
        "Sub011_6MW_AFO_0007.mat"
       ]
      },
      {
       "output_type": "stream",
       "stream": "stdout",
       "text": [
        "\n",
        "Sub011_6MW_AFO_0008.mat"
       ]
      },
      {
       "output_type": "stream",
       "stream": "stdout",
       "text": [
        "\n",
        "Sub011_6MW_AFO_0009.mat"
       ]
      },
      {
       "output_type": "stream",
       "stream": "stdout",
       "text": [
        "\n",
        "Sub011_6MW_AFO_0010.mat"
       ]
      },
      {
       "output_type": "stream",
       "stream": "stdout",
       "text": [
        "\n",
        "Sub011_6MW_PPAFO_0001.mat"
       ]
      },
      {
       "output_type": "stream",
       "stream": "stdout",
       "text": [
        "\n",
        "Sub011_6MW_PPAFO_0002.mat"
       ]
      },
      {
       "output_type": "stream",
       "stream": "stdout",
       "text": [
        "\n",
        "Sub011_6MW_PPAFO_0003.mat"
       ]
      },
      {
       "output_type": "stream",
       "stream": "stdout",
       "text": [
        "\n",
        "Sub011_6MW_PPAFO_0004.mat"
       ]
      },
      {
       "output_type": "stream",
       "stream": "stdout",
       "text": [
        "\n",
        "Sub011_6MW_PPAFO_0005.mat"
       ]
      },
      {
       "output_type": "stream",
       "stream": "stdout",
       "text": [
        "\n",
        "Sub011_6MW_PPAFO_0006.mat"
       ]
      },
      {
       "output_type": "stream",
       "stream": "stdout",
       "text": [
        "\n",
        "Sub011_6MW_PPAFO_0007.mat"
       ]
      },
      {
       "output_type": "stream",
       "stream": "stdout",
       "text": [
        "\n",
        "Sub011_6MW_Shoes_0001.mat"
       ]
      },
      {
       "output_type": "stream",
       "stream": "stdout",
       "text": [
        "\n",
        "Sub011_6MW_Shoes_0002_static.mat"
       ]
      },
      {
       "output_type": "stream",
       "stream": "stdout",
       "text": [
        "\n",
        "Sub011_6MW_Shoes_0003.mat"
       ]
      },
      {
       "output_type": "stream",
       "stream": "stdout",
       "text": [
        "\n",
        "Sub011_6MW_Shoes_0004.mat"
       ]
      },
      {
       "output_type": "stream",
       "stream": "stdout",
       "text": [
        "\n",
        "Sub011_6MW_Shoes_0005.mat"
       ]
      },
      {
       "output_type": "stream",
       "stream": "stdout",
       "text": [
        "\n",
        "Sub011_6MW_Shoes_0006.mat"
       ]
      },
      {
       "output_type": "stream",
       "stream": "stdout",
       "text": [
        "\n",
        "Sub011_6MW_Shoes_0007.mat"
       ]
      },
      {
       "output_type": "stream",
       "stream": "stdout",
       "text": [
        "\n",
        "Sub011_6MW_Shoes_0008.mat"
       ]
      },
      {
       "output_type": "stream",
       "stream": "stdout",
       "text": [
        "\n",
        "Sub011_6MW_Shoes_0009.mat"
       ]
      },
      {
       "output_type": "stream",
       "stream": "stdout",
       "text": [
        "\n",
        "Sub012_6MW_AFO_0001.mat"
       ]
      },
      {
       "output_type": "stream",
       "stream": "stdout",
       "text": [
        "\n",
        "Sub012_6MW_AFO_0002.mat"
       ]
      },
      {
       "output_type": "stream",
       "stream": "stdout",
       "text": [
        "\n",
        "Sub012_6MW_AFO_0003.mat"
       ]
      },
      {
       "output_type": "stream",
       "stream": "stdout",
       "text": [
        "\n",
        "Sub012_6MW_AFO_0004.mat"
       ]
      },
      {
       "output_type": "stream",
       "stream": "stdout",
       "text": [
        "\n",
        "Sub012_6MW_AFO_0005.mat"
       ]
      },
      {
       "output_type": "stream",
       "stream": "stdout",
       "text": [
        "\n",
        "Sub012_6MW_AFO_0006.mat"
       ]
      },
      {
       "output_type": "stream",
       "stream": "stdout",
       "text": [
        "\n",
        "Sub012_6MW_AFO_0007.mat"
       ]
      },
      {
       "output_type": "stream",
       "stream": "stdout",
       "text": [
        "\n",
        "Sub012_6MW_AFO_0008.mat"
       ]
      },
      {
       "output_type": "stream",
       "stream": "stdout",
       "text": [
        "\n",
        "Sub012_6MW_AFO_0009.mat"
       ]
      },
      {
       "output_type": "stream",
       "stream": "stdout",
       "text": [
        "\n",
        "Sub012_6MW_AFO_0010.mat"
       ]
      },
      {
       "output_type": "stream",
       "stream": "stdout",
       "text": [
        "\n",
        "Sub012_6MW_PPAFO_0001.mat"
       ]
      },
      {
       "output_type": "stream",
       "stream": "stdout",
       "text": [
        "\n",
        "Sub012_6MW_PPAFO_0002.mat"
       ]
      },
      {
       "output_type": "stream",
       "stream": "stdout",
       "text": [
        "\n",
        "Sub012_6MW_PPAFO_0003.mat"
       ]
      },
      {
       "output_type": "stream",
       "stream": "stdout",
       "text": [
        "\n",
        "Sub012_6MW_PPAFO_0005.mat"
       ]
      },
      {
       "output_type": "stream",
       "stream": "stdout",
       "text": [
        "\n",
        "Sub012_6MW_PPAFO_0006.mat"
       ]
      },
      {
       "output_type": "stream",
       "stream": "stdout",
       "text": [
        "\n",
        "Sub012_6MW_PPAFO_0007.mat"
       ]
      },
      {
       "output_type": "stream",
       "stream": "stdout",
       "text": [
        "\n",
        "Sub012_6MW_PPAFO_0008.mat"
       ]
      },
      {
       "output_type": "stream",
       "stream": "stdout",
       "text": [
        "\n",
        "Sub012_6MW_PPAFO_0009.mat"
       ]
      },
      {
       "output_type": "stream",
       "stream": "stdout",
       "text": [
        "\n",
        "Sub012_6MW_PPAFO_0010.mat"
       ]
      },
      {
       "output_type": "stream",
       "stream": "stdout",
       "text": [
        "\n",
        "Sub012_6MW_Shoes_0001.mat"
       ]
      },
      {
       "output_type": "stream",
       "stream": "stdout",
       "text": [
        "\n",
        "Sub012_6MW_Shoes_0003.mat"
       ]
      },
      {
       "output_type": "stream",
       "stream": "stdout",
       "text": [
        "\n",
        "Sub012_6MW_Shoes_0004.mat"
       ]
      },
      {
       "output_type": "stream",
       "stream": "stdout",
       "text": [
        "\n",
        "Sub012_6MW_Shoes_0005.mat"
       ]
      },
      {
       "output_type": "stream",
       "stream": "stdout",
       "text": [
        "\n",
        "Sub012_6MW_Shoes_0007.mat"
       ]
      },
      {
       "output_type": "stream",
       "stream": "stdout",
       "text": [
        "\n",
        "Sub012_6MW_Shoes_0008.mat"
       ]
      },
      {
       "output_type": "stream",
       "stream": "stdout",
       "text": [
        "\n",
        "Sub012_6MW_Shoes_0009.mat"
       ]
      },
      {
       "output_type": "stream",
       "stream": "stdout",
       "text": [
        "\n",
        "Sub012_6MW_Shoes_0010.mat"
       ]
      },
      {
       "output_type": "stream",
       "stream": "stdout",
       "text": [
        "\n",
        "Sub012_6MW_Shoes_0011.mat"
       ]
      },
      {
       "output_type": "stream",
       "stream": "stdout",
       "text": [
        "\n",
        "Sub013_6MW_AFO_0001.mat"
       ]
      },
      {
       "output_type": "stream",
       "stream": "stdout",
       "text": [
        "\n",
        "Sub013_6MW_AFO_0003.mat"
       ]
      },
      {
       "output_type": "stream",
       "stream": "stdout",
       "text": [
        "\n",
        "Sub013_6MW_AFO_0004.mat"
       ]
      },
      {
       "output_type": "stream",
       "stream": "stdout",
       "text": [
        "\n",
        "Sub013_6MW_AFO_0006.mat"
       ]
      },
      {
       "output_type": "stream",
       "stream": "stdout",
       "text": [
        "\n",
        "Sub013_6MW_AFO_0007.mat"
       ]
      },
      {
       "output_type": "stream",
       "stream": "stdout",
       "text": [
        "\n",
        "Sub013_6MW_AFO_0008.mat"
       ]
      },
      {
       "output_type": "stream",
       "stream": "stdout",
       "text": [
        "\n",
        "Sub013_6MW_AFO_0009.mat"
       ]
      },
      {
       "output_type": "stream",
       "stream": "stdout",
       "text": [
        "\n",
        "Sub013_6MW_AFO_0010.mat"
       ]
      },
      {
       "output_type": "stream",
       "stream": "stdout",
       "text": [
        "\n",
        "Sub013_6MW_AFO_0011.mat"
       ]
      },
      {
       "output_type": "stream",
       "stream": "stdout",
       "text": [
        "\n",
        "Sub013_6MW_AFO_0013.mat"
       ]
      },
      {
       "output_type": "stream",
       "stream": "stdout",
       "text": [
        "\n",
        "Sub013_6MW_AFO_0014.mat"
       ]
      },
      {
       "output_type": "stream",
       "stream": "stdout",
       "text": [
        "\n",
        "Sub013_6MW_PPAFO_0001.mat"
       ]
      },
      {
       "output_type": "stream",
       "stream": "stdout",
       "text": [
        "\n",
        "Sub013_6MW_PPAFO_0002.mat"
       ]
      },
      {
       "output_type": "stream",
       "stream": "stdout",
       "text": [
        "\n",
        "Sub013_6MW_PPAFO_0003.mat"
       ]
      },
      {
       "output_type": "stream",
       "stream": "stdout",
       "text": [
        "\n",
        "Sub013_6MW_PPAFO_0004.mat"
       ]
      },
      {
       "output_type": "stream",
       "stream": "stdout",
       "text": [
        "\n",
        "Sub013_6MW_PPAFO_0005.mat"
       ]
      },
      {
       "output_type": "stream",
       "stream": "stdout",
       "text": [
        "\n",
        "Sub013_6MW_PPAFO_0006.mat"
       ]
      },
      {
       "output_type": "stream",
       "stream": "stdout",
       "text": [
        "\n",
        "Sub013_6MW_PPAFO_0007.mat"
       ]
      },
      {
       "output_type": "stream",
       "stream": "stdout",
       "text": [
        "\n",
        "Sub013_6MW_PPAFO_0008.mat"
       ]
      },
      {
       "output_type": "stream",
       "stream": "stdout",
       "text": [
        "\n",
        "Sub013_6MW_Shoes_0001.mat"
       ]
      },
      {
       "output_type": "stream",
       "stream": "stdout",
       "text": [
        "\n",
        "Sub013_6MW_Shoes_0002.mat"
       ]
      },
      {
       "output_type": "stream",
       "stream": "stdout",
       "text": [
        "\n",
        "Sub013_6MW_Shoes_0003.mat"
       ]
      },
      {
       "output_type": "stream",
       "stream": "stdout",
       "text": [
        "\n",
        "Sub013_6MW_Shoes_0005.mat"
       ]
      },
      {
       "output_type": "stream",
       "stream": "stdout",
       "text": [
        "\n",
        "Sub013_6MW_Shoes_0006.mat"
       ]
      },
      {
       "output_type": "stream",
       "stream": "stdout",
       "text": [
        "\n",
        "Sub013_6MW_Shoes_0007.mat"
       ]
      },
      {
       "output_type": "stream",
       "stream": "stdout",
       "text": [
        "\n",
        "Sub013_6MW_Shoes_0008.mat"
       ]
      },
      {
       "output_type": "stream",
       "stream": "stdout",
       "text": [
        "\n",
        "Sub013_6MW_Shoes_0009.mat"
       ]
      },
      {
       "output_type": "stream",
       "stream": "stdout",
       "text": [
        "\n",
        "Sub013_6MW_Shoes_0010.mat"
       ]
      },
      {
       "output_type": "stream",
       "stream": "stdout",
       "text": [
        "\n",
        "Sub013_6MW_Shoes_0011.mat"
       ]
      },
      {
       "output_type": "stream",
       "stream": "stdout",
       "text": [
        "\n",
        "Sub015_6MW_AFO_0001.mat"
       ]
      },
      {
       "output_type": "stream",
       "stream": "stdout",
       "text": [
        "\n",
        "Sub015_6MW_AFO_0002.mat"
       ]
      },
      {
       "output_type": "stream",
       "stream": "stdout",
       "text": [
        "\n",
        "Sub015_6MW_AFO_0003.mat"
       ]
      },
      {
       "output_type": "stream",
       "stream": "stdout",
       "text": [
        "\n",
        "Sub015_6MW_AFO_0004.mat"
       ]
      },
      {
       "output_type": "stream",
       "stream": "stdout",
       "text": [
        "\n",
        "Sub015_6MW_AFO_0005.mat"
       ]
      },
      {
       "output_type": "stream",
       "stream": "stdout",
       "text": [
        "\n",
        "Sub015_6MW_AFO_0006.mat"
       ]
      },
      {
       "output_type": "stream",
       "stream": "stdout",
       "text": [
        "\n",
        "Sub015_6MW_AFO_0007.mat"
       ]
      },
      {
       "output_type": "stream",
       "stream": "stdout",
       "text": [
        "\n",
        "Sub015_6MW_AFO_0008.mat"
       ]
      },
      {
       "output_type": "stream",
       "stream": "stdout",
       "text": [
        "\n",
        "Sub015_6MW_AFO_0009.mat"
       ]
      },
      {
       "output_type": "stream",
       "stream": "stdout",
       "text": [
        "\n",
        "Sub015_6MW_AFO_0010.mat"
       ]
      },
      {
       "output_type": "stream",
       "stream": "stdout",
       "text": [
        "\n",
        "Sub015_6MW_PPAFO_0001.mat"
       ]
      },
      {
       "output_type": "stream",
       "stream": "stdout",
       "text": [
        "\n",
        "Sub015_6MW_PPAFO_0002.mat"
       ]
      },
      {
       "output_type": "stream",
       "stream": "stdout",
       "text": [
        "\n",
        "Sub015_6MW_PPAFO_0003.mat"
       ]
      },
      {
       "output_type": "stream",
       "stream": "stdout",
       "text": [
        "\n",
        "Sub015_6MW_PPAFO_0004.mat"
       ]
      },
      {
       "output_type": "stream",
       "stream": "stdout",
       "text": [
        "\n",
        "Sub015_6MW_PPAFO_0005.mat"
       ]
      },
      {
       "output_type": "stream",
       "stream": "stdout",
       "text": [
        "\n",
        "Sub015_6MW_PPAFO_0007.mat"
       ]
      },
      {
       "output_type": "stream",
       "stream": "stdout",
       "text": [
        "\n",
        "Sub015_6MW_PPAFO_0008.mat"
       ]
      },
      {
       "output_type": "stream",
       "stream": "stdout",
       "text": [
        "\n",
        "Sub015_6MW_PPAFO_0010.mat"
       ]
      },
      {
       "output_type": "stream",
       "stream": "stdout",
       "text": [
        "\n",
        "Sub015_6MW_Shoes_0001.mat"
       ]
      },
      {
       "output_type": "stream",
       "stream": "stdout",
       "text": [
        "\n",
        "Sub015_6MW_Shoes_0002.mat"
       ]
      },
      {
       "output_type": "stream",
       "stream": "stdout",
       "text": [
        "\n",
        "Sub015_6MW_Shoes_0003.mat"
       ]
      },
      {
       "output_type": "stream",
       "stream": "stdout",
       "text": [
        "\n",
        "Sub015_6MW_Shoes_0004.mat"
       ]
      },
      {
       "output_type": "stream",
       "stream": "stdout",
       "text": [
        "\n",
        "Sub015_6MW_Shoes_0005.mat"
       ]
      },
      {
       "output_type": "stream",
       "stream": "stdout",
       "text": [
        "\n",
        "Sub015_6MW_Shoes_0006.mat"
       ]
      },
      {
       "output_type": "stream",
       "stream": "stdout",
       "text": [
        "\n",
        "Sub015_6MW_Shoes_0007.mat"
       ]
      },
      {
       "output_type": "stream",
       "stream": "stdout",
       "text": [
        "\n",
        "Sub015_6MW_Shoes_0008.mat"
       ]
      },
      {
       "output_type": "stream",
       "stream": "stdout",
       "text": [
        "\n",
        "Sub016_6MW_AFO_0001.mat"
       ]
      },
      {
       "output_type": "stream",
       "stream": "stdout",
       "text": [
        "\n",
        "Sub016_6MW_AFO_0002.mat"
       ]
      },
      {
       "output_type": "stream",
       "stream": "stdout",
       "text": [
        "\n",
        "Sub016_6MW_AFO_0003.mat"
       ]
      },
      {
       "output_type": "stream",
       "stream": "stdout",
       "text": [
        "\n",
        "Sub016_6MW_AFO_0004.mat"
       ]
      },
      {
       "output_type": "stream",
       "stream": "stdout",
       "text": [
        "\n",
        "Sub016_6MW_AFO_0005.mat"
       ]
      },
      {
       "output_type": "stream",
       "stream": "stdout",
       "text": [
        "\n",
        "Sub016_6MW_AFO_0006.mat"
       ]
      },
      {
       "output_type": "stream",
       "stream": "stdout",
       "text": [
        "\n",
        "Sub016_6MW_AFO_0007.mat"
       ]
      },
      {
       "output_type": "stream",
       "stream": "stdout",
       "text": [
        "\n",
        "Sub016_6MW_AFO_0008.mat"
       ]
      },
      {
       "output_type": "stream",
       "stream": "stdout",
       "text": [
        "\n",
        "Sub016_6MW_PPAFO_0001.mat"
       ]
      },
      {
       "output_type": "stream",
       "stream": "stdout",
       "text": [
        "\n",
        "Sub016_6MW_PPAFO_0002.mat"
       ]
      },
      {
       "output_type": "stream",
       "stream": "stdout",
       "text": [
        "\n",
        "Sub016_6MW_PPAFO_0003.mat"
       ]
      },
      {
       "output_type": "stream",
       "stream": "stdout",
       "text": [
        "\n",
        "Sub016_6MW_PPAFO_0004.mat"
       ]
      },
      {
       "output_type": "stream",
       "stream": "stdout",
       "text": [
        "\n",
        "Sub016_6MW_PPAFO_0005.mat"
       ]
      },
      {
       "output_type": "stream",
       "stream": "stdout",
       "text": [
        "\n",
        "Sub016_6MW_PPAFO_0006.mat"
       ]
      },
      {
       "output_type": "stream",
       "stream": "stdout",
       "text": [
        "\n",
        "Sub016_6MW_Shoes_0002.mat"
       ]
      },
      {
       "output_type": "stream",
       "stream": "stdout",
       "text": [
        "\n",
        "Sub016_6MW_Shoes_0003.mat"
       ]
      },
      {
       "output_type": "stream",
       "stream": "stdout",
       "text": [
        "\n",
        "Sub016_6MW_Shoes_0004.mat"
       ]
      },
      {
       "output_type": "stream",
       "stream": "stdout",
       "text": [
        "\n",
        "Sub016_6MW_Shoes_0005.mat"
       ]
      },
      {
       "output_type": "stream",
       "stream": "stdout",
       "text": [
        "\n",
        "Sub016_6MW_Shoes_0006.mat"
       ]
      },
      {
       "output_type": "stream",
       "stream": "stdout",
       "text": [
        "\n",
        "Sub016_6MW_Shoes_0007.mat"
       ]
      },
      {
       "output_type": "stream",
       "stream": "stdout",
       "text": [
        "\n",
        "Sub016_6MW_Shoes_0008.mat"
       ]
      },
      {
       "output_type": "stream",
       "stream": "stdout",
       "text": [
        "\n",
        "Sub016_6MW_Shoes_0009.mat"
       ]
      },
      {
       "output_type": "stream",
       "stream": "stdout",
       "text": [
        "\n",
        "Done reading all data!"
       ]
      },
      {
       "output_type": "stream",
       "stream": "stdout",
       "text": [
        "\n"
       ]
      }
     ],
     "prompt_number": 3
    },
    {
     "cell_type": "markdown",
     "metadata": {},
     "source": [
      "####Defines the functions needed to compute joint angles"
     ]
    },
    {
     "cell_type": "code",
     "collapsed": false,
     "input": [
      "import math\n",
      "import numpy as np\n",
      "\n",
      "\n",
      "def JointAngles(fw, pnum, trial, mark1, mark2, mark3):\n",
      "    \"\"\"\n",
      "    This function computes the joint angles for a given participant, trial and set of markers\n",
      "    \n",
      "    fw: a string that defines the footwear being studied; Should be either 'AFO', 'PPAFO' or 'Shoes'\n",
      "    pnum: integer value for the participant number; Should be a number between 1 and 16\n",
      "    trial: integer value for the trial number being studied; Should be a number between 1 and 10\n",
      "    mark1: a string that defines the marker label for the marker above the joint being studied\n",
      "    mark2: a string that defines the marker label for the marker at the joint being studied\n",
      "    mark3: a string that defines the marker label for the marker below the joint being studied\n",
      "    \n",
      "    returns indices (a list of frame numbers), theta_t (a list of joint angles in radians)\n",
      "    \"\"\"\n",
      "    \n",
      "    theta_t=[]\n",
      "    \n",
      "    if fw=='AFO':\n",
      "        dset=AFO\n",
      "        \n",
      "    if fw=='PPAFO':\n",
      "        dset=PPAFO\n",
      "        \n",
      "    if fw=='Shoes':\n",
      "        dset=Shoes\n",
      "        \n",
      "        \n",
      "    MT_Obj=dset[pnum].GetTrial(trial) #AFO trial 4 for participant 1\n",
      "\n",
      "    R_Lat_Knee_x = MT_Obj.x[mark1]\n",
      "    R_Tib_x = MT_Obj.x[mark2]\n",
      "    R_Thigh_x = MT_Obj.x[mark3]\n",
      "\n",
      "    R_Lat_Knee_y = MT_Obj.y[mark1]\n",
      "    R_Tib_y = MT_Obj.y[mark2]\n",
      "    R_Thigh_y = MT_Obj.y[mark3]\n",
      "\n",
      "    R_Lat_Knee_z = MT_Obj.z[mark1]\n",
      "    R_Tib_z = MT_Obj.z[mark2]\n",
      "    R_Thigh_z = MT_Obj.z[mark3]\n",
      "\n",
      "    x_dir_vec=[1,0,0]\n",
      "    y_dir_vec=[0,1,0]\n",
      "    z_dir_vec=[0,0,1]\n",
      "\n",
      "    for i in range(len(R_Lat_Knee_x)):\n",
      "    \n",
      "        KneeTib_x=R_Lat_Knee_x[i]-R_Tib_x[i]\n",
      "        KneeTib_y=R_Lat_Knee_y[i]-R_Tib_y[i]\n",
      "        KneeTib_z=R_Lat_Knee_z[i]-R_Tib_z[i]\n",
      "        \n",
      "        ThighKnee_x=R_Lat_Knee_x[i]-R_Thigh_x[i]\n",
      "        ThighKnee_y=R_Lat_Knee_y[i]-R_Thigh_y[i]\n",
      "        ThighKnee_z=R_Lat_Knee_z[i]-R_Thigh_z[i]\n",
      "    \n",
      "        vec=[KneeTib_x, KneeTib_y, KneeTib_z]\n",
      "        vec2=[ThighKnee_x, ThighKnee_y, ThighKnee_z]\n",
      "    \n",
      "        #Apply cos (theta) = (A dot B)/(modA modB)\n",
      "        theta=math.acos((np.dot(vec, vec2))/((np.linalg.norm(vec))*(np.linalg.norm(vec2))))\n",
      "    \n",
      "        theta_t.append(theta/math.pi*180)\n",
      "    \n",
      "    indices=MT_Obj.x.index.get_values()\n",
      "    \n",
      "    return indices, theta_t\n",
      "    #thinkplot.Show(legend=False)\n",
      "    \n",
      "############################################\n",
      "\n",
      "def AngleDiff(fw, participant, WalkTrial, mark1, mark2, mark3, plot=False):\n",
      "    \"\"\"\n",
      "    This function computes the difference between each angle in the walking trial and the median of the baseline trial to\n",
      "    obtain the change in angle from baseline while the participant is walking.\n",
      "    \n",
      "    fw: a string that defines the footwear being studied; Should be either 'AFO', 'PPAFO' or 'Shoes'\n",
      "    participant: integer value for the participant number; Should be a number between 1 and 16\n",
      "    WalkTrial: integer value for the trial number of the walking trial being studied; Should be a number between 4 and 10\n",
      "    mark1: a string that defines the marker label for the marker above the joint being studied\n",
      "    mark2: a string that defines the marker label for the marker at the joint being studied\n",
      "    mark3: a string that defines the marker label for the marker below the joint being studied\n",
      "    \n",
      "    returns R_angle_changes (list of change in joint angle from baseline in degrees)\n",
      "    \"\"\"\n",
      "\n",
      "    trial=1\n",
      "\n",
      "    R_ind_base, R_theta_base=JointAngles(fw, participant, trial, mark1, mark2, mark3)\n",
      "    \n",
      "    cdf1=thinkstats2.Cdf(R_theta_base)\n",
      "    median_R=cdf1.Percentile(50)\n",
      "    print \"Baseline Median =\", median_R\n",
      "    \n",
      "    trial=WalkTrial\n",
      "    R_ind, R_theta=JointAngles(fw, participant, trial, mark1, mark2, mark3)\n",
      "    \n",
      "    if plot==True:\n",
      "        \n",
      "        thinkplot.Cdf(cdf1)\n",
      "        thinkplot.Show(legend=False, title='Angle Baseline', xlabel='Angle in degrees', ylabel='CDF')\n",
      "        thinkplot.Plot(R_ind_base, R_theta_base)\n",
      "        thinkplot.Config(ylim=[135,145])\n",
      "        thinkplot.Show(legend=False, title='Angle Baseline Time Series', xlabel='Time in frames', ylabel='Angle in degrees')\n",
      "\n",
      "    \n",
      "        cdf3=thinkstats2.Cdf(R_theta)\n",
      "        thinkplot.Cdf(cdf3)\n",
      "        thinkplot.Show(legend=False, title='Walking', xlabel='Angle in degrees', ylabel='CDF')\n",
      "        thinkplot.Plot(R_ind, R_theta)\n",
      "        #thinkplot.Config(ylim=[135,145])\n",
      "        thinkplot.Show(legend=False, title='Walking Time Series', xlabel='Time in frames', ylabel='Angle in degrees')\n",
      "\n",
      "    R_angle_changes=[]\n",
      "\n",
      "    for eachang in R_theta:\n",
      "        R_angle_changes.append(eachang-median_R)\n",
      "        \n",
      "    return R_angle_changes\n",
      "\n",
      "##########################################\n",
      "def RemoveNans(L_angle, R_angle):\n",
      "    \n",
      "    clean_L=[]\n",
      "    clean_R=[]\n",
      "    \n",
      "    for i in range(len(L_angle)):\n",
      "        if np.isnan(L_angle[i]) != True:\n",
      "            clean_L.append(L_angle[i])\n",
      "            \n",
      "        if np.isnan(R_angle[i]) != True:\n",
      "            clean_R.append(R_angle[i])\n",
      "            \n",
      "    return clean_L, clean_R"
     ],
     "language": "python",
     "metadata": {},
     "outputs": [],
     "prompt_number": 4
    },
    {
     "cell_type": "markdown",
     "metadata": {},
     "source": [
      "#### Defines the class and methods needed to conduct a one-sided hypothesis test using sample means"
     ]
    },
    {
     "cell_type": "code",
     "collapsed": false,
     "input": [
      "class KneeAngleHT(thinkstats2.HypothesisTest):\n",
      "    \n",
      "    def TestStatistic(self, data):\n",
      "        raw_group1, raw_group2 = data\n",
      "        \n",
      "        group1=np.asarray(raw_group1)\n",
      "        group2=np.asarray(raw_group2)\n",
      "        \n",
      "        test_stat=group1.mean()-group2.mean()\n",
      "        print \"test_stat=\", test_stat\n",
      "        return test_stat\n",
      "    \n",
      "    def MakeModel(self):\n",
      "        \n",
      "        group1, group2 = self.data\n",
      "        self.n, self.m=len(group1), len(group2)\n",
      "        self.pool=np.hstack((group1, group2))\n",
      "        \n",
      "        #print \"group1len=\", len(group1)\n",
      "        #print \"group2len=\",len(group2)\n",
      "        #print \"poollen=\",len(self.pool)\n",
      "        \n",
      "    def RunModel(self):\n",
      "        np.random.shuffle(self.pool)\n",
      "        data=self.pool[:self.n], self.pool[self.n:]\n",
      "        return data\n",
      "        "
     ],
     "language": "python",
     "metadata": {},
     "outputs": [],
     "prompt_number": 13
    },
    {
     "cell_type": "code",
     "collapsed": false,
     "input": [
      "Raw_AFOR_angle=AngleDiff('AFO', 2, 6, 'R_LAT_KNEE', 'R_TIB', 'R_THIGH', False)\n",
      "Raw_PPAFOR_angle=AngleDiff('PPAFO', 2, 6, 'R_LAT_KNEE', 'R_TIB', 'R_THIGH', False)\n",
      "\n",
      "AFO_angle, PPAFO_angle=RemoveNans(Raw_AFOR_angle, Raw_PPAFOR_angle)\n",
      "\n",
      "test=np.asarray(PPAFO_angle).mean()-np.asarray(AFO_angle).mean()\n",
      "        \n",
      "print \"test=\", test\n",
      "print np.asarray(AFO_angle).mean()\n",
      "print np.asarray(PPAFO_angle).mean()\n",
      "\n",
      "#print AFO_angle\n",
      "data=(PPAFO_angle, AFO_angle)\n",
      "ht=KneeAngleHT(data)\n",
      "\n",
      "pvalue=ht.PValue()\n",
      "\n",
      "print pvalue"
     ],
     "language": "python",
     "metadata": {},
     "outputs": [
      {
       "output_type": "stream",
       "stream": "stdout",
       "text": [
        "Baseline Median = 140.623013599\n",
        "Baseline Median ="
       ]
      },
      {
       "output_type": "stream",
       "stream": "stdout",
       "text": [
        " 141.937205204\n",
        "test="
       ]
      },
      {
       "output_type": "stream",
       "stream": "stdout",
       "text": [
        " -2.41761801268\n",
        "2.91787608233\n",
        "0.500258069648\n",
        "test_stat= -2.41761801268\n",
        "test_stat= -0.199214145825\n",
        "test_stat= 0.45529327975\n",
        "test_stat= -0.259448672096\n",
        "test_stat= -0.142527758046\n",
        "test_stat= 0.598757329847\n",
        "test_stat= -0.157301378795\n",
        "test_stat= 0.0565176289532\n",
        "test_stat= -0.0567846851773\n",
        "test_stat= 0.30127602167\n",
        "test_stat= 0.122224440037\n",
        "test_stat= 0.0909780778731\n",
        "test_stat= 0.0869501478217\n",
        "test_stat= -0.378177516453\n",
        "test_stat= -0.419908651779\n",
        "test_stat= -0.0120856449049\n",
        "test_stat= 0.288802046425\n",
        "test_stat= -0.467951551006\n",
        "test_stat= 0.0741112282743\n",
        "test_stat= 0.162416934108\n",
        "test_stat= -0.0400781960942\n",
        "test_stat= 0.0199325333625\n",
        "test_stat= 0.455925214965\n",
        "test_stat= -0.607020255131\n",
        "test_stat= -0.0731846453403\n",
        "test_stat= -0.456823366449\n",
        "test_stat= 0.384067044074\n",
        "test_stat= 0.482885420282\n",
        "test_stat= 0.170549010765\n",
        "test_stat= -0.302031253672\n",
        "test_stat= -0.18604795543\n",
        "test_stat= -0.0799054687094\n",
        "test_stat= -0.10603720487\n",
        "test_stat= 0.188822631634\n",
        "test_stat= -0.0770916173744\n",
        "test_stat= 0.210700326972\n",
        "test_stat= -0.252739715165\n",
        "test_stat= 0.0814883902779\n",
        "test_stat= -0.0197552367403\n",
        "test_stat= -0.0208367108476\n",
        "test_stat= 0.134440152949\n",
        "test_stat="
       ]
      },
      {
       "output_type": "stream",
       "stream": "stdout",
       "text": [
        " 0.116855018128\n",
        "test_stat= -0.550109354868\n",
        "test_stat= 0.139444694129\n",
        "test_stat= -0.0522298321618\n",
        "test_stat= 0.229118946916\n",
        "test_stat= 0.437014140473\n",
        "test_stat= -0.0425753549674\n",
        "test_stat= -0.544745064978\n",
        "test_stat= -0.206858084415\n",
        "test_stat= -0.0141466175009\n",
        "test_stat= 0.162459488548\n",
        "test_stat= 0.0195524900823\n",
        "test_stat= 0.0339414666999\n",
        "test_stat= -0.0437012724614\n",
        "test_stat= -0.0319145884464\n",
        "test_stat= -0.293749553268\n",
        "test_stat= 0.171365899551\n",
        "test_stat= 0.177664981551\n",
        "test_stat= -0.183402602492\n",
        "test_stat= -0.212722544598\n",
        "test_stat= 0.022916013502\n",
        "test_stat= 0.31100285191\n",
        "test_stat= -0.304163027945\n",
        "test_stat= 0.105850378487\n",
        "test_stat= 0.330071749028\n",
        "test_stat= -0.0659417371405\n",
        "test_stat= -0.414665829494\n",
        "test_stat= 0.0885462215022\n",
        "test_stat= 0.371374440998\n",
        "test_stat= 0.161491231103\n",
        "test_stat= 0.292722426775\n",
        "test_stat= 0.107527028082\n",
        "test_stat= -0.0805157144989\n",
        "test_stat= -0.0226622071708\n",
        "test_stat= 0.393940762484\n",
        "test_stat= -0.14157071864\n",
        "test_stat= 0.300449424299\n",
        "test_stat= 0.00111095625889\n",
        "test_stat= 0.111527342095\n",
        "test_stat="
       ]
      },
      {
       "output_type": "stream",
       "stream": "stdout",
       "text": [
        " -0.00418472326371\n",
        "test_stat= 0.07620502952\n",
        "test_stat= 0.192533071417\n",
        "test_stat= 0.345393894482\n",
        "test_stat= 0.0589932430208\n",
        "test_stat= -0.304229496263\n",
        "test_stat= 0.332981894596\n",
        "test_stat= -0.0372522994709\n",
        "test_stat= 0.0527394205136\n",
        "test_stat= -0.130416885787\n",
        "test_stat= 0.411903576855\n",
        "test_stat= 0.0980935443046\n",
        "test_stat= -0.305288389929\n",
        "test_stat= -0.398069881494\n",
        "test_stat= -0.210364093165\n",
        "test_stat= 0.154699314476\n",
        "test_stat= 0.208558278836\n",
        "test_stat= -0.0774349635497\n",
        "test_stat= -0.313909571933\n",
        "test_stat= 0.0148518846112\n",
        "test_stat= -0.0395038702577\n",
        "test_stat= 0.477865450775\n",
        "test_stat= -0.0545720418762\n",
        "test_stat= 0.295549118618\n",
        "test_stat= 0.0129542369871\n",
        "test_stat= 0.198447936884\n",
        "test_stat= -0.169925549567\n",
        "test_stat= 0.283527167007\n",
        "test_stat= 0.314171336601\n",
        "test_stat= -0.152172636659\n",
        "test_stat= -0.272903671544\n",
        "test_stat= 0.168623073366\n",
        "test_stat= 0.066696010035\n",
        "test_stat= -0.0324508028284\n",
        "test_stat= -0.131229580342\n",
        "test_stat= 0.0463460091482\n",
        "test_stat= 0.00334586809743\n",
        "test_stat= 0.043286844722\n",
        "test_stat= -0.130741462055\n",
        "test_stat= 0.0276011014298\n",
        "test_stat= -0.0131418368846\n",
        "test_stat= 0.509147779599\n",
        "test_stat="
       ]
      },
      {
       "output_type": "stream",
       "stream": "stdout",
       "text": [
        " -0.27361344206\n",
        "test_stat= 0.260250525721\n",
        "test_stat= -0.037023222426\n",
        "test_stat= -0.192409726086\n",
        "test_stat= 0.241894505075\n",
        "test_stat= 0.203348409789\n",
        "test_stat= -0.114660330856\n",
        "test_stat= 0.096436825747\n",
        "test_stat= -0.0425400606411\n",
        "test_stat= -0.130896650374\n",
        "test_stat= 0.125246397094\n",
        "test_stat= 0.107318067467\n",
        "test_stat= -0.21811034178\n",
        "test_stat= -0.126099411991\n",
        "test_stat= -0.121319574523\n",
        "test_stat= -0.201246333539\n",
        "test_stat= -0.1274587934\n",
        "test_stat= -0.12998462396\n",
        "test_stat= -0.279341625626\n",
        "test_stat= 0.0575284379639\n",
        "test_stat= -0.180510561177\n",
        "test_stat= 0.112504319534\n",
        "test_stat= -0.147043246458\n",
        "test_stat= 0.167235693459\n",
        "test_stat= 0.125506045667\n",
        "test_stat= -0.0736827650305\n",
        "test_stat= 0.426699412319\n",
        "test_stat= -0.04926202487\n",
        "test_stat= -0.138525118595\n",
        "test_stat= 0.176602061722\n",
        "test_stat= -0.0808669064048\n",
        "test_stat= 0.00991821085151\n",
        "test_stat= 0.189610985679\n",
        "test_stat= 0.150707096133\n",
        "test_stat= -0.288749946425\n",
        "test_stat= -0.215652469633\n",
        "test_stat= -0.195421098999\n",
        "test_stat= -0.207762294508\n",
        "test_stat= -0.107564294872\n",
        "test_stat= -0.039162528542\n",
        "test_stat= -0.323167136288\n",
        "test_stat= -0.219519818112\n",
        "test_stat= -0.263030312145\n",
        "test_stat= 0.412394571063\n",
        "test_stat= -0.198817280826\n",
        "test_stat= 0.0441630009937\n",
        "test_stat= 0.202690513441\n",
        "test_stat= 0.139722495706\n",
        "test_stat="
       ]
      },
      {
       "output_type": "stream",
       "stream": "stdout",
       "text": [
        " 0.232692862923\n",
        "test_stat= 0.00150895319206\n",
        "test_stat= -0.24865447707\n",
        "test_stat= -0.414538895051\n",
        "test_stat= 0.240805663499\n",
        "test_stat= -0.23472810527\n",
        "test_stat= -0.307388004969\n",
        "test_stat= -0.0363429470555\n",
        "test_stat= -0.144484593012\n",
        "test_stat= -0.432636241536\n",
        "test_stat= 0.222255868467\n",
        "test_stat= 0.00373995375213\n",
        "test_stat= -0.631535794453\n",
        "test_stat= 0.141847587139\n",
        "test_stat= 0.306724160369\n",
        "test_stat= -0.30895973382\n",
        "test_stat= 0.574805722353\n",
        "test_stat= 0.257058011567\n",
        "test_stat= 0.239198082322\n",
        "test_stat= 0.276208885562\n",
        "test_stat= -0.0816457815219\n",
        "test_stat= 0.197491295787\n",
        "test_stat= -0.386630087801\n",
        "test_stat= -0.160369334666\n",
        "test_stat= -0.187522399748\n",
        "test_stat= -0.354774867754\n",
        "test_stat= 0.0759912947362\n",
        "test_stat= 0.19153150309\n",
        "test_stat= -0.181619614342\n",
        "test_stat= -0.219842889263\n",
        "test_stat= -0.519645680311\n",
        "test_stat= -0.0312208765329\n",
        "test_stat= -0.247625229706\n",
        "test_stat= 0.0774843522385\n",
        "test_stat= -0.197381661443\n",
        "test_stat= -0.790304723137\n",
        "test_stat= -0.104260437868\n",
        "test_stat="
       ]
      },
      {
       "output_type": "stream",
       "stream": "stdout",
       "text": [
        " 0.267985979632\n",
        "test_stat= -0.16613491259\n",
        "test_stat= 0.331004600202\n",
        "test_stat= -0.393131772433\n",
        "test_stat= -0.193936293925\n",
        "test_stat= 0.145336044411\n",
        "test_stat= 0.163060676919\n",
        "test_stat= -0.131794781588\n",
        "test_stat= -0.10420451361\n",
        "test_stat= 0.147601578685\n",
        "test_stat= 0.295490814234\n",
        "test_stat= 0.502551143736\n",
        "test_stat= -0.171941705576\n",
        "test_stat= 0.149643929455\n",
        "test_stat= 0.168567668455\n",
        "test_stat= 0.0699790062478\n",
        "test_stat= 0.109635684321\n",
        "test_stat= 0.221627967134\n",
        "test_stat= 0.198464264942\n",
        "test_stat= 0.156746305972\n",
        "test_stat= 0.339668562739\n",
        "test_stat= 0.0198516001304\n",
        "test_stat= 0.153536092722\n",
        "test_stat= -0.00686918113286\n",
        "test_stat= -0.0337866523012\n",
        "test_stat= 0.0155922783489\n",
        "test_stat= 0.267007184618\n",
        "test_stat= -0.136212611038\n",
        "test_stat="
       ]
      },
      {
       "output_type": "stream",
       "stream": "stdout",
       "text": [
        " 0.236903891934\n",
        "test_stat= -0.0537091154202\n",
        "test_stat= 0.0173497003821\n",
        "test_stat= -0.349611151961\n",
        "test_stat= 0.043277882153\n",
        "test_stat= -0.194864143628\n",
        "test_stat= 0.0492460455168\n",
        "test_stat= 0.114492374375\n",
        "test_stat= -0.235007898041\n",
        "test_stat= -0.0942688335479\n",
        "test_stat= -0.107191220794\n",
        "test_stat= 0.123876799543\n",
        "test_stat= 0.0293840543963\n",
        "test_stat= 0.344190530729\n",
        "test_stat= 0.0616531107797\n",
        "test_stat= 0.226013984592\n",
        "test_stat= -0.189431651353\n",
        "test_stat= 0.0390378946967\n",
        "test_stat= -0.297818445142\n",
        "test_stat= -0.178895356094\n",
        "test_stat= -0.0232202695994\n",
        "test_stat= -0.199528851958\n",
        "test_stat= 0.0946934687725\n",
        "test_stat= -0.101061639124\n",
        "test_stat= 0.528633263024\n",
        "test_stat= 0.055831550874\n",
        "test_stat= 0.123274178139\n",
        "test_stat= 0.0696293638413\n",
        "test_stat= 0.12118235415\n",
        "test_stat= -0.102941264549\n",
        "test_stat= -0.100767288721\n",
        "test_stat= -0.109291976294\n",
        "test_stat= 0.201814884037\n",
        "test_stat= 0.408864755417\n",
        "test_stat= 0.374022421814\n",
        "test_stat= -0.459419452629\n",
        "test_stat= 0.384094733285\n",
        "test_stat= 0.229953194741\n",
        "test_stat= "
       ]
      },
      {
       "output_type": "stream",
       "stream": "stdout",
       "text": [
        "-0.0672730134591\n",
        "test_stat= 0.174247796634\n",
        "test_stat= 0.354161651483\n",
        "test_stat= -0.0302968161917\n",
        "test_stat= -0.0348606775271\n",
        "test_stat= -0.385083999382\n",
        "test_stat= 0.232671389211\n",
        "test_stat= 0.495332870868\n",
        "test_stat= -0.285279724129\n",
        "test_stat= -0.242158783931\n",
        "test_stat= 0.0643788709605\n",
        "test_stat= 0.0488491047644\n",
        "test_stat= 0.000285974460364\n",
        "test_stat= 0.502112104481\n",
        "test_stat= 0.403585998896\n",
        "test_stat= 0.203222882759\n",
        "test_stat= 0.544065990425\n",
        "test_stat= 0.283600768006\n",
        "test_stat= 0.174306301334\n",
        "test_stat= 0.103694137625\n",
        "test_stat= -0.274320145029\n",
        "test_stat= 0.248283033031\n",
        "test_stat= -0.363853832642\n",
        "test_stat= -0.375627239253\n",
        "test_stat= -0.0975327315029\n",
        "test_stat= 0.172840233269\n",
        "test_stat= 0.102259965148\n",
        "test_stat= -0.0403617963516\n",
        "test_stat= 0.00450843077003\n",
        "test_stat= -0.395805437232\n",
        "test_stat= -0.115293299855\n",
        "test_stat= 0.0873348696998\n",
        "test_stat= -0.47511897881\n",
        "test_stat= 0.38123641494\n",
        "test_stat= 0.289033409668\n",
        "test_stat= -0.0654546471147\n",
        "test_stat= 0.121324612126\n",
        "test_stat= 0.696053398177\n",
        "test_stat="
       ]
      },
      {
       "output_type": "stream",
       "stream": "stdout",
       "text": [
        " 0.0901891876908\n",
        "test_stat= -0.025790394169\n",
        "test_stat= -0.140320815894\n",
        "test_stat= 0.0708061955546\n",
        "test_stat= -0.168016191915\n",
        "test_stat= -0.0911003937033\n",
        "test_stat= -0.465830057368\n",
        "test_stat= 0.154175773542\n",
        "test_stat= 0.178929950897\n",
        "test_stat= -0.358391139065\n",
        "test_stat= 0.257621304633\n",
        "test_stat= 0.404503131782\n",
        "test_stat= -0.0169350641634\n",
        "test_stat= 0.243048122146\n",
        "test_stat= -0.0681867291568\n",
        "test_stat= 0.462515674435\n",
        "test_stat= 0.362113349518\n",
        "test_stat= 0.373199355807\n",
        "test_stat= 0.52706898037\n",
        "test_stat= 0.174443750463\n",
        "test_stat= -0.142453266121\n",
        "test_stat= 0.459413062853\n",
        "test_stat= -0.120562204935\n",
        "test_stat= -0.335040666703\n",
        "test_stat= -0.243995359472\n",
        "test_stat= 0.463306147871\n",
        "test_stat= 0.177393376135\n",
        "test_stat= -0.6215717197\n",
        "test_stat= 0.780051898134\n",
        "test_stat= 0.171952016762\n",
        "test_stat= -0.0406199508602\n",
        "test_stat= -0.0272641062334\n",
        "test_stat= -0.563862693382\n",
        "test_stat= -0.644782624241\n",
        "test_stat= 0.201894496596\n",
        "test_stat= -0.418905262632\n",
        "test_stat= -0.251029237138\n",
        "test_stat= 0.175711302739\n",
        "test_stat= -0.00997491824342\n",
        "test_stat= -0.0215766162522\n",
        "test_stat= -0.0041162226102\n",
        "test_stat= -0.514988266758\n",
        "test_stat= -0.0655684636614\n",
        "test_stat= -0.387678920618\n",
        "test_stat= 0.0375185192115\n",
        "test_stat= 0.369384051018\n",
        "test_stat= 0.0872625294079\n",
        "test_stat= 0.145752788235\n",
        "test_stat="
       ]
      },
      {
       "output_type": "stream",
       "stream": "stdout",
       "text": [
        " -0.196021556432\n",
        "test_stat= -0.143647991526\n",
        "test_stat= -0.0912792069534\n",
        "test_stat= 0.133246067286\n",
        "test_stat= 0.1646962953\n",
        "test_stat= 0.271991391995\n",
        "test_stat= -0.0810168201439\n",
        "test_stat= 0.441635857872\n",
        "test_stat= -0.294023656418\n",
        "test_stat= 0.253737953846\n",
        "test_stat= 0.466018193324\n",
        "test_stat= 0.150051732044\n",
        "test_stat= -0.225360010594\n",
        "test_stat= 0.207068659585\n",
        "test_stat= 0.38247881874\n",
        "test_stat= 0.10258469568\n",
        "test_stat= -0.0850026732798\n",
        "test_stat= 0.209170499902\n",
        "test_stat= 0.15637987091\n",
        "test_stat= -0.0596661552969\n",
        "test_stat= 0.209534180445\n",
        "test_stat= 0.0790421051795\n",
        "test_stat= -0.187324371482\n",
        "test_stat= -0.0109053557025\n",
        "test_stat= 0.153024878031\n",
        "test_stat= 0.256621762462\n",
        "test_stat= 0.467507114175\n",
        "test_stat= -0.397434226533\n",
        "test_stat= -0.122865263966\n",
        "test_stat= 0.171612123658\n",
        "test_stat= -0.0386835458554\n",
        "test_stat= 0.286346804477\n",
        "test_stat= -0.487557988635\n",
        "test_stat= 0.168802057924\n",
        "test_stat= 0.284926177661\n",
        "test_stat= 0.223238886156\n",
        "test_stat= 0.17725817977\n",
        "test_stat= 0.0319984506265\n",
        "test_stat= -0.0680983296115\n",
        "test_stat= -0.148038295759\n",
        "test_stat= -0.0565352554386\n",
        "test_stat= 0.165781863551\n",
        "test_stat= 0.0450360246501\n",
        "test_stat= 0.0356901146734\n",
        "test_stat= -0.307223009194\n",
        "test_stat= -0.0720756705256\n",
        "test_stat= 0.110800365302\n",
        "test_stat= 0.151006496494\n",
        "test_stat= 0.276600753682\n",
        "test_stat="
       ]
      },
      {
       "output_type": "stream",
       "stream": "stdout",
       "text": [
        " -0.113210641929\n",
        "test_stat= 0.193570179112\n",
        "test_stat= 0.218355077842\n",
        "test_stat= 0.06530897958\n",
        "test_stat= 0.395771320011\n",
        "test_stat= 0.0219369857188\n",
        "test_stat= -0.0750132882159\n",
        "test_stat= 0.390317639614\n",
        "test_stat= -0.0858064673233\n",
        "test_stat= 0.0747637357096\n",
        "test_stat= 0.338238618185\n",
        "test_stat= 0.00087022577465\n",
        "test_stat= -0.383364799395\n",
        "test_stat= -0.119056411313\n",
        "test_stat= -0.448885316634\n",
        "test_stat= -0.327268822859\n",
        "test_stat= -0.0341342966187\n",
        "test_stat= -0.427677038646\n",
        "test_stat= 0.193583465782\n",
        "test_stat= 0.390570392311\n",
        "test_stat= -0.137890631008\n",
        "test_stat= -0.0588818134137\n",
        "test_stat= -0.213956730639\n",
        "test_stat= 0.189781197685\n",
        "test_stat= -0.0192985663254\n",
        "test_stat= -0.0557690156145\n",
        "test_stat= 0.164998829514\n",
        "test_stat= 0.145083235697\n",
        "test_stat= 0.125248940597\n",
        "test_stat= -0.106622598856\n",
        "test_stat= 0.252616145226\n",
        "test_stat= 0.341126310771\n",
        "test_stat= 0.108258758313\n",
        "test_stat= -0.120237787167\n",
        "test_stat= 0.122166117844\n",
        "test_stat= -0.134011081672\n",
        "test_stat= 0.193019840083\n",
        "test_stat= 0.0422691916507\n",
        "test_stat= 0.00849799114107\n",
        "test_stat= -0.0247842055845\n",
        "test_stat= 0.203324488471\n",
        "test_stat= -0.0919578402778\n",
        "test_stat= -0.359937750955\n",
        "test_stat= -0.0883437565894\n",
        "test_stat= 0.0557817659129\n",
        "test_stat= 0.0694803669957\n",
        "test_stat= -0.136351478734\n",
        "test_stat= 0.0288184308769\n",
        "test_stat="
       ]
      },
      {
       "output_type": "stream",
       "stream": "stdout",
       "text": [
        " 0.2255291833\n",
        "test_stat= 0.00909386562605\n",
        "test_stat= -0.147185159851\n",
        "test_stat= -0.0937778909972\n",
        "test_stat= -0.353851398297\n",
        "test_stat= 0.235642779667\n",
        "test_stat= 0.361167013967\n",
        "test_stat= -0.109724400176\n",
        "test_stat= -0.438479236577\n",
        "test_stat= 0.0503511839748\n",
        "test_stat= -0.0812268878488\n",
        "test_stat= 0.0255592010429\n",
        "test_stat= 0.0616320442797\n",
        "test_stat= -0.106516371436\n",
        "test_stat= -0.0319113194052\n",
        "test_stat= -0.254662323138\n",
        "test_stat= -0.203673786554\n",
        "test_stat= -0.165122087567\n",
        "test_stat= -0.259664134703\n",
        "test_stat= 0.0349496305848\n",
        "test_stat= -0.485312056437\n",
        "test_stat= -0.137713690067\n",
        "test_stat= -0.121002320524\n",
        "test_stat= 0.493069695651\n",
        "test_stat= 0.0586457539432\n",
        "test_stat= 0.245432774602\n",
        "test_stat= 0.0279694729573\n",
        "test_stat= 0.16131813921\n",
        "test_stat= 0.420637631611\n",
        "test_stat= -0.539899080732\n",
        "test_stat= 0.299956627505\n",
        "test_stat= -0.243183129313\n",
        "test_stat= 0.434493153694\n",
        "test_stat= 0.464053804849\n",
        "test_stat= 0.0962901687083\n",
        "test_stat= 0.0218638237213\n",
        "test_stat= 0.0148813477463\n",
        "test_stat= 0.107808225858\n",
        "test_stat= -0.164881146096\n",
        "test_stat= -0.0415336205652\n",
        "test_stat= 0.293049572367\n",
        "test_stat= -0.210159286861\n",
        "test_stat= 0.0975165954131\n",
        "test_stat= -0.0353955001463\n",
        "test_stat= 0.596054213207\n",
        "test_stat= 0.032631606028\n",
        "test_stat= 0.384430952022\n",
        "test_stat="
       ]
      },
      {
       "output_type": "stream",
       "stream": "stdout",
       "text": [
        " 0.346800015419\n",
        "test_stat= 0.366477990318\n",
        "test_stat= -0.509104271645\n",
        "test_stat= -0.0606075053421\n",
        "test_stat= -0.251930952353\n",
        "test_stat= -0.261022344072\n",
        "test_stat= -0.146946854314\n",
        "test_stat= 0.137609615642\n",
        "test_stat= -0.247369938685\n",
        "test_stat= -0.0938043168497\n",
        "test_stat= 0.191116413059\n",
        "test_stat= 0.16278907111\n",
        "test_stat= -0.272091432394\n",
        "test_stat= -0.112348157639\n",
        "test_stat= -0.104016529426\n",
        "test_stat= 0.28112664667\n",
        "test_stat= -0.771979947251\n",
        "test_stat= -0.347966167704\n",
        "test_stat= -0.282225899867\n",
        "test_stat= 0.183584626696\n",
        "test_stat= 0.226577586434\n",
        "test_stat= -0.374094464578\n",
        "test_stat= 0.172413659032\n",
        "test_stat= -0.0477224904167\n",
        "test_stat= 0.109473430576\n",
        "test_stat= -0.214614439214\n",
        "test_stat= -0.495476605375\n",
        "test_stat= 0.501144725309\n",
        "test_stat= 0.00573439373479\n",
        "test_stat= 0.143207519852\n",
        "test_stat= -0.152691658859\n",
        "test_stat= 0.0504256890791\n",
        "test_stat= -0.386246129935\n",
        "test_stat= 0.157425015482\n",
        "test_stat= 0.215703633049\n",
        "test_stat= -0.27964831242\n",
        "test_stat= 0.0423984099472\n",
        "test_stat= 0.0990595497539\n",
        "test_stat= -0.254191812123\n",
        "test_stat= -0.332643404825\n",
        "test_stat= 0.00802142367392\n",
        "test_stat= 0.26257398024\n",
        "test_stat= -0.184901757573\n",
        "test_stat= -0.00235604250339\n",
        "test_stat= -0.0628769160449\n",
        "test_stat= 0.152594747258\n",
        "test_stat= -0.117094534485\n",
        "test_stat= -0.134536781324\n",
        "test_stat= -0.0130390284782\n",
        "test_stat= 0.0460070314198\n",
        "test_stat= -0.291717280203\n",
        "test_stat="
       ]
      },
      {
       "output_type": "stream",
       "stream": "stdout",
       "text": [
        " 0.141512619132\n",
        "test_stat= -0.110364547812\n",
        "test_stat= 0.0540586534556\n",
        "test_stat= -0.136199020383\n",
        "test_stat= 0.445302549612\n",
        "test_stat= -0.179683101586\n",
        "test_stat= 0.0096245095241\n",
        "test_stat= 0.139136724153\n",
        "test_stat= 0.373723672107\n",
        "test_stat= 0.194917885977\n",
        "test_stat= 0.120802251953\n",
        "test_stat= -0.0618295331653\n",
        "test_stat= -0.364685018082\n",
        "test_stat= -0.0863963342978\n",
        "test_stat= -0.0311862033939\n",
        "test_stat= -0.382185694788\n",
        "test_stat= -0.163915115449\n",
        "test_stat= -0.400306282953\n",
        "test_stat= 0.11686484796\n",
        "test_stat= -0.166763911239\n",
        "test_stat= -0.00328348301491\n",
        "test_stat= 0.238498991246\n",
        "test_stat= 0.411273123574\n",
        "test_stat= 0.0561558988936\n",
        "test_stat= -0.427894032598\n",
        "test_stat= -0.0932299210887\n",
        "test_stat= 0.415524821679\n",
        "test_stat= -0.200937439931\n",
        "test_stat= -0.210686414718\n",
        "test_stat= 0.568331829747\n",
        "test_stat= -0.140646664034\n",
        "test_stat= 0.0308908612956\n",
        "test_stat= -0.264131594979\n",
        "test_stat= -0.0336055693669\n",
        "test_stat= -0.0109693817626\n",
        "test_stat= -0.393168711708\n",
        "test_stat= -0.380379987569\n",
        "test_stat= 0.036235364298\n",
        "test_stat= 0.0857141401444\n",
        "test_stat= 0.690284000976\n",
        "test_stat= -0.040291159425\n",
        "test_stat= 0.114624119551\n",
        "test_stat= 0.106634624435\n",
        "test_stat= 0.594850441754\n",
        "test_stat= 0.228243565459\n",
        "test_stat= 0.139652659286\n",
        "test_stat= 0.25532337689\n",
        "test_stat= 0.224684408296\n",
        "test_stat= 0.501792767499\n",
        "test_stat= 0.132214653014\n",
        "test_stat="
       ]
      },
      {
       "output_type": "stream",
       "stream": "stdout",
       "text": [
        " -0.299677467335\n",
        "test_stat= -0.285651307646\n",
        "test_stat= -0.497798920828\n",
        "test_stat= -0.323606610787\n",
        "test_stat= -0.0386626737508\n",
        "test_stat= -0.268019694552\n",
        "test_stat= 0.142842388015\n",
        "test_stat= 0.0755618676517\n",
        "test_stat= -0.349782748866\n",
        "test_stat= -0.0788009368506\n",
        "test_stat= -0.322459085544\n",
        "test_stat= -0.162281372204\n",
        "test_stat= -0.0967287880025\n",
        "test_stat= 0.186536386152\n",
        "test_stat= 0.0938682929947\n",
        "test_stat= -0.0143652004188\n",
        "test_stat= 0.00907135841806\n",
        "test_stat= 0.132025074959\n",
        "test_stat= -0.310393041901\n",
        "test_stat= 0.487977350183\n",
        "test_stat= -0.0118887003297\n",
        "test_stat= 0.0490969355093\n",
        "test_stat= 0.104880439228\n",
        "test_stat= 0.521478979859\n",
        "test_stat= -0.0563867114526\n",
        "test_stat= 0.1664173277\n",
        "test_stat= 0.500454803831\n",
        "test_stat= 0.297512148789\n",
        "test_stat= -0.0413175861665\n",
        "test_stat= -0.108266680825\n",
        "test_stat= -0.0804269531841\n",
        "test_stat= -0.0339933990969\n",
        "test_stat= 0.211025796199\n",
        "test_stat= 0.201881790712\n",
        "test_stat= 0.0158314108382\n",
        "test_stat= 0.0267204626448\n",
        "test_stat= -0.277381373723\n",
        "test_stat= 0.237246327709\n",
        "test_stat= 0.120995909389\n",
        "test_stat= -0.43334074133\n",
        "test_stat= 0.2429296964\n",
        "test_stat= -0.296471356782\n",
        "test_stat= 0.0458545578176\n",
        "test_stat= 0.0193115781794\n",
        "test_stat= -0.0285352672897\n",
        "test_stat= -0.257169943365\n",
        "test_stat= 0.135944633937\n",
        "test_stat= -0.42954800754\n",
        "test_stat= -0.414373575385\n",
        "test_stat= 0.417986743771\n",
        "test_stat= 0.0716662723924\n",
        "test_stat="
       ]
      },
      {
       "output_type": "stream",
       "stream": "stdout",
       "text": [
        " -0.0519313777751\n",
        "test_stat= 0.659860397791\n",
        "test_stat= -0.00949756362821\n",
        "test_stat= -0.27294424926\n",
        "test_stat= -0.131881144481\n",
        "test_stat= -0.222473002608\n",
        "test_stat= 0.0713360471099\n",
        "test_stat= -0.189017111758\n",
        "test_stat= -0.108722125351\n",
        "test_stat= -0.165623135252\n",
        "test_stat= -0.0694535246527\n",
        "test_stat= -0.16370852339\n",
        "test_stat= 0.337167721113\n",
        "test_stat= -0.206674821066\n",
        "test_stat= 0.0812556050903\n",
        "test_stat= 0.170051589365\n",
        "test_stat= 0.327027364744\n",
        "test_stat= -0.105056895173\n",
        "test_stat= 0.227782000299\n",
        "test_stat= -0.0862856799977\n",
        "test_stat= 0.28941247335\n",
        "test_stat= -0.127581444095\n",
        "test_stat= 0.112794497197\n",
        "test_stat= -0.197077470107\n",
        "test_stat= -0.244816898923\n",
        "test_stat= 0.0292631081331\n",
        "test_stat= -0.387155937529\n",
        "test_stat= -0.0859146826126\n",
        "test_stat= -0.332792093717\n",
        "test_stat= 0.0252438388933\n",
        "test_stat= 0.193121945339\n",
        "test_stat= 0.0817193342708\n",
        "test_stat= -0.484588532436\n",
        "test_stat= 0.0504991511065\n",
        "test_stat= 0.0373934858086\n",
        "test_stat= 0.282612132915\n",
        "test_stat= 0.412587317001\n",
        "test_stat= -0.0727878651779\n",
        "test_stat= -0.208689727981\n",
        "test_stat= -0.346580309558\n",
        "test_stat= -0.234145305181\n",
        "test_stat= 0.0954436907036\n",
        "test_stat= -0.56654612777\n",
        "test_stat= 0.0644914894617\n",
        "test_stat= 0.251912335686\n",
        "test_stat= -0.128881879626\n",
        "test_stat= 0.370379775058\n",
        "test_stat="
       ]
      },
      {
       "output_type": "stream",
       "stream": "stdout",
       "text": [
        " 0.0139624323636\n",
        "test_stat= 0.0476819694062\n",
        "test_stat= -0.141857455202\n",
        "test_stat= -0.0932027061817\n",
        "test_stat= 0.0508653415181\n",
        "test_stat= -0.620284933352\n",
        "test_stat= -0.380300603526\n",
        "test_stat= 0.0686429567196\n",
        "test_stat= -0.336380000592\n",
        "test_stat= 0.216876724059\n",
        "test_stat= -0.393085137391\n",
        "test_stat= -0.295847302769\n",
        "test_stat= -0.14344193978\n",
        "test_stat= -0.344716926231\n",
        "test_stat= 0.362972850984\n",
        "test_stat= 0.0114017574042\n",
        "test_stat= -0.0355004032809\n",
        "test_stat= 0.22772265307\n",
        "test_stat= -0.000544689306037\n",
        "test_stat= -0.00281114551481\n",
        "test_stat= -0.404620642152\n",
        "test_stat= -0.331165326831\n",
        "test_stat= 0.745734125553\n",
        "test_stat= 0.00293742903712\n",
        "test_stat= 0.0737976971135\n",
        "test_stat= -0.00520480965395\n",
        "test_stat= -0.201652456234\n",
        "test_stat= 0.0437998748257\n",
        "test_stat= 0.023420923986\n",
        "test_stat= -0.342619395776\n",
        "test_stat= -0.0715428537602\n",
        "test_stat= 0.0623219423903\n",
        "test_stat= 0.188097621438\n",
        "test_stat= -0.405699021727\n",
        "test_stat= 0.472932671084\n",
        "test_stat= -0.233739596963\n",
        "test_stat= -0.290418514515\n",
        "test_stat= 0.0566642616131\n",
        "test_stat= -0.220595187484\n",
        "test_stat= 0.130462391394\n",
        "test_stat= 0.0460976135505\n",
        "test_stat= 0.119647583543\n",
        "test_stat= 0.126476064162\n",
        "test_stat= -0.324293195766\n",
        "test_stat= 0.0098585747018\n",
        "test_stat= 0.306598510491\n",
        "test_stat="
       ]
      },
      {
       "output_type": "stream",
       "stream": "stdout",
       "text": [
        " -0.368633734104\n",
        "test_stat= -0.0391816983066\n",
        "test_stat= 0.0622533163215\n",
        "test_stat= -0.471028251503\n",
        "test_stat= 0.195186015176\n",
        "test_stat= 0.117380375883\n",
        "test_stat= 0.0609182990487\n",
        "test_stat= -0.318995334483\n",
        "test_stat= 0.235340927983\n",
        "test_stat= 0.0701815736843\n",
        "test_stat= 0.521709211606\n",
        "test_stat= -0.12654211325\n",
        "test_stat= -0.0906997794271\n",
        "test_stat= -0.0965837493937\n",
        "test_stat= -0.0193631839163\n",
        "test_stat= 0.158101404336\n",
        "test_stat= 0.141771922969\n",
        "test_stat= -0.128707716025\n",
        "test_stat= 0.138454889711\n",
        "test_stat= 0.20757269382\n",
        "test_stat= -0.22758232476\n",
        "test_stat= -0.224112694551\n",
        "test_stat= -0.0586616329295\n",
        "test_stat= 0.042352610941\n",
        "test_stat= 0.41706678117\n",
        "test_stat= -0.19745783848\n",
        "test_stat= -0.165775085271\n",
        "test_stat= -0.193531697682\n",
        "test_stat= 0.193521178283\n",
        "test_stat= -0.554752613804\n",
        "test_stat= 0.232731712508\n",
        "test_stat= -0.0690779762906\n",
        "test_stat= -0.0737664658896\n",
        "test_stat= -0.015149247102\n",
        "test_stat= -0.0628622853375\n",
        "test_stat= -0.3539302768\n",
        "test_stat= 0.273394022967\n",
        "test_stat= 0.380306725166\n",
        "test_stat= 0.123201305602\n",
        "test_stat= 0.100605311837\n",
        "test_stat= 0.0295499228561\n",
        "test_stat= -0.146872365158\n",
        "test_stat= -0.418973200831\n",
        "test_stat= -0.0528059434108\n",
        "test_stat= -0.294037102605\n",
        "test_stat= 0.0569206914806\n",
        "test_stat= 0.136781662667\n",
        "test_stat= 0.183894280426\n",
        "test_stat= -0.280009986707\n",
        "test_stat="
       ]
      },
      {
       "output_type": "stream",
       "stream": "stdout",
       "text": [
        " 0.152864290582\n",
        "test_stat= 0.457938318841\n",
        "test_stat= -0.182198323063\n",
        "test_stat= -0.349333858909\n",
        "test_stat= -0.0521708049943\n",
        "test_stat= -0.32388198211\n",
        "test_stat= -0.241329837407\n",
        "test_stat= 0.101785365889\n",
        "test_stat= -0.251538236727\n",
        "test_stat= 0.0422553591076\n",
        "test_stat= 0.101980849093\n",
        "test_stat= -0.165358973371\n",
        "test_stat= -0.0131605365221\n",
        "test_stat= 0.118353579393\n",
        "test_stat= -0.284666307151\n",
        "test_stat= 0.175935385336\n",
        "test_stat= 0.0738504226117\n",
        "test_stat= -0.086798208749\n",
        "test_stat= -0.00704914230853\n",
        "test_stat= 0.300258724359\n",
        "test_stat= -0.110841884326\n",
        "test_stat= -0.530989951659\n",
        "test_stat= -0.239295254053\n",
        "test_stat= 0.331653090175\n",
        "test_stat= 0.240697603634\n",
        "test_stat= 0.257402204431\n",
        "test_stat= -0.112784210238\n",
        "test_stat= 0.229121381175\n",
        "test_stat= 0.41920724011\n",
        "test_stat= 0.255685017844\n",
        "test_stat= -0.157729444215\n",
        "test_stat= 0.120874977955\n",
        "test_stat= -0.124531966421\n",
        "test_stat= -0.324640054607\n",
        "test_stat= 0.355443442113\n",
        "test_stat="
       ]
      },
      {
       "output_type": "stream",
       "stream": "stdout",
       "text": [
        " 0.274419943406\n",
        "test_stat= 0.206182571348\n",
        "test_stat= -0.281830532155\n",
        "test_stat= 0.553226126655\n",
        "test_stat= 0.00995928818163\n",
        "test_stat= -0.0837142168947\n",
        "test_stat= -0.0138730388312\n",
        "test_stat= -0.0360043335109\n",
        "test_stat= 0.125172734359\n",
        "test_stat= 0.190878376442\n",
        "test_stat= 0.0421567240802\n",
        "test_stat= -0.315078896834\n",
        "test_stat= -0.0962333672614\n",
        "test_stat= -0.000653845208465\n",
        "test_stat= -0.00464323077366\n",
        "test_stat= -0.203047465589\n",
        "test_stat= -0.0773078412546\n",
        "test_stat= -0.205805269906\n",
        "test_stat= -0.145802749904\n",
        "test_stat= 0.0786221754669\n",
        "test_stat= 0.32496568155\n",
        "test_stat= 0.253824396099\n",
        "test_stat= 0.11117770762\n",
        "test_stat= 0.105227626742\n",
        "test_stat= 0.567714562821\n",
        "test_stat= -0.336432041815\n",
        "test_stat= 0.402848667732\n",
        "test_stat= 0.336711210021\n",
        "test_stat= -0.117643762174\n",
        "test_stat= 0.199817995313\n",
        "test_stat= 0.139720649391\n",
        "test_stat= -0.28604781147\n",
        "test_stat= -0.102631463149\n",
        "test_stat= 0.0465647982537\n",
        "test_stat= -0.0866056129782\n",
        "test_stat= 0.0830755002612\n",
        "test_stat="
       ]
      },
      {
       "output_type": "stream",
       "stream": "stdout",
       "text": [
        " -0.208733245827\n",
        "test_stat= -0.340366837778\n",
        "test_stat= -0.244870498631\n",
        "test_stat= 0.212187556511\n",
        "test_stat= 0.198027725946\n",
        "test_stat= 0.271882508549\n",
        "test_stat= 0.270122188889\n",
        "test_stat= -0.0636159517045\n",
        "test_stat= -0.412128107994\n",
        "test_stat= 0.118845504732\n",
        "test_stat= -0.349715432901\n",
        "test_stat= -0.253251816471\n",
        "test_stat= -0.297122504396\n",
        "test_stat= 0.240386950736\n",
        "test_stat= 0.190877829006\n",
        "test_stat= -0.0119603615348\n",
        "test_stat= 0.11145703287\n",
        "test_stat= 0.154112131508\n",
        "test_stat= 0.0492496722599\n",
        "test_stat= -0.234197344153\n",
        "test_stat= 0.196533585078\n",
        "test_stat= -0.180865116236\n",
        "test_stat= -0.687307426625\n",
        "test_stat= 0.211552725741\n",
        "test_stat= 0.148387223611\n",
        "test_stat= -0.200927885926\n",
        "test_stat= -0.140157423685\n",
        "test_stat= -0.319718184157\n",
        "test_stat= -0.0600641318179\n",
        "test_stat= -0.0442286856531\n",
        "test_stat= 0.210640633412\n",
        "test_stat= -0.0804072431608\n",
        "test_stat= 0.334944025588\n",
        "test_stat= -4.5978506269e-05\n",
        "test_stat= -0.220976201071\n",
        "test_stat= 0.314956196664\n",
        "test_stat= -0.304666509869\n",
        "test_stat= -0.0220616006594\n",
        "test_stat="
       ]
      },
      {
       "output_type": "stream",
       "stream": "stdout",
       "text": [
        " 0.356892453013\n",
        "test_stat= 0.159539907541\n",
        "test_stat= -0.197540834112\n",
        "test_stat= 0.213113732253\n",
        "test_stat= -0.176873296605\n",
        "test_stat= -0.137715223203\n",
        "test_stat= 0.15744202536\n",
        "test_stat= -0.366152622333\n",
        "test_stat= 0.00234130161007\n",
        "test_stat= 0.0680819535941\n",
        "test_stat= -0.170291308634\n",
        "test_stat= -0.130940612705\n",
        "test_stat= 0.253288642006\n",
        "test_stat= -0.0523792414235\n",
        "test_stat= 0.283861681267\n",
        "test_stat= 0.180648387865\n",
        "test_stat= 0.14266913854\n",
        "test_stat= 0.251751606083\n",
        "test_stat= 0.377397440452\n",
        "test_stat= 0.349615720633\n",
        "test_stat= -0.032595029884\n",
        "test_stat= -0.37556851654\n",
        "test_stat= -0.0318812541571\n",
        "test_stat= -0.217799460972\n",
        "test_stat= 0.207083502839\n",
        "test_stat= -0.148893217456\n",
        "test_stat= -0.103228622156\n",
        "test_stat= 0.162030693354\n",
        "test_stat= 0.00824878847946\n",
        "test_stat= -0.183877973737\n",
        "test_stat= 0.184769322344\n",
        "test_stat= -0.174293101104\n",
        "test_stat= 0.0420216613452\n",
        "test_stat= -0.0374224031803\n",
        "test_stat= -0.187076098907\n",
        "test_stat= 0.160735788665\n",
        "test_stat= 0.145005910514\n",
        "test_stat= 0.0914473966611\n",
        "test_stat= 0.286090698746\n",
        "test_stat= 0.108670018244\n",
        "test_stat= 0.556031706203\n",
        "test_stat= -0.0594930601758\n",
        "test_stat="
       ]
      },
      {
       "output_type": "stream",
       "stream": "stdout",
       "text": [
        " -0.0817447239225\n",
        "test_stat= 0.177217706065\n",
        "test_stat= 0.0838813511025\n",
        "test_stat= -0.142220022491\n",
        "test_stat= 0.162690360233\n",
        "test_stat= -0.360686489259\n",
        "test_stat= 0.0770104400121\n",
        "test_stat= 0.322126229997\n",
        "test_stat= -0.242444090609\n",
        "test_stat= -0.166936030447\n",
        "test_stat= -0.145038800508\n",
        "test_stat= 0.387547747721\n",
        "test_stat= -0.187833533418\n",
        "test_stat= -0.00300544905594\n",
        "test_stat= -0.5065735518\n",
        "test_stat= -0.376891162786\n",
        "test_stat= -0.23414744579\n",
        "test_stat= -0.186503674007\n",
        "test_stat= 0.160140400366\n",
        "test_stat= 0.0684100253895\n",
        "test_stat= 0.0821127192053\n",
        "test_stat= -0.0148562462385\n",
        "test_stat= -0.0768007825037\n",
        "test_stat= 0.00627237828974\n",
        "test_stat= -0.0478314945606\n",
        "test_stat= 0.269173199306\n",
        "test_stat= -0.149667342185\n",
        "test_stat= -0.114665188048\n",
        "test_stat= 0.465811857007\n",
        "test_stat= 0.0277410972301\n",
        "test_stat= -0.0928734449915\n",
        "test_stat= -0.0959857348237\n",
        "test_stat= -0.0953186542055\n",
        "test_stat= 0.346389264335\n",
        "test_stat= -0.23765443301\n",
        "test_stat= 0.108956985454\n",
        "test_stat= 0.392689225234\n",
        "test_stat= -0.306562361721\n",
        "test_stat= -0.0441408235262\n",
        "test_stat= 0.0806434799148\n",
        "test_stat= -0.177579714433\n",
        "test_stat= 0.245982319048\n",
        "test_stat= 0.213767070894\n",
        "test_stat= 0.113624218039\n",
        "test_stat= 0.391872087538\n",
        "test_stat= -0.158445135399\n",
        "test_stat= -0.251148364191\n",
        "test_stat= 0.0077559792236\n",
        "test_stat= 0.0913814377561\n",
        "test_stat="
       ]
      },
      {
       "output_type": "stream",
       "stream": "stdout",
       "text": [
        " 0.0516994402192\n",
        "test_stat= -0.264661795262\n",
        "test_stat= 0.567840806855\n",
        "test_stat= 0.0996254223617\n",
        "1.0\n"
       ]
      }
     ],
     "prompt_number": 14
    },
    {
     "cell_type": "code",
     "collapsed": false,
     "input": [
      "#print np.asarray(L_angle).mean()"
     ],
     "language": "python",
     "metadata": {},
     "outputs": [
      {
       "ename": "NameError",
       "evalue": "name 'L_angle' is not defined",
       "output_type": "pyerr",
       "traceback": [
        "\u001b[0;31m---------------------------------------------------------------------------\u001b[0m\n\u001b[0;31mNameError\u001b[0m                                 Traceback (most recent call last)",
        "\u001b[0;32m<ipython-input-7-c876b04d389c>\u001b[0m in \u001b[0;36m<module>\u001b[0;34m()\u001b[0m\n\u001b[0;32m----> 1\u001b[0;31m \u001b[0;32mprint\u001b[0m \u001b[0mnp\u001b[0m\u001b[0;34m.\u001b[0m\u001b[0masarray\u001b[0m\u001b[0;34m(\u001b[0m\u001b[0mL_angle\u001b[0m\u001b[0;34m)\u001b[0m\u001b[0;34m.\u001b[0m\u001b[0mmean\u001b[0m\u001b[0;34m(\u001b[0m\u001b[0;34m)\u001b[0m\u001b[0;34m\u001b[0m\u001b[0m\n\u001b[0m",
        "\u001b[0;31mNameError\u001b[0m: name 'L_angle' is not defined"
       ]
      }
     ],
     "prompt_number": 7
    }
   ],
   "metadata": {}
  }
 ]
}