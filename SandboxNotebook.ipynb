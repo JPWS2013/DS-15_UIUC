{
 "metadata": {
  "name": "",
  "signature": "sha256:e1e2c9da2c8ff1d405487a2b45e88a39744f61e9c7155f9e077f30dec56659e7"
 },
 "nbformat": 3,
 "nbformat_minor": 0,
 "worksheets": [
  {
   "cells": [
    {
     "cell_type": "markdown",
     "metadata": {},
     "source": [
      "##Sandbox iPython Notebook\n",
      "\n",
      "This notebook is meant to serve as a sandbox for testing code written for the project."
     ]
    },
    {
     "cell_type": "code",
     "collapsed": false,
     "input": [
      "%matplotlib inline\n",
      "%precision 3"
     ],
     "language": "python",
     "metadata": {},
     "outputs": [
      {
       "metadata": {},
       "output_type": "pyout",
       "prompt_number": 2,
       "text": [
        "u'%.3f'"
       ]
      }
     ],
     "prompt_number": 2
    },
    {
     "cell_type": "code",
     "collapsed": false,
     "input": [
      "import ReadCsvs as rc\n",
      "\n",
      "AFO, PPAFO, Shoes=rc.ReadGaitData()"
     ],
     "language": "python",
     "metadata": {},
     "outputs": [
      {
       "output_type": "stream",
       "stream": "stdout",
       "text": [
        "Sub001_6MW_AFO_0001.mat\n",
        "Sub001_6MW_AFO_0002.mat"
       ]
      },
      {
       "output_type": "stream",
       "stream": "stdout",
       "text": [
        "\n",
        "Sub001_6MW_AFO_0003.mat"
       ]
      },
      {
       "output_type": "stream",
       "stream": "stdout",
       "text": [
        "\n",
        "Sub001_6MW_AFO_0004.mat"
       ]
      },
      {
       "output_type": "stream",
       "stream": "stdout",
       "text": [
        "\n",
        "Sub001_6MW_AFO_0005.mat"
       ]
      },
      {
       "output_type": "stream",
       "stream": "stdout",
       "text": [
        "\n",
        "Sub001_6MW_AFO_0006.mat"
       ]
      },
      {
       "output_type": "stream",
       "stream": "stdout",
       "text": [
        "\n",
        "Sub001_6MW_AFO_0007.mat"
       ]
      },
      {
       "output_type": "stream",
       "stream": "stdout",
       "text": [
        "\n",
        "Sub001_6MW_AFO_0008.mat"
       ]
      },
      {
       "output_type": "stream",
       "stream": "stdout",
       "text": [
        "\n",
        "Sub001_6MW_AFO_0009.mat"
       ]
      },
      {
       "output_type": "stream",
       "stream": "stdout",
       "text": [
        "\n",
        "Sub001_6MW_PPAFO_0001.mat"
       ]
      },
      {
       "output_type": "stream",
       "stream": "stdout",
       "text": [
        "\n",
        "Sub001_6MW_PPAFO_0002.mat"
       ]
      },
      {
       "output_type": "stream",
       "stream": "stdout",
       "text": [
        "\n",
        "Sub001_6MW_PPAFO_0003.mat"
       ]
      },
      {
       "output_type": "stream",
       "stream": "stdout",
       "text": [
        "\n",
        "Sub001_6MW_PPAFO_0004.mat"
       ]
      },
      {
       "output_type": "stream",
       "stream": "stdout",
       "text": [
        "\n",
        "Sub001_6MW_PPAFO_0005.mat"
       ]
      },
      {
       "output_type": "stream",
       "stream": "stdout",
       "text": [
        "\n",
        "Sub001_6MW_PPAFO_0006.mat"
       ]
      },
      {
       "output_type": "stream",
       "stream": "stdout",
       "text": [
        "\n",
        "Sub001_6MW_PPAFO_0007.mat"
       ]
      },
      {
       "output_type": "stream",
       "stream": "stdout",
       "text": [
        "\n",
        "Sub001_6MW_PPAFO_0008.mat"
       ]
      },
      {
       "output_type": "stream",
       "stream": "stdout",
       "text": [
        "\n",
        "Sub001_6MW_PPAFO_0009.mat"
       ]
      },
      {
       "output_type": "stream",
       "stream": "stdout",
       "text": [
        "\n",
        "Sub001_6MW_Shoes_0001.mat"
       ]
      },
      {
       "output_type": "stream",
       "stream": "stdout",
       "text": [
        "\n",
        "Sub001_6MW_Shoes_0002.mat"
       ]
      },
      {
       "output_type": "stream",
       "stream": "stdout",
       "text": [
        "\n",
        "Sub001_6MW_Shoes_0003.mat"
       ]
      },
      {
       "output_type": "stream",
       "stream": "stdout",
       "text": [
        "\n",
        "Sub001_6MW_Shoes_0004.mat"
       ]
      },
      {
       "output_type": "stream",
       "stream": "stdout",
       "text": [
        "\n",
        "Sub001_6MW_Shoes_0005.mat"
       ]
      },
      {
       "output_type": "stream",
       "stream": "stdout",
       "text": [
        "\n",
        "Sub001_6MW_Shoes_0006.mat"
       ]
      },
      {
       "output_type": "stream",
       "stream": "stdout",
       "text": [
        "\n",
        "Sub001_6MW_Shoes_0007.mat"
       ]
      },
      {
       "output_type": "stream",
       "stream": "stdout",
       "text": [
        "\n",
        "Sub001_6MW_Shoes_0008.mat"
       ]
      },
      {
       "output_type": "stream",
       "stream": "stdout",
       "text": [
        "\n",
        "Sub001_6MW_Shoes_0009.mat"
       ]
      },
      {
       "output_type": "stream",
       "stream": "stdout",
       "text": [
        "\n",
        "Sub002_6MW_AFO_0001.mat"
       ]
      },
      {
       "output_type": "stream",
       "stream": "stdout",
       "text": [
        "\n",
        "Sub002_6MW_AFO_0002.mat"
       ]
      },
      {
       "output_type": "stream",
       "stream": "stdout",
       "text": [
        "\n",
        "Sub002_6MW_AFO_0003.mat"
       ]
      },
      {
       "output_type": "stream",
       "stream": "stdout",
       "text": [
        "\n",
        "Sub002_6MW_AFO_0004.mat"
       ]
      },
      {
       "output_type": "stream",
       "stream": "stdout",
       "text": [
        "\n",
        "Sub002_6MW_AFO_0005.mat"
       ]
      },
      {
       "output_type": "stream",
       "stream": "stdout",
       "text": [
        "\n",
        "Sub002_6MW_AFO_0006.mat"
       ]
      },
      {
       "output_type": "stream",
       "stream": "stdout",
       "text": [
        "\n",
        "Sub002_6MW_AFO_0007.mat"
       ]
      },
      {
       "output_type": "stream",
       "stream": "stdout",
       "text": [
        "\n",
        "Sub002_6MW_AFO_0008.mat"
       ]
      },
      {
       "output_type": "stream",
       "stream": "stdout",
       "text": [
        "\n",
        "Sub002_6MW_AFO_0009.mat"
       ]
      },
      {
       "output_type": "stream",
       "stream": "stdout",
       "text": [
        "\n",
        "Sub002_6MW_PPAFO_0001.mat"
       ]
      },
      {
       "output_type": "stream",
       "stream": "stdout",
       "text": [
        "\n",
        "Sub002_6MW_PPAFO_0002.mat"
       ]
      },
      {
       "output_type": "stream",
       "stream": "stdout",
       "text": [
        "\n",
        "Sub002_6MW_PPAFO_0003.mat"
       ]
      },
      {
       "output_type": "stream",
       "stream": "stdout",
       "text": [
        "\n",
        "Sub002_6MW_PPAFO_0004.mat"
       ]
      },
      {
       "output_type": "stream",
       "stream": "stdout",
       "text": [
        "\n",
        "Sub002_6MW_PPAFO_0005.mat"
       ]
      },
      {
       "output_type": "stream",
       "stream": "stdout",
       "text": [
        "\n",
        "Sub002_6MW_PPAFO_0006.mat"
       ]
      },
      {
       "output_type": "stream",
       "stream": "stdout",
       "text": [
        "\n",
        "Sub002_6MW_PPAFO_0007.mat"
       ]
      },
      {
       "output_type": "stream",
       "stream": "stdout",
       "text": [
        "\n",
        "Sub002_6MW_PPAFO_0008.mat"
       ]
      },
      {
       "output_type": "stream",
       "stream": "stdout",
       "text": [
        "\n",
        "Sub002_6MW_Shoe_0001.mat"
       ]
      },
      {
       "output_type": "stream",
       "stream": "stdout",
       "text": [
        "\n",
        "Sub002_6MW_Shoe_0002.mat"
       ]
      },
      {
       "output_type": "stream",
       "stream": "stdout",
       "text": [
        "\n",
        "Sub002_6MW_Shoe_0003.mat"
       ]
      },
      {
       "output_type": "stream",
       "stream": "stdout",
       "text": [
        "\n",
        "Sub002_6MW_Shoe_0004.mat"
       ]
      },
      {
       "output_type": "stream",
       "stream": "stdout",
       "text": [
        "\n",
        "Sub002_6MW_Shoe_0005.mat"
       ]
      },
      {
       "output_type": "stream",
       "stream": "stdout",
       "text": [
        "\n",
        "Sub002_6MW_Shoe_0006.mat"
       ]
      },
      {
       "output_type": "stream",
       "stream": "stdout",
       "text": [
        "\n",
        "Sub002_6MW_Shoe_0007.mat"
       ]
      },
      {
       "output_type": "stream",
       "stream": "stdout",
       "text": [
        "\n",
        "Sub002_6MW_Shoe_0008.mat"
       ]
      },
      {
       "output_type": "stream",
       "stream": "stdout",
       "text": [
        "\n",
        "BAD_DATA_Sub003_6MW_AFO_0005.mat"
       ]
      },
      {
       "output_type": "stream",
       "stream": "stdout",
       "text": [
        "\n",
        "Sub003_6MW_AFO_0001.mat\n",
        "Sub003_6MW_AFO_0002.mat"
       ]
      },
      {
       "output_type": "stream",
       "stream": "stdout",
       "text": [
        "\n",
        "Sub003_6MW_AFO_0003.mat"
       ]
      },
      {
       "output_type": "stream",
       "stream": "stdout",
       "text": [
        "\n",
        "Sub003_6MW_AFO_0005.mat"
       ]
      },
      {
       "output_type": "stream",
       "stream": "stdout",
       "text": [
        "\n",
        "Sub003_6MW_AFO_0006.mat\n",
        "Sub003_6MW_AFO_0007.mat"
       ]
      },
      {
       "output_type": "stream",
       "stream": "stdout",
       "text": [
        "\n",
        "Sub003_6MW_AFO_0008.mat"
       ]
      },
      {
       "output_type": "stream",
       "stream": "stdout",
       "text": [
        "\n",
        "Sub003_6MW_AFO_0009.mat"
       ]
      },
      {
       "output_type": "stream",
       "stream": "stdout",
       "text": [
        "\n",
        "Sub003_6MW_PPAFO_0003.mat"
       ]
      },
      {
       "output_type": "stream",
       "stream": "stdout",
       "text": [
        "\n",
        "Sub003_6MW_PPAFO_0004.mat"
       ]
      },
      {
       "output_type": "stream",
       "stream": "stdout",
       "text": [
        "\n",
        "Sub003_6MW_PPAFO_0005.mat"
       ]
      },
      {
       "output_type": "stream",
       "stream": "stdout",
       "text": [
        "\n",
        "Sub003_6MW_PPAFO_0006.mat"
       ]
      },
      {
       "output_type": "stream",
       "stream": "stdout",
       "text": [
        "\n",
        "Sub003_6MW_PPAFO_0007.mat"
       ]
      },
      {
       "output_type": "stream",
       "stream": "stdout",
       "text": [
        "\n",
        "Sub003_6MW_PPAFO_0008.mat"
       ]
      },
      {
       "output_type": "stream",
       "stream": "stdout",
       "text": [
        "\n",
        "Sub003_6MW_PPAFO_0009.mat"
       ]
      },
      {
       "output_type": "stream",
       "stream": "stdout",
       "text": [
        "\n",
        "Sub003_6MW_Shoe_0001.mat"
       ]
      },
      {
       "output_type": "stream",
       "stream": "stdout",
       "text": [
        "\n",
        "Sub003_6MW_Shoe_0002.mat"
       ]
      },
      {
       "output_type": "stream",
       "stream": "stdout",
       "text": [
        "\n",
        "Sub003_6MW_Shoe_0003.mat"
       ]
      },
      {
       "output_type": "stream",
       "stream": "stdout",
       "text": [
        "\n",
        "Sub003_6MW_Shoe_0004.mat"
       ]
      },
      {
       "output_type": "stream",
       "stream": "stdout",
       "text": [
        "\n",
        "Sub003_6MW_Shoe_0005.mat"
       ]
      },
      {
       "output_type": "stream",
       "stream": "stdout",
       "text": [
        "\n",
        "Sub003_6MW_Shoe_0006.mat"
       ]
      },
      {
       "output_type": "stream",
       "stream": "stdout",
       "text": [
        "\n",
        "Sub003_6MW_Shoe_0007.mat"
       ]
      },
      {
       "output_type": "stream",
       "stream": "stdout",
       "text": [
        "\n",
        "Sub003_6MW_Shoe_0008.mat"
       ]
      },
      {
       "output_type": "stream",
       "stream": "stdout",
       "text": [
        "\n",
        "Sub003_6MW_Shoe_0009.mat"
       ]
      },
      {
       "output_type": "stream",
       "stream": "stdout",
       "text": [
        "\n",
        "Sub003_6MW_Shoe_0010.mat"
       ]
      },
      {
       "output_type": "stream",
       "stream": "stdout",
       "text": [
        "\n",
        "Sub003_6MW_Shoe_0011.mat"
       ]
      },
      {
       "output_type": "stream",
       "stream": "stdout",
       "text": [
        "\n",
        "Sub004_6MW_AFO_0001.mat"
       ]
      },
      {
       "output_type": "stream",
       "stream": "stdout",
       "text": [
        "\n",
        "Sub004_6MW_AFO_0002.mat"
       ]
      },
      {
       "output_type": "stream",
       "stream": "stdout",
       "text": [
        "\n",
        "Sub004_6MW_AFO_0003.mat"
       ]
      },
      {
       "output_type": "stream",
       "stream": "stdout",
       "text": [
        "\n",
        "Sub004_6MW_AFO_0004.mat"
       ]
      },
      {
       "output_type": "stream",
       "stream": "stdout",
       "text": [
        "\n",
        "Sub004_6MW_PPAFO_0001.mat"
       ]
      },
      {
       "output_type": "stream",
       "stream": "stdout",
       "text": [
        "\n",
        "Sub004_6MW_PPAFO_0002.mat"
       ]
      },
      {
       "output_type": "stream",
       "stream": "stdout",
       "text": [
        "\n",
        "Sub004_6MW_PPAFO_0003.mat"
       ]
      },
      {
       "output_type": "stream",
       "stream": "stdout",
       "text": [
        "\n",
        "Sub004_6MW_PPAFO_0004.mat"
       ]
      },
      {
       "output_type": "stream",
       "stream": "stdout",
       "text": [
        "\n",
        "Sub004_6MW_PPAFO_0005.mat"
       ]
      },
      {
       "output_type": "stream",
       "stream": "stdout",
       "text": [
        "\n",
        "Sub004_6MW_PPAFO_0006.mat"
       ]
      },
      {
       "output_type": "stream",
       "stream": "stdout",
       "text": [
        "\n",
        "Sub004_6MW_Shoes_0001.mat"
       ]
      },
      {
       "output_type": "stream",
       "stream": "stdout",
       "text": [
        "\n",
        "Sub004_6MW_Shoes_0002.mat"
       ]
      },
      {
       "output_type": "stream",
       "stream": "stdout",
       "text": [
        "\n",
        "Sub004_6MW_Shoes_0003.mat"
       ]
      },
      {
       "output_type": "stream",
       "stream": "stdout",
       "text": [
        "\n",
        "Sub004_6MW_Shoes_0004.mat"
       ]
      },
      {
       "output_type": "stream",
       "stream": "stdout",
       "text": [
        "\n",
        "Sub004_6MW_Shoes_0005.mat"
       ]
      },
      {
       "output_type": "stream",
       "stream": "stdout",
       "text": [
        "\n",
        "Sub005_6MW_AFO_0001.mat"
       ]
      },
      {
       "output_type": "stream",
       "stream": "stdout",
       "text": [
        "\n",
        "Sub005_6MW_AFO_0002.mat"
       ]
      },
      {
       "output_type": "stream",
       "stream": "stdout",
       "text": [
        "\n",
        "Sub005_6MW_AFO_0003.mat"
       ]
      },
      {
       "output_type": "stream",
       "stream": "stdout",
       "text": [
        "\n",
        "Sub005_6MW_AFO_0004.mat"
       ]
      },
      {
       "output_type": "stream",
       "stream": "stdout",
       "text": [
        "\n",
        "Sub005_6MW_AFO_0006.mat"
       ]
      },
      {
       "output_type": "stream",
       "stream": "stdout",
       "text": [
        "\n",
        "Sub005_6MW_AFO_0007.mat"
       ]
      },
      {
       "output_type": "stream",
       "stream": "stdout",
       "text": [
        "\n",
        "Sub005_6MW_AFO_0008.mat"
       ]
      },
      {
       "output_type": "stream",
       "stream": "stdout",
       "text": [
        "\n",
        "Sub005_6MW_AFO_0009.mat"
       ]
      },
      {
       "output_type": "stream",
       "stream": "stdout",
       "text": [
        "\n",
        "Sub005_6MW_AFO_0010.mat"
       ]
      },
      {
       "output_type": "stream",
       "stream": "stdout",
       "text": [
        "\n",
        "Sub005_6MW_AFO_0011.mat"
       ]
      },
      {
       "output_type": "stream",
       "stream": "stdout",
       "text": [
        "\n",
        "Sub005_6MW_AFO_0012.mat"
       ]
      },
      {
       "output_type": "stream",
       "stream": "stdout",
       "text": [
        "\n",
        "Sub005_6MW_AFO_0013.mat"
       ]
      },
      {
       "output_type": "stream",
       "stream": "stdout",
       "text": [
        "\n",
        "Sub005_6MW_PPAFO_0001.mat"
       ]
      },
      {
       "output_type": "stream",
       "stream": "stdout",
       "text": [
        "\n",
        "Sub005_6MW_PPAFO_0002.mat"
       ]
      },
      {
       "output_type": "stream",
       "stream": "stdout",
       "text": [
        "\n",
        "Sub005_6MW_PPAFO_0003.mat"
       ]
      },
      {
       "output_type": "stream",
       "stream": "stdout",
       "text": [
        "\n",
        "Sub005_6MW_PPAFO_0006_static.mat"
       ]
      },
      {
       "output_type": "stream",
       "stream": "stdout",
       "text": [
        "\n",
        "Sub005_6MW_PPAFO_0007.mat"
       ]
      },
      {
       "output_type": "stream",
       "stream": "stdout",
       "text": [
        "\n",
        "Sub005_6MW_PPAFO_0008_static.mat"
       ]
      },
      {
       "output_type": "stream",
       "stream": "stdout",
       "text": [
        "\n",
        "Sub005_6MW_PPAFO_0009.mat"
       ]
      },
      {
       "output_type": "stream",
       "stream": "stdout",
       "text": [
        "\n",
        "Sub005_6MW_PPAFO_0010.mat"
       ]
      },
      {
       "output_type": "stream",
       "stream": "stdout",
       "text": [
        "\n",
        "Sub005_6MW_PPAFO_0011.mat"
       ]
      },
      {
       "output_type": "stream",
       "stream": "stdout",
       "text": [
        "\n",
        "Sub005_6MW_PPAFO_0012.mat"
       ]
      },
      {
       "output_type": "stream",
       "stream": "stdout",
       "text": [
        "\n",
        "Sub005_6MW_PPAFO_0013.mat"
       ]
      },
      {
       "output_type": "stream",
       "stream": "stdout",
       "text": [
        "\n",
        "Sub005_6MW_PPAFO_0016.mat"
       ]
      },
      {
       "output_type": "stream",
       "stream": "stdout",
       "text": [
        "\n",
        "Sub005_6MW_Shoes_0001_Static_good.mat"
       ]
      },
      {
       "output_type": "stream",
       "stream": "stdout",
       "text": [
        "\n",
        "Sub005_6MW_Shoes_0002_static.mat"
       ]
      },
      {
       "output_type": "stream",
       "stream": "stdout",
       "text": [
        "\n",
        "Sub005_6MW_Shoes_0003_static.mat"
       ]
      },
      {
       "output_type": "stream",
       "stream": "stdout",
       "text": [
        "\n",
        "Sub005_6MW_Shoes_0004.mat"
       ]
      },
      {
       "output_type": "stream",
       "stream": "stdout",
       "text": [
        "\n",
        "Sub005_6MW_Shoes_0006.mat"
       ]
      },
      {
       "output_type": "stream",
       "stream": "stdout",
       "text": [
        "\n",
        "Sub005_6MW_Shoes_0007.mat"
       ]
      },
      {
       "output_type": "stream",
       "stream": "stdout",
       "text": [
        "\n",
        "Sub005_6MW_Shoes_0008.mat"
       ]
      },
      {
       "output_type": "stream",
       "stream": "stdout",
       "text": [
        "\n",
        "Sub005_6MW_Shoes_0009.mat"
       ]
      },
      {
       "output_type": "stream",
       "stream": "stdout",
       "text": [
        "\n",
        "Sub005_6MW_Shoes_0010.mat"
       ]
      },
      {
       "output_type": "stream",
       "stream": "stdout",
       "text": [
        "\n",
        "Sub005_6MW_Shoes_0012.mat"
       ]
      },
      {
       "output_type": "stream",
       "stream": "stdout",
       "text": [
        "\n",
        "Sub005_6MW_Shoes_0013.mat"
       ]
      },
      {
       "output_type": "stream",
       "stream": "stdout",
       "text": [
        "\n",
        "Sub007_6MW_AFO_0008.mat"
       ]
      },
      {
       "output_type": "stream",
       "stream": "stdout",
       "text": [
        "\n",
        "Sub007_6MW_AFO_0009.mat"
       ]
      },
      {
       "output_type": "stream",
       "stream": "stdout",
       "text": [
        "\n",
        "Sub007_6MW_AFO_0010.mat"
       ]
      },
      {
       "output_type": "stream",
       "stream": "stdout",
       "text": [
        "\n",
        "Sub007_6MW_AFO_0011.mat"
       ]
      },
      {
       "output_type": "stream",
       "stream": "stdout",
       "text": [
        "\n",
        "Sub007_6MW_AFO_0012.mat"
       ]
      },
      {
       "output_type": "stream",
       "stream": "stdout",
       "text": [
        "\n",
        "Sub007_6MW_PPAFO_0001.mat"
       ]
      },
      {
       "output_type": "stream",
       "stream": "stdout",
       "text": [
        "\n",
        "Sub007_6MW_PPAFO_0002.mat"
       ]
      },
      {
       "output_type": "stream",
       "stream": "stdout",
       "text": [
        "\n",
        "Sub007_6MW_PPAFO_0003.mat"
       ]
      },
      {
       "output_type": "stream",
       "stream": "stdout",
       "text": [
        "\n",
        "Sub007_6MW_PPAFO_0004.mat"
       ]
      },
      {
       "output_type": "stream",
       "stream": "stdout",
       "text": [
        "\n",
        "Sub007_6MW_PPAFO_0005.mat"
       ]
      },
      {
       "output_type": "stream",
       "stream": "stdout",
       "text": [
        "\n",
        "Sub007_6MW_PPAFO_0006.mat"
       ]
      },
      {
       "output_type": "stream",
       "stream": "stdout",
       "text": [
        "\n",
        "Sub007_6MW_Shoes_0001.mat"
       ]
      },
      {
       "output_type": "stream",
       "stream": "stdout",
       "text": [
        "\n",
        "Sub007_6MW_Shoes_0002.mat"
       ]
      },
      {
       "output_type": "stream",
       "stream": "stdout",
       "text": [
        "\n",
        "Sub007_6MW_Shoes_0003.mat"
       ]
      },
      {
       "output_type": "stream",
       "stream": "stdout",
       "text": [
        "\n",
        "Sub007_6MW_Shoes_0004.mat"
       ]
      },
      {
       "output_type": "stream",
       "stream": "stdout",
       "text": [
        "\n",
        "Sub007_6MW_Shoes_0005.mat"
       ]
      },
      {
       "output_type": "stream",
       "stream": "stdout",
       "text": [
        "\n",
        "Sub007_6MW_Shoes_0006.mat"
       ]
      },
      {
       "output_type": "stream",
       "stream": "stdout",
       "text": [
        "\n",
        "Sub009_6MW_AFO_0001.mat"
       ]
      },
      {
       "output_type": "stream",
       "stream": "stdout",
       "text": [
        "\n",
        "Sub009_6MW_AFO_0002.mat"
       ]
      },
      {
       "output_type": "stream",
       "stream": "stdout",
       "text": [
        "\n",
        "Sub009_6MW_AFO_0003.mat"
       ]
      },
      {
       "output_type": "stream",
       "stream": "stdout",
       "text": [
        "\n",
        "Sub009_6MW_AFO_0004.mat"
       ]
      },
      {
       "output_type": "stream",
       "stream": "stdout",
       "text": [
        "\n",
        "Sub009_6MW_AFO_0005.mat"
       ]
      },
      {
       "output_type": "stream",
       "stream": "stdout",
       "text": [
        "\n",
        "Sub009_6MW_PPAFO_0001.mat"
       ]
      },
      {
       "output_type": "stream",
       "stream": "stdout",
       "text": [
        "\n",
        "Sub009_6MW_PPAFO_0002_static.mat"
       ]
      },
      {
       "output_type": "stream",
       "stream": "stdout",
       "text": [
        "\n",
        "Sub009_6MW_PPAFO_0003.mat"
       ]
      },
      {
       "output_type": "stream",
       "stream": "stdout",
       "text": [
        "\n",
        "Sub009_6MW_PPAFO_0004.mat"
       ]
      },
      {
       "output_type": "stream",
       "stream": "stdout",
       "text": [
        "\n",
        "Sub009_6MW_PPAFO_0005.mat"
       ]
      },
      {
       "output_type": "stream",
       "stream": "stdout",
       "text": [
        "\n",
        "Sub009_6MW_PPAFO_0006.mat"
       ]
      },
      {
       "output_type": "stream",
       "stream": "stdout",
       "text": [
        "\n",
        "Sub009_6MW_Shoes_0001.mat"
       ]
      },
      {
       "output_type": "stream",
       "stream": "stdout",
       "text": [
        "\n",
        "Sub009_6MW_Shoes_0002.mat"
       ]
      },
      {
       "output_type": "stream",
       "stream": "stdout",
       "text": [
        "\n",
        "Sub009_6MW_Shoes_0003.mat"
       ]
      },
      {
       "output_type": "stream",
       "stream": "stdout",
       "text": [
        "\n",
        "Sub009_6MW_Shoes_0004.mat"
       ]
      },
      {
       "output_type": "stream",
       "stream": "stdout",
       "text": [
        "\n",
        "Sub010_6MW_AFO_0001.mat"
       ]
      },
      {
       "output_type": "stream",
       "stream": "stdout",
       "text": [
        "\n",
        "Sub010_6MW_AFO_0002.mat"
       ]
      },
      {
       "output_type": "stream",
       "stream": "stdout",
       "text": [
        "\n",
        "Sub010_6MW_AFO_0003.mat"
       ]
      },
      {
       "output_type": "stream",
       "stream": "stdout",
       "text": [
        "\n",
        "Sub010_6MW_AFO_0004.mat"
       ]
      },
      {
       "output_type": "stream",
       "stream": "stdout",
       "text": [
        "\n",
        "Sub010_6MW_AFO_0005.mat"
       ]
      },
      {
       "output_type": "stream",
       "stream": "stdout",
       "text": [
        "\n",
        "Sub010_6MW_PPAFO_0001.mat"
       ]
      },
      {
       "output_type": "stream",
       "stream": "stdout",
       "text": [
        "\n",
        "Sub010_6MW_PPAFO_0002.mat"
       ]
      },
      {
       "output_type": "stream",
       "stream": "stdout",
       "text": [
        "\n",
        "Sub010_6MW_PPAFO_0003.mat"
       ]
      },
      {
       "output_type": "stream",
       "stream": "stdout",
       "text": [
        "\n",
        "Sub010_6MW_PPAFO_0004.mat"
       ]
      },
      {
       "output_type": "stream",
       "stream": "stdout",
       "text": [
        "\n",
        "Sub010_6MW_PPAFO_0005.mat"
       ]
      },
      {
       "output_type": "stream",
       "stream": "stdout",
       "text": [
        "\n",
        "Sub010_6MW_PPAFO_0006.mat"
       ]
      },
      {
       "output_type": "stream",
       "stream": "stdout",
       "text": [
        "\n",
        "Sub010_6MW_Shoes_0004.mat"
       ]
      },
      {
       "output_type": "stream",
       "stream": "stdout",
       "text": [
        "\n",
        "Sub010_6MW_Shoes_0005.mat"
       ]
      },
      {
       "output_type": "stream",
       "stream": "stdout",
       "text": [
        "\n",
        "Sub010_6MW_Shoes_0006.mat"
       ]
      },
      {
       "output_type": "stream",
       "stream": "stdout",
       "text": [
        "\n",
        "Sub010_6MW_Shoes_0007.mat"
       ]
      },
      {
       "output_type": "stream",
       "stream": "stdout",
       "text": [
        "\n",
        "Sub010_6MW_Shoes_0008.mat"
       ]
      },
      {
       "output_type": "stream",
       "stream": "stdout",
       "text": [
        "\n",
        "Sub011_6MW_AFO_0001.mat\n",
        "Sub011_6MW_AFO_0002.mat"
       ]
      },
      {
       "output_type": "stream",
       "stream": "stdout",
       "text": [
        "\n",
        "Sub011_6MW_AFO_0003.mat"
       ]
      },
      {
       "output_type": "stream",
       "stream": "stdout",
       "text": [
        "\n",
        "Sub011_6MW_AFO_0004.mat"
       ]
      },
      {
       "output_type": "stream",
       "stream": "stdout",
       "text": [
        "\n",
        "Sub011_6MW_AFO_0005.mat"
       ]
      },
      {
       "output_type": "stream",
       "stream": "stdout",
       "text": [
        "\n",
        "Sub011_6MW_AFO_0006.mat"
       ]
      },
      {
       "output_type": "stream",
       "stream": "stdout",
       "text": [
        "\n",
        "Sub011_6MW_AFO_0007.mat"
       ]
      },
      {
       "output_type": "stream",
       "stream": "stdout",
       "text": [
        "\n",
        "Sub011_6MW_AFO_0008.mat"
       ]
      },
      {
       "output_type": "stream",
       "stream": "stdout",
       "text": [
        "\n",
        "Sub011_6MW_AFO_0009.mat"
       ]
      },
      {
       "output_type": "stream",
       "stream": "stdout",
       "text": [
        "\n",
        "Sub011_6MW_AFO_0010.mat"
       ]
      },
      {
       "output_type": "stream",
       "stream": "stdout",
       "text": [
        "\n",
        "Sub011_6MW_PPAFO_0001.mat"
       ]
      },
      {
       "output_type": "stream",
       "stream": "stdout",
       "text": [
        "\n",
        "Sub011_6MW_PPAFO_0002.mat"
       ]
      },
      {
       "output_type": "stream",
       "stream": "stdout",
       "text": [
        "\n",
        "Sub011_6MW_PPAFO_0003.mat"
       ]
      },
      {
       "output_type": "stream",
       "stream": "stdout",
       "text": [
        "\n",
        "Sub011_6MW_PPAFO_0004.mat"
       ]
      },
      {
       "output_type": "stream",
       "stream": "stdout",
       "text": [
        "\n",
        "Sub011_6MW_PPAFO_0005.mat"
       ]
      },
      {
       "output_type": "stream",
       "stream": "stdout",
       "text": [
        "\n",
        "Sub011_6MW_PPAFO_0006.mat"
       ]
      },
      {
       "output_type": "stream",
       "stream": "stdout",
       "text": [
        "\n",
        "Sub011_6MW_PPAFO_0007.mat"
       ]
      },
      {
       "output_type": "stream",
       "stream": "stdout",
       "text": [
        "\n",
        "Sub011_6MW_Shoes_0001.mat"
       ]
      },
      {
       "output_type": "stream",
       "stream": "stdout",
       "text": [
        "\n",
        "Sub011_6MW_Shoes_0002_static.mat"
       ]
      },
      {
       "output_type": "stream",
       "stream": "stdout",
       "text": [
        "\n",
        "Sub011_6MW_Shoes_0003.mat"
       ]
      },
      {
       "output_type": "stream",
       "stream": "stdout",
       "text": [
        "\n",
        "Sub011_6MW_Shoes_0004.mat"
       ]
      },
      {
       "output_type": "stream",
       "stream": "stdout",
       "text": [
        "\n",
        "Sub011_6MW_Shoes_0005.mat"
       ]
      },
      {
       "output_type": "stream",
       "stream": "stdout",
       "text": [
        "\n",
        "Sub011_6MW_Shoes_0006.mat"
       ]
      },
      {
       "output_type": "stream",
       "stream": "stdout",
       "text": [
        "\n",
        "Sub011_6MW_Shoes_0007.mat"
       ]
      },
      {
       "output_type": "stream",
       "stream": "stdout",
       "text": [
        "\n",
        "Sub011_6MW_Shoes_0008.mat"
       ]
      },
      {
       "output_type": "stream",
       "stream": "stdout",
       "text": [
        "\n",
        "Sub011_6MW_Shoes_0009.mat"
       ]
      },
      {
       "output_type": "stream",
       "stream": "stdout",
       "text": [
        "\n",
        "Sub012_6MW_AFO_0001.mat"
       ]
      },
      {
       "output_type": "stream",
       "stream": "stdout",
       "text": [
        "\n",
        "Sub012_6MW_AFO_0002.mat"
       ]
      },
      {
       "output_type": "stream",
       "stream": "stdout",
       "text": [
        "\n",
        "Sub012_6MW_AFO_0003.mat"
       ]
      },
      {
       "output_type": "stream",
       "stream": "stdout",
       "text": [
        "\n",
        "Sub012_6MW_AFO_0004.mat"
       ]
      },
      {
       "output_type": "stream",
       "stream": "stdout",
       "text": [
        "\n",
        "Sub012_6MW_AFO_0005.mat"
       ]
      },
      {
       "output_type": "stream",
       "stream": "stdout",
       "text": [
        "\n",
        "Sub012_6MW_AFO_0006.mat"
       ]
      },
      {
       "output_type": "stream",
       "stream": "stdout",
       "text": [
        "\n",
        "Sub012_6MW_AFO_0007.mat"
       ]
      },
      {
       "output_type": "stream",
       "stream": "stdout",
       "text": [
        "\n",
        "Sub012_6MW_AFO_0008.mat"
       ]
      },
      {
       "output_type": "stream",
       "stream": "stdout",
       "text": [
        "\n",
        "Sub012_6MW_AFO_0009.mat"
       ]
      },
      {
       "output_type": "stream",
       "stream": "stdout",
       "text": [
        "\n",
        "Sub012_6MW_AFO_0010.mat"
       ]
      },
      {
       "output_type": "stream",
       "stream": "stdout",
       "text": [
        "\n",
        "Sub012_6MW_PPAFO_0001.mat"
       ]
      },
      {
       "output_type": "stream",
       "stream": "stdout",
       "text": [
        "\n",
        "Sub012_6MW_PPAFO_0002.mat"
       ]
      },
      {
       "output_type": "stream",
       "stream": "stdout",
       "text": [
        "\n",
        "Sub012_6MW_PPAFO_0003.mat"
       ]
      },
      {
       "output_type": "stream",
       "stream": "stdout",
       "text": [
        "\n",
        "Sub012_6MW_PPAFO_0005.mat"
       ]
      },
      {
       "output_type": "stream",
       "stream": "stdout",
       "text": [
        "\n",
        "Sub012_6MW_PPAFO_0006.mat"
       ]
      },
      {
       "output_type": "stream",
       "stream": "stdout",
       "text": [
        "\n",
        "Sub012_6MW_PPAFO_0007.mat"
       ]
      },
      {
       "output_type": "stream",
       "stream": "stdout",
       "text": [
        "\n",
        "Sub012_6MW_PPAFO_0008.mat"
       ]
      },
      {
       "output_type": "stream",
       "stream": "stdout",
       "text": [
        "\n",
        "Sub012_6MW_PPAFO_0009.mat"
       ]
      },
      {
       "output_type": "stream",
       "stream": "stdout",
       "text": [
        "\n",
        "Sub012_6MW_PPAFO_0010.mat"
       ]
      },
      {
       "output_type": "stream",
       "stream": "stdout",
       "text": [
        "\n",
        "Sub012_6MW_Shoes_0001.mat"
       ]
      },
      {
       "output_type": "stream",
       "stream": "stdout",
       "text": [
        "\n",
        "Sub012_6MW_Shoes_0003.mat"
       ]
      },
      {
       "output_type": "stream",
       "stream": "stdout",
       "text": [
        "\n",
        "Sub012_6MW_Shoes_0004.mat"
       ]
      },
      {
       "output_type": "stream",
       "stream": "stdout",
       "text": [
        "\n",
        "Sub012_6MW_Shoes_0005.mat"
       ]
      },
      {
       "output_type": "stream",
       "stream": "stdout",
       "text": [
        "\n",
        "Sub012_6MW_Shoes_0007.mat"
       ]
      },
      {
       "output_type": "stream",
       "stream": "stdout",
       "text": [
        "\n",
        "Sub012_6MW_Shoes_0008.mat"
       ]
      },
      {
       "output_type": "stream",
       "stream": "stdout",
       "text": [
        "\n",
        "Sub012_6MW_Shoes_0009.mat"
       ]
      },
      {
       "output_type": "stream",
       "stream": "stdout",
       "text": [
        "\n",
        "Sub012_6MW_Shoes_0010.mat"
       ]
      },
      {
       "output_type": "stream",
       "stream": "stdout",
       "text": [
        "\n",
        "Sub012_6MW_Shoes_0011.mat"
       ]
      },
      {
       "output_type": "stream",
       "stream": "stdout",
       "text": [
        "\n",
        "Sub013_6MW_AFO_0001.mat"
       ]
      },
      {
       "output_type": "stream",
       "stream": "stdout",
       "text": [
        "\n",
        "Sub013_6MW_AFO_0003.mat"
       ]
      },
      {
       "output_type": "stream",
       "stream": "stdout",
       "text": [
        "\n",
        "Sub013_6MW_AFO_0004.mat"
       ]
      },
      {
       "output_type": "stream",
       "stream": "stdout",
       "text": [
        "\n",
        "Sub013_6MW_AFO_0006.mat\n",
        "Sub013_6MW_AFO_0007.mat"
       ]
      },
      {
       "output_type": "stream",
       "stream": "stdout",
       "text": [
        "\n",
        "Sub013_6MW_AFO_0008.mat"
       ]
      },
      {
       "output_type": "stream",
       "stream": "stdout",
       "text": [
        "\n",
        "Sub013_6MW_AFO_0009.mat"
       ]
      },
      {
       "output_type": "stream",
       "stream": "stdout",
       "text": [
        "\n",
        "Sub013_6MW_AFO_0010.mat"
       ]
      },
      {
       "output_type": "stream",
       "stream": "stdout",
       "text": [
        "\n",
        "Sub013_6MW_AFO_0011.mat"
       ]
      },
      {
       "output_type": "stream",
       "stream": "stdout",
       "text": [
        "\n",
        "Sub013_6MW_AFO_0013.mat"
       ]
      },
      {
       "output_type": "stream",
       "stream": "stdout",
       "text": [
        "\n",
        "Sub013_6MW_AFO_0014.mat"
       ]
      },
      {
       "output_type": "stream",
       "stream": "stdout",
       "text": [
        "\n",
        "Sub013_6MW_PPAFO_0001.mat"
       ]
      },
      {
       "output_type": "stream",
       "stream": "stdout",
       "text": [
        "\n",
        "Sub013_6MW_PPAFO_0002.mat"
       ]
      },
      {
       "output_type": "stream",
       "stream": "stdout",
       "text": [
        "\n",
        "Sub013_6MW_PPAFO_0003.mat"
       ]
      },
      {
       "output_type": "stream",
       "stream": "stdout",
       "text": [
        "\n",
        "Sub013_6MW_PPAFO_0004.mat"
       ]
      },
      {
       "output_type": "stream",
       "stream": "stdout",
       "text": [
        "\n",
        "Sub013_6MW_PPAFO_0005.mat"
       ]
      },
      {
       "output_type": "stream",
       "stream": "stdout",
       "text": [
        "\n",
        "Sub013_6MW_PPAFO_0006.mat"
       ]
      },
      {
       "output_type": "stream",
       "stream": "stdout",
       "text": [
        "\n",
        "Sub013_6MW_PPAFO_0007.mat"
       ]
      },
      {
       "output_type": "stream",
       "stream": "stdout",
       "text": [
        "\n",
        "Sub013_6MW_PPAFO_0008.mat"
       ]
      },
      {
       "output_type": "stream",
       "stream": "stdout",
       "text": [
        "\n",
        "Sub013_6MW_Shoes_0001.mat"
       ]
      },
      {
       "output_type": "stream",
       "stream": "stdout",
       "text": [
        "\n",
        "Sub013_6MW_Shoes_0002.mat"
       ]
      },
      {
       "output_type": "stream",
       "stream": "stdout",
       "text": [
        "\n",
        "Sub013_6MW_Shoes_0003.mat"
       ]
      },
      {
       "output_type": "stream",
       "stream": "stdout",
       "text": [
        "\n",
        "Sub013_6MW_Shoes_0005.mat"
       ]
      },
      {
       "output_type": "stream",
       "stream": "stdout",
       "text": [
        "\n",
        "Sub013_6MW_Shoes_0006.mat\n",
        "Sub013_6MW_Shoes_0007.mat"
       ]
      },
      {
       "output_type": "stream",
       "stream": "stdout",
       "text": [
        "\n",
        "Sub013_6MW_Shoes_0008.mat"
       ]
      },
      {
       "output_type": "stream",
       "stream": "stdout",
       "text": [
        "\n",
        "Sub013_6MW_Shoes_0009.mat"
       ]
      },
      {
       "output_type": "stream",
       "stream": "stdout",
       "text": [
        "\n",
        "Sub013_6MW_Shoes_0010.mat"
       ]
      },
      {
       "output_type": "stream",
       "stream": "stdout",
       "text": [
        "\n",
        "Sub013_6MW_Shoes_0011.mat"
       ]
      },
      {
       "output_type": "stream",
       "stream": "stdout",
       "text": [
        "\n",
        "Sub015_6MW_AFO_0001.mat"
       ]
      },
      {
       "output_type": "stream",
       "stream": "stdout",
       "text": [
        "\n",
        "Sub015_6MW_AFO_0002.mat"
       ]
      },
      {
       "output_type": "stream",
       "stream": "stdout",
       "text": [
        "\n",
        "Sub015_6MW_AFO_0003.mat"
       ]
      },
      {
       "output_type": "stream",
       "stream": "stdout",
       "text": [
        "\n",
        "Sub015_6MW_AFO_0004.mat"
       ]
      },
      {
       "output_type": "stream",
       "stream": "stdout",
       "text": [
        "\n",
        "Sub015_6MW_AFO_0005.mat"
       ]
      },
      {
       "output_type": "stream",
       "stream": "stdout",
       "text": [
        "\n",
        "Sub015_6MW_AFO_0006.mat"
       ]
      },
      {
       "output_type": "stream",
       "stream": "stdout",
       "text": [
        "\n",
        "Sub015_6MW_AFO_0007.mat"
       ]
      },
      {
       "output_type": "stream",
       "stream": "stdout",
       "text": [
        "\n",
        "Sub015_6MW_AFO_0008.mat"
       ]
      },
      {
       "output_type": "stream",
       "stream": "stdout",
       "text": [
        "\n",
        "Sub015_6MW_AFO_0009.mat"
       ]
      },
      {
       "output_type": "stream",
       "stream": "stdout",
       "text": [
        "\n",
        "Sub015_6MW_AFO_0010.mat"
       ]
      },
      {
       "output_type": "stream",
       "stream": "stdout",
       "text": [
        "\n",
        "Sub015_6MW_PPAFO_0001.mat"
       ]
      },
      {
       "output_type": "stream",
       "stream": "stdout",
       "text": [
        "\n",
        "Sub015_6MW_PPAFO_0002.mat"
       ]
      },
      {
       "output_type": "stream",
       "stream": "stdout",
       "text": [
        "\n",
        "Sub015_6MW_PPAFO_0003.mat"
       ]
      },
      {
       "output_type": "stream",
       "stream": "stdout",
       "text": [
        "\n",
        "Sub015_6MW_PPAFO_0004.mat"
       ]
      },
      {
       "output_type": "stream",
       "stream": "stdout",
       "text": [
        "\n",
        "Sub015_6MW_PPAFO_0005.mat"
       ]
      },
      {
       "output_type": "stream",
       "stream": "stdout",
       "text": [
        "\n",
        "Sub015_6MW_PPAFO_0007.mat"
       ]
      },
      {
       "output_type": "stream",
       "stream": "stdout",
       "text": [
        "\n",
        "Sub015_6MW_PPAFO_0008.mat"
       ]
      },
      {
       "output_type": "stream",
       "stream": "stdout",
       "text": [
        "\n",
        "Sub015_6MW_PPAFO_0010.mat"
       ]
      },
      {
       "output_type": "stream",
       "stream": "stdout",
       "text": [
        "\n",
        "Sub015_6MW_Shoes_0001.mat"
       ]
      },
      {
       "output_type": "stream",
       "stream": "stdout",
       "text": [
        "\n",
        "Sub015_6MW_Shoes_0002.mat"
       ]
      },
      {
       "output_type": "stream",
       "stream": "stdout",
       "text": [
        "\n",
        "Sub015_6MW_Shoes_0003.mat"
       ]
      },
      {
       "output_type": "stream",
       "stream": "stdout",
       "text": [
        "\n",
        "Sub015_6MW_Shoes_0004.mat"
       ]
      },
      {
       "output_type": "stream",
       "stream": "stdout",
       "text": [
        "\n",
        "Sub015_6MW_Shoes_0005.mat"
       ]
      },
      {
       "output_type": "stream",
       "stream": "stdout",
       "text": [
        "\n",
        "Sub015_6MW_Shoes_0006.mat"
       ]
      },
      {
       "output_type": "stream",
       "stream": "stdout",
       "text": [
        "\n",
        "Sub015_6MW_Shoes_0007.mat"
       ]
      },
      {
       "output_type": "stream",
       "stream": "stdout",
       "text": [
        "\n",
        "Sub015_6MW_Shoes_0008.mat"
       ]
      },
      {
       "output_type": "stream",
       "stream": "stdout",
       "text": [
        "\n",
        "Sub016_6MW_AFO_0001.mat"
       ]
      },
      {
       "output_type": "stream",
       "stream": "stdout",
       "text": [
        "\n",
        "Sub016_6MW_AFO_0002.mat"
       ]
      },
      {
       "output_type": "stream",
       "stream": "stdout",
       "text": [
        "\n",
        "Sub016_6MW_AFO_0003.mat"
       ]
      },
      {
       "output_type": "stream",
       "stream": "stdout",
       "text": [
        "\n",
        "Sub016_6MW_AFO_0004.mat"
       ]
      },
      {
       "output_type": "stream",
       "stream": "stdout",
       "text": [
        "\n",
        "Sub016_6MW_AFO_0005.mat"
       ]
      },
      {
       "output_type": "stream",
       "stream": "stdout",
       "text": [
        "\n",
        "Sub016_6MW_AFO_0006.mat"
       ]
      },
      {
       "output_type": "stream",
       "stream": "stdout",
       "text": [
        "\n",
        "Sub016_6MW_AFO_0007.mat"
       ]
      },
      {
       "output_type": "stream",
       "stream": "stdout",
       "text": [
        "\n",
        "Sub016_6MW_AFO_0008.mat"
       ]
      },
      {
       "output_type": "stream",
       "stream": "stdout",
       "text": [
        "\n",
        "Sub016_6MW_PPAFO_0001.mat"
       ]
      },
      {
       "output_type": "stream",
       "stream": "stdout",
       "text": [
        "\n",
        "Sub016_6MW_PPAFO_0002.mat"
       ]
      },
      {
       "output_type": "stream",
       "stream": "stdout",
       "text": [
        "\n",
        "Sub016_6MW_PPAFO_0003.mat"
       ]
      },
      {
       "output_type": "stream",
       "stream": "stdout",
       "text": [
        "\n",
        "Sub016_6MW_PPAFO_0004.mat"
       ]
      },
      {
       "output_type": "stream",
       "stream": "stdout",
       "text": [
        "\n",
        "Sub016_6MW_PPAFO_0005.mat"
       ]
      },
      {
       "output_type": "stream",
       "stream": "stdout",
       "text": [
        "\n",
        "Sub016_6MW_PPAFO_0006.mat"
       ]
      },
      {
       "output_type": "stream",
       "stream": "stdout",
       "text": [
        "\n",
        "Sub016_6MW_Shoes_0002.mat"
       ]
      },
      {
       "output_type": "stream",
       "stream": "stdout",
       "text": [
        "\n",
        "Sub016_6MW_Shoes_0003.mat"
       ]
      },
      {
       "output_type": "stream",
       "stream": "stdout",
       "text": [
        "\n",
        "Sub016_6MW_Shoes_0004.mat"
       ]
      },
      {
       "output_type": "stream",
       "stream": "stdout",
       "text": [
        "\n",
        "Sub016_6MW_Shoes_0005.mat"
       ]
      },
      {
       "output_type": "stream",
       "stream": "stdout",
       "text": [
        "\n",
        "Sub016_6MW_Shoes_0006.mat"
       ]
      },
      {
       "output_type": "stream",
       "stream": "stdout",
       "text": [
        "\n",
        "Sub016_6MW_Shoes_0007.mat"
       ]
      },
      {
       "output_type": "stream",
       "stream": "stdout",
       "text": [
        "\n",
        "Sub016_6MW_Shoes_0008.mat"
       ]
      },
      {
       "output_type": "stream",
       "stream": "stdout",
       "text": [
        "\n",
        "Sub016_6MW_Shoes_0009.mat"
       ]
      },
      {
       "output_type": "stream",
       "stream": "stdout",
       "text": [
        "\n",
        "Done reading all data!"
       ]
      },
      {
       "output_type": "stream",
       "stream": "stdout",
       "text": [
        "\n"
       ]
      }
     ],
     "prompt_number": 3
    },
    {
     "cell_type": "code",
     "collapsed": false,
     "input": [
      "#print PPAFO.keys()\n",
      "#print AFO[14]\n",
      "#print PPAFO[1].ShowTrials()\n",
      "#print AFO[14].GetTrial(2)"
     ],
     "language": "python",
     "metadata": {},
     "outputs": [],
     "prompt_number": 4
    },
    {
     "cell_type": "code",
     "collapsed": false,
     "input": [
      "import thinkstats2\n",
      "import thinkplot"
     ],
     "language": "python",
     "metadata": {},
     "outputs": [],
     "prompt_number": 5
    },
    {
     "cell_type": "markdown",
     "metadata": {},
     "source": [
      "###This code checks the difference between median and mean of the x, y and z values of all markers for trial 1 for participant 1 wearing an AFO and reports the ones with a difference larger than 10mm"
     ]
    },
    {
     "cell_type": "code",
     "collapsed": false,
     "input": [
      "pset=[1,2,3,4,5,9,10,11,12,15,16]\n",
      "\n",
      "for k in pset:    \n",
      "    MTObj=AFO[k].GetTrial(1)\n",
      "    FullLabelSet=['SACRAL', 'R_ASIS', 'R_TROCH', 'R_THIGH', 'R_LAT_KNEE', 'R_TIB', 'R_LAT_MAL', 'R_TOE_5', 'R_TOE_1', 'R_MED_MAL', 'R_HEEL', 'R_MED_KNEE', 'L_MED_KNEE', 'L_HEEL', 'L_MED_MAL', 'L_TOE_1', 'L_TOE_5', 'L_LAT_MAL', 'L_TIB', 'L_LAT_KNEE', 'L_TROCH', 'L_THIGH', 'L_ASIS']\n",
      "\n",
      "\n",
      "    for i in range(4):\n",
      "        \n",
      "        if i==0:\n",
      "            data=MTObj.x\n",
      "        if i==1:\n",
      "            data=MTObj.y\n",
      "        if i==2:\n",
      "            data=MTObj.z\n",
      "        if i==3:\n",
      "            data=MTObj.r\n",
      "            \n",
      "        for eachLabel in FullLabelSet:\n",
      "            #MTObj=AFO[j].GetTrial(1)\n",
      "            #print j\n",
      "            #print eachLabel\n",
      "                    \n",
      "            cdf=thinkstats2.Cdf(data[eachLabel])\n",
      "            #thinkplot.Cdf(cdf)\n",
      "            #thinkplot.Show(legend=False)\n",
      "            \n",
      "            mean=cdf.Mean()\n",
      "            \n",
      "            if mean!=0:\n",
      "                median=cdf.Value(0.5)\n",
      "                diff=median-mean\n",
      "                if abs(diff)>10:\n",
      "            \n",
      "                    if i==0:\n",
      "                        print 'x'\n",
      "                    if i==1:\n",
      "                        print 'y'\n",
      "                    if i==2:\n",
      "                        print 'z'\n",
      "                    if i==3:\n",
      "                        print 'r'\n",
      "                    print k\n",
      "                    print eachLabel\n",
      "                    print median\n",
      "                    print mean\n",
      "                    print median - mean\n",
      "                    print ' '\n",
      "    "
     ],
     "language": "python",
     "metadata": {},
     "outputs": [
      {
       "output_type": "stream",
       "stream": "stdout",
       "text": [
        "x\n",
        "3\n",
        "SACRAL\n",
        "255.77\n",
        "241.868919274\n",
        "13.9010807263\n",
        " \n",
        "x\n",
        "3\n",
        "R_ASIS\n",
        "55.122\n",
        "30.5946343008\n",
        "24.5273656992\n",
        " \n",
        "x\n",
        "3\n",
        "R_TROCH\n",
        "180.37\n",
        "152.899775989\n",
        "27.4702240106\n",
        " \n",
        "x\n",
        "3\n",
        "R_THIGH\n",
        "176.32\n",
        "114.121459367\n",
        "62.1985406332\n",
        " \n",
        "x\n",
        "3\n",
        "R_LAT_KNEE\n",
        "189.41\n",
        "83.5082150396\n",
        "105.90178496\n",
        " \n",
        "x\n",
        "3\n",
        "R_TIB\n",
        "178.02\n",
        "73.8856308179\n",
        "104.134369182\n",
        " \n",
        "x\n",
        "3\n",
        "R_LAT_MAL\n",
        "263.97\n",
        "66.9246715543\n",
        "197.045328446\n",
        " \n",
        "x\n",
        "3\n",
        "R_TOE_5\n",
        "153.34\n",
        "91.2780598153\n",
        "62.0619401847\n",
        " \n",
        "x\n",
        "3\n",
        "R_TOE_1\n",
        "101.99\n",
        "44.7253978892\n",
        "57.2646021108\n",
        " \n",
        "x\n",
        "3\n",
        "R_MED_MAL\n",
        "277.18\n",
        "635.372658228\n",
        "-358.192658228\n",
        " \n",
        "x\n",
        "3\n",
        "R_HEEL\n",
        "323.31\n",
        "-3.55262604502\n",
        "326.862626045\n",
        " \n",
        "x\n",
        "3\n",
        "L_HEEL\n",
        "14.652\n",
        "205.775397889\n",
        "-191.123397889\n",
        " \n",
        "x\n",
        "3\n",
        "L_MED_MAL\n",
        "-71.626\n",
        "115.907561478\n",
        "-187.533561478\n",
        " \n",
        "x\n",
        "3\n",
        "L_TOE_1\n",
        "-208.73\n",
        "-2.7013860686\n",
        "-206.028613931\n",
        " \n",
        "x\n",
        "3\n",
        "L_TOE_5\n",
        "-169.34\n",
        "35.6681556728\n",
        "-205.008155673\n",
        " \n",
        "x\n",
        "3\n",
        "L_LAT_MAL\n",
        "-43.721\n",
        "142.97321715\n",
        "-186.69421715\n",
        " \n",
        "x\n",
        "3\n",
        "L_TIB\n",
        "460.59\n",
        "275.642295035\n",
        "184.947704965\n",
        " \n",
        "x\n",
        "3\n",
        "L_LAT_KNEE\n",
        "242.98\n",
        "224.899140223\n",
        "18.0808597774\n",
        " \n",
        "x\n",
        "3\n",
        "L_TROCH\n",
        "384.18\n",
        "198.567887931\n",
        "185.612112069\n",
        " \n",
        "x\n",
        "3\n",
        "L_THIGH\n",
        "106.49\n",
        "136.259170166\n",
        "-29.7691701657\n",
        " \n",
        "x\n",
        "3\n",
        "L_ASIS\n",
        "207.75\n",
        "184.115206731\n",
        "23.6347932692\n",
        " \n",
        "y\n",
        "3\n",
        "SACRAL\n",
        "-172.68\n",
        "-183.563536313\n",
        "10.8835363128\n",
        " \n",
        "y\n",
        "3\n",
        "R_ASIS\n",
        "26.551\n",
        "15.6212025066\n",
        "10.9297974934\n",
        " \n",
        "y\n",
        "3\n",
        "R_TROCH\n",
        "69.07\n",
        "55.7097211926\n",
        "13.3602788074\n",
        " \n",
        "y\n",
        "3\n",
        "R_THIGH\n",
        "53.451\n",
        "38.2534679789\n",
        "15.1975320211\n",
        " \n",
        "y\n",
        "3\n",
        "R_MED_MAL\n",
        "-139.07\n",
        "-150.174700422\n",
        "11.1047004219\n",
        " \n",
        "y\n",
        "3\n",
        "L_TOE_1\n",
        "-256.75\n",
        "-244.925751979\n",
        "-11.8242480211\n",
        " \n",
        "y\n",
        "3\n",
        "L_TOE_5\n",
        "-338.48\n",
        "-325.945461741\n",
        "-12.5345382586\n",
        " \n",
        "y\n",
        "3\n",
        "L_LAT_MAL\n",
        "-289.86\n",
        "-278.827757256\n",
        "-11.0322427441\n",
        " \n",
        "y"
       ]
      },
      {
       "output_type": "stream",
       "stream": "stdout",
       "text": [
        "\n",
        "3\n",
        "L_LAT_KNEE\n",
        "-350.15\n",
        "-339.17783871\n",
        "-10.9721612903\n",
        " \n",
        "y\n",
        "3\n",
        "L_THIGH\n",
        "-387.16\n",
        "-404.370745856\n",
        "17.2107458564\n",
        " \n",
        "y\n",
        "3\n",
        "L_ASIS\n",
        "-339.64\n",
        "-352.027179487\n",
        "12.3871794872\n",
        " \n",
        "z\n",
        "3\n",
        "R_LAT_MAL\n",
        "120.46\n",
        "137.669824047\n",
        "-17.2098240469\n",
        " \n",
        "z\n",
        "3\n",
        "R_TOE_5\n",
        "51.749\n",
        "64.8677308707\n",
        "-13.1187308707\n",
        " \n",
        "z\n",
        "3\n",
        "R_TOE_1\n",
        "56.913\n",
        "68.5259788918\n",
        "-11.6129788918\n",
        " \n",
        "z\n",
        "3\n",
        "R_MED_MAL\n",
        "126.59\n",
        "142.544725738\n",
        "-15.9547257384\n",
        " \n",
        "z\n",
        "3\n",
        "R_HEEL\n",
        "43.696\n",
        "82.1719549839\n",
        "-38.4759549839\n",
        " \n",
        "z\n",
        "3\n",
        "L_HEEL\n",
        "70.51\n",
        "106.952121372\n",
        "-36.442121372\n",
        " \n",
        "z\n",
        "3\n",
        "L_MED_MAL\n",
        "118.41\n",
        "140.884907652\n",
        "-22.4749076517\n",
        " \n",
        "z\n",
        "3\n",
        "L_TOE_1\n",
        "57.486\n",
        "69.154055409\n",
        "-11.668055409\n",
        " \n",
        "z\n",
        "3\n",
        "L_TOE_5\n",
        "53.925\n",
        "67.1417467018\n",
        "-13.2167467018\n",
        " \n",
        "z\n",
        "3\n",
        "L_LAT_MAL\n",
        "102.7\n",
        "127.156158311\n",
        "-24.4561583113\n",
        " \n",
        "x"
       ]
      },
      {
       "output_type": "stream",
       "stream": "stdout",
       "text": [
        "\n",
        "10\n",
        "R_ASIS\n",
        "-194.37\n",
        "-205.864859845\n",
        "11.4948598446\n",
        " \n",
        "x\n",
        "10\n",
        "R_TROCH\n",
        "-81.521\n",
        "-93.592069435\n",
        "12.071069435\n",
        " \n",
        "y"
       ]
      },
      {
       "output_type": "stream",
       "stream": "stdout",
       "text": [
        "\n",
        "15\n",
        "SACRAL\n",
        "31.019\n",
        "42.9435908739\n",
        "-11.9245908739\n",
        " \n"
       ]
      }
     ],
     "prompt_number": 6
    },
    {
     "cell_type": "markdown",
     "metadata": {},
     "source": [
      "####This indicates that the baseline data for all participants does not contain significant outliers which gives us hope that the data is reliable"
     ]
    },
    {
     "cell_type": "markdown",
     "metadata": {},
     "source": [
      "###This code again checks the difference between median and mean of the x, y and z values of all markers for trial 1 for participant 1 wearing an AFO but this time reports only the participants who register large deviations between the median adn mean as well as the largest difference. It also draws the CDF of the differences for all participants"
     ]
    },
    {
     "cell_type": "code",
     "collapsed": false,
     "input": [
      "k_t=[]\n",
      "diff_t=[]\n",
      "diff_all_t=[]\n",
      "pset=[1,2,3,4,5,9,10,11,12,15,16]\n",
      "\n",
      "for k in pset:    \n",
      "    MTObj=AFO[k].GetTrial(1)\n",
      "    FullLabelSet=['SACRAL', 'R_ASIS', 'R_TROCH', 'R_THIGH', 'R_LAT_KNEE', 'R_TIB', 'R_LAT_MAL', 'R_TOE_5', 'R_TOE_1', 'R_MED_MAL', 'R_HEEL', 'R_MED_KNEE', 'L_MED_KNEE', 'L_HEEL', 'L_MED_MAL', 'L_TOE_1', 'L_TOE_5', 'L_LAT_MAL', 'L_TIB', 'L_LAT_KNEE', 'L_TROCH', 'L_THIGH', 'L_ASIS']\n",
      "\n",
      "\n",
      "    for i in range(4):\n",
      "        \n",
      "        if i==0:\n",
      "            data=MTObj.x\n",
      "        if i==1:\n",
      "            data=MTObj.y\n",
      "        if i==2:\n",
      "            data=MTObj.z\n",
      "        if i==3:\n",
      "            data=MTObj.r\n",
      "            \n",
      "        for eachLabel in FullLabelSet:\n",
      "            #MTObj=AFO[j].GetTrial(1)\n",
      "            #print j\n",
      "            #print eachLabel\n",
      "                    \n",
      "            cdf=thinkstats2.Cdf(data[eachLabel])\n",
      "            #thinkplot.Cdf(cdf)\n",
      "            #thinkplot.Show(legend=False)\n",
      "            \n",
      "            mean=cdf.Mean()\n",
      "            \n",
      "            if mean!=0:\n",
      "                median=cdf.Value(0.5)\n",
      "                diff=median-mean\n",
      "                diff_all_t.append(diff)\n",
      "                \n",
      "                if abs(diff)>10:\n",
      "            \n",
      "                    #if i==0:\n",
      "                        #print 'x'\n",
      "                    #if i==1:\n",
      "                        #print 'y'\n",
      "                    #if i==2:\n",
      "                        #print 'z'\n",
      "                    #if i==3:\n",
      "                        #print 'r'\n",
      "                    k_t.append(k)\n",
      "                    diff_t.append(diff)\n",
      "                    \n",
      "print set(k_t)\n",
      "print max(diff_t)\n",
      "print min(diff_t)\n",
      "\n",
      "cdf=thinkstats2.Cdf(diff_all_t)\n",
      "thinkplot.Cdf(cdf)\n",
      "\n",
      "thinkplot.Show(legend=False, xlabel='(Median-Mean) in millimeters', ylabel='CDF', title='Distribution of (Median-Mean) across all markers, space coordinates and participants for Trial 1')\n",
      "\n",
      "cdf2=thinkstats2.Cdf(diff_t)\n",
      "thinkplot.Cdf(cdf2)\n",
      "\n",
      "thinkplot.Show(legend=False, xlabel='(Median-Mean) in millimeters', ylabel='CDF', title='Distribution of (Median-Mean)>10 across all markers, space coordinates and participants for Trial 1')"
     ],
     "language": "python",
     "metadata": {},
     "outputs": [
      {
       "output_type": "stream",
       "stream": "stdout",
       "text": [
        "set([10, 3, 15])\n",
        "326.862626045\n",
        "-358.192658228\n"
       ]
      },
      {
       "metadata": {},
       "output_type": "display_data",
       "png": "[encoded data removed]",
       "text": [
        "<matplotlib.figure.Figure at 0x1139421d0>"
       ]
      },
      {
       "metadata": {},
       "output_type": "display_data",
       "png": "[encoded data removed]",
       "text": [
        "<matplotlib.figure.Figure at 0x113946fd0>"
       ]
      },
      {
       "metadata": {},
       "output_type": "display_data",
       "text": [
        "<matplotlib.figure.Figure at 0x10faeb550>"
       ]
      }
     ],
     "prompt_number": 7
    },
    {
     "cell_type": "markdown",
     "metadata": {},
     "source": [
      "####The above result allows us to make 3 conclusions:\n",
      "\n",
      "####1. Participants 3, 10 and 15 have baseline data that has a difference in mean and median that is larger than 10mm. However this also implies that the majority of participants have means and medians that lie close to each other (i.e. within 10mm)\n",
      "\n",
      "####2. The first CDF plot confirms conclusion 1 as the steepest slope occurs at about 0 and that slope starts at about CDF=0 to about CDF=1, which suggests that a large majority of participants have Median-Mean values that are basically the same. \n",
      "\n",
      "####3. Focusing on just those that show differences larger than 10mm, most seem to be clustered between -100 to 100mm of difference\n",
      "\n",
      "####4. As shown in the calculation for largest difference, the largest is 326mm which is soemwhat concerning."
     ]
    },
    {
     "cell_type": "markdown",
     "metadata": {},
     "source": [
      "###This script calculates the standard deviation for all participants 1st trials for x, y and z to determine how much variation there is in the baseline data"
     ]
    },
    {
     "cell_type": "code",
     "collapsed": false,
     "input": [
      "k_t=[]\n",
      "sd_t=[]\n",
      "diff_t=[]\n",
      "pset=[1,2,3,4,5,9,10,11,12,15,16]\n",
      "\n",
      "for k in pset:    \n",
      "    MTObj=AFO[k].GetTrial(1)\n",
      "    FullLabelSet=['SACRAL', 'R_ASIS', 'R_TROCH', 'R_THIGH', 'R_LAT_KNEE', 'R_TIB', 'R_LAT_MAL', 'R_TOE_5', 'R_TOE_1', 'R_MED_MAL', 'R_HEEL', 'R_MED_KNEE', 'L_MED_KNEE', 'L_HEEL', 'L_MED_MAL', 'L_TOE_1', 'L_TOE_5', 'L_LAT_MAL', 'L_TIB', 'L_LAT_KNEE', 'L_TROCH', 'L_THIGH', 'L_ASIS']\n",
      "\n",
      "\n",
      "    for i in range(4):\n",
      "        \n",
      "        if i==0:\n",
      "            data=MTObj.x\n",
      "        if i==1:\n",
      "            data=MTObj.y\n",
      "        if i==2:\n",
      "            data=MTObj.z\n",
      "        if i==3:\n",
      "            data=MTObj.r\n",
      "            \n",
      "        for eachLabel in FullLabelSet:\n",
      "            #MTObj=AFO[j].GetTrial(1)\n",
      "            #print j\n",
      "            #print eachLabel\n",
      "                    \n",
      "            cdf=thinkstats2.Cdf(data[eachLabel])\n",
      "            #thinkplot.Cdf(cdf)\n",
      "            #thinkplot.Show(legend=False)\n",
      "            \n",
      "            mean=cdf.Mean()\n",
      "            \n",
      "            if mean!=0:\n",
      "                sd=data[eachLabel].std()\n",
      "                sd_t.append(sd)\n",
      "                \n",
      "                if sd>30:\n",
      "            \n",
      "                    #if i==0:\n",
      "                        #print 'x'\n",
      "                    #if i==1:\n",
      "                        #print 'y'\n",
      "                    #if i==2:\n",
      "                        #print 'z'\n",
      "                    #if i==3:\n",
      "                        #print 'r'\n",
      "                    \n",
      "                    k_t.append(k)\n",
      "                    diff_t.append(sd)\n",
      "                    \n",
      "\n",
      "cdf3=thinkstats2.Cdf(sd_t)\n",
      "\n",
      "thinkplot.Cdf(cdf3)\n",
      "thinkplot.Show(legend=False, xlabel='Standard Deviation in millimeters', ylabel='CDF', title='Distribution of all SDs across all markers, space coordinates and participants for Trial 1')\n",
      "\n",
      "cdf2=thinkstats2.Cdf(diff_t)\n",
      "\n",
      "thinkplot.Cdf(cdf2)\n",
      "thinkplot.Show(legend=False, xlabel='Standard Deviation', ylabel='CDF', title='Distribution of SDs>30 across all markers, space coordinates and participants for Trial 1')\n",
      "                    \n",
      "print set(k_t)\n",
      "print max(diff_t)\n",
      "print min(diff_t)"
     ],
     "language": "python",
     "metadata": {},
     "outputs": [
      {
       "metadata": {},
       "output_type": "display_data",
       "png": "[encoded data removed]",
       "text": [
        "<matplotlib.figure.Figure at 0x10fc426d0>"
       ]
      },
      {
       "metadata": {},
       "output_type": "display_data",
       "png": "[encoded data removed]",
       "text": [
        "<matplotlib.figure.Figure at 0x10ad4e450>"
       ]
      },
      {
       "output_type": "stream",
       "stream": "stdout",
       "text": [
        "set([10, 3])\n",
        "791.932888187\n",
        "30.6610556588\n"
       ]
      },
      {
       "metadata": {},
       "output_type": "display_data",
       "text": [
        "<matplotlib.figure.Figure at 0x10e83cc90>"
       ]
      }
     ],
     "prompt_number": 8
    },
    {
     "cell_type": "markdown",
     "metadata": {},
     "source": [
      "####The above graphs and data allow us to make several conclusions:\n",
      "\n",
      "####1.  As can be seen from the 1st graph, the majority of participant's trial 1 gait data in x, y and z show a very small standard deviation, suggesting that the trial 1(baseline) data is sound for us to use to establish a participant's baseline.\n",
      "\n",
      "####2.  As can be seen from the 2nd graph, by zooming in to focus only on participants who have SDs larger than 30, we find that approximately 60% of the data have SDs of 100mm or less, which is probably acceptable considering some participants may have a hard time standing still to within 3cm.\n",
      "\n",
      "####3.  However, it is concerning that the maximum calculated SD is 791.9mm or 80cm as shown in the calculated values below the 2nd graph This seems to suggest there may be erroneous data points in the data set"
     ]
    },
    {
     "cell_type": "markdown",
     "metadata": {},
     "source": [
      "### This script plots the X,Y and Z values over time (represented by index in the pandas series) for participant 1, trial 3, wearing AFO in order to look at trends in the data"
     ]
    },
    {
     "cell_type": "code",
     "collapsed": false,
     "input": [
      "MTObj=AFO[1].GetTrial(3)\n",
      "\n",
      "def PlotTimeSeries(coord, markers):\n",
      "    for marker in markers:\n",
      "        if coord=='x':\n",
      "            data=MTObj.x[marker]\n",
      "            vals=data.values\n",
      "            ind=data.index\n",
      "            thinkplot.Plot(ind, vals)\n",
      "            thinkplot.Show(xlabel='Time in frames', ylabel='Coordinate in millimeters', title='Participant 1, Trial 3, X Coordinate' + ' ' +marker)\n",
      "    \n",
      "        if coord=='y':\n",
      "            data=MTObj.y[marker]\n",
      "            vals=data.values\n",
      "            ind=data.index\n",
      "            thinkplot.Plot(ind, vals)\n",
      "            thinkplot.Show(xlabel='Time in frames', ylabel='Coordinate in millimeters', title='Participant 1, Trial 3, Y Coordinate' + ' ' + marker)\n",
      "    \n",
      "        if coord=='z':\n",
      "            data=MTObj.z[marker]\n",
      "            vals=data.values\n",
      "            ind=data.index\n",
      "            thinkplot.Plot(ind, vals)\n",
      "            thinkplot.Show(xlabel='Time in frames', ylabel='Coordinate in millimeters', title='Participant 1, Trial 3, Z Coordinate'  + ' ' + marker)\n",
      "        \n",
      "for coord in ['x', 'y', 'z']:\n",
      "    PlotTimeSeries(coord, ['SACRAL'])"
     ],
     "language": "python",
     "metadata": {},
     "outputs": [
      {
       "metadata": {},
       "output_type": "display_data",
       "png": "[encoded data removed]",
       "text": [
        "<matplotlib.figure.Figure at 0x10fcfa050>"
       ]
      },
      {
       "metadata": {},
       "output_type": "display_data",
       "png": "[encoded data removed]",
       "text": [
        "<matplotlib.figure.Figure at 0x10fcfa2d0>"
       ]
      },
      {
       "metadata": {},
       "output_type": "display_data",
       "png": "[encoded data removed]",
       "text": [
        "<matplotlib.figure.Figure at 0x109d55a50>"
       ]
      },
      {
       "metadata": {},
       "output_type": "display_data",
       "text": [
        "<matplotlib.figure.Figure at 0x10b972a50>"
       ]
      }
     ],
     "prompt_number": 9
    },
    {
     "cell_type": "markdown",
     "metadata": {},
     "source": [
      "#### Attempting a spaghetti plot to see what happens"
     ]
    },
    {
     "cell_type": "code",
     "collapsed": false,
     "input": [
      "data=[AFO]\n",
      "\n",
      "for fw in data:\n",
      "    participants=fw.keys()\n",
      "    \n",
      "    for participant in participants:\n",
      "        trials=fw[participant].trials.keys()\n",
      "        \n",
      "        for trial in trials:\n",
      "            if trial>4:\n",
      "                dframe=fw[participant].GetTrial(trial)\n",
      "                index=dframe.y.index.values\n",
      "                data=dframe.y['SACRAL']\n",
      "            \n",
      "                thinkplot.Plot(index, data, label=str(participant) + ',' + str(trial))\n",
      "            \n",
      "thinkplot.Show(legend=False)\n",
      "            "
     ],
     "language": "python",
     "metadata": {},
     "outputs": [
      {
       "metadata": {},
       "output_type": "display_data",
       "png": "[encoded data removed]",
       "text": [
        "<matplotlib.figure.Figure at 0x112593cd0>"
       ]
      },
      {
       "metadata": {},
       "output_type": "display_data",
       "text": [
        "<matplotlib.figure.Figure at 0x10fee8e50>"
       ]
      }
     ],
     "prompt_number": 10
    }
   ],
   "metadata": {}
  }
 ]
}