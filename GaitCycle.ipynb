{
 "metadata": {
  "name": "",
  "signature": "sha256:1482c513bccaf6dacf3e7ea20d23607ed0f4087c5f3c639ddef13cd779196e35"
 },
 "nbformat": 3,
 "nbformat_minor": 0,
 "worksheets": [
  {
   "cells": [
    {
     "cell_type": "markdown",
     "metadata": {},
     "source": [
      "###Computation to Determine Gait Cycle"
     ]
    },
    {
     "cell_type": "code",
     "collapsed": false,
     "input": [
      "%matplotlib inline\n",
      "%precision 3\n",
      "\n",
      "import numpy as np\n",
      "import scipy\n",
      "import ReadCsvs as rc"
     ],
     "language": "python",
     "metadata": {},
     "outputs": [],
     "prompt_number": 11
    },
    {
     "cell_type": "code",
     "collapsed": false,
     "input": [
      "AFO, PPAFO, Shoes=rc.ReadGaitData()"
     ],
     "language": "python",
     "metadata": {},
     "outputs": [
      {
       "output_type": "stream",
       "stream": "stdout",
       "text": [
        "Sub001_6MW_PPAFO_0001.mat\n",
        "Done reading all data!"
       ]
      },
      {
       "output_type": "stream",
       "stream": "stdout",
       "text": [
        "\n",
        "Sub001_6MW_PPAFO_0001.mat\n"
       ]
      }
     ],
     "prompt_number": 12
    },
    {
     "cell_type": "code",
     "collapsed": false,
     "input": [
      "dft_x = []\n",
      "dft_y = []\n",
      "dft_z = []"
     ],
     "language": "python",
     "metadata": {},
     "outputs": [],
     "prompt_number": 13
    },
    {
     "cell_type": "code",
     "collapsed": false,
     "input": [
      "#This still won't work because the AFO, PPAFO and Shoes are dictionaries so you still need to dive into the layers in order to\n",
      "#retrieve the actual pandas dataframe that you can then retrieve a column or iterate or whatever.\n",
      "\n",
      "#DFT - transform of gait\n",
      "\n",
      "import numpy as np\n",
      "import pylab as plt\n",
      "FullLabelSet = ['SACRAL', 'R_ASIS', 'R_TROCH', 'R_THIGH', 'R_LAT_KNEE', 'R_TIB', 'R_LAT_MAL', 'R_TOE_5', 'R_TOE_1', 'R_MED_MAL', 'R_HEEL', 'R_MED_KNEE', 'L_MED_KNEE', 'L_HEEL', 'L_MED_MAL', 'L_TOE_1', 'L_TOE_5', 'L_LAT_MAL', 'L_TIB', 'L_LAT_KNEE', 'L_TROCH', 'L_THIGH', 'L_ASIS']\n",
      "i = 3 #trial number\n",
      "frames = AFO[1].trials[i].frames\n",
      "framerate = AFO[1].trials[i].framerate\n",
      "drop_NA = []\n",
      "marker = []\n",
      "\n",
      "#Assign a time from frame and frame  - in seconds\n",
      "AFO[1].trials[i].x[\"times\"] = np.arange(0, frames) * (1.0/framerate)\n",
      "times = AFO[1].trials[i].x[\"times\"]\n",
      "\n",
      "#drop NA from times and marker values\n",
      "drop_NA = AFO[1].trials[i].x[['times', 'L_HEEL']]\n",
      "drop_NA = drop_NA.dropna()\n",
      "L_HEEL = drop_NA['L_HEEL']\n",
      "time = drop_NA[\"times\"]\n",
      "#L_HEEL = np.sin(time*5*2*np.pi) + np.sin(time*50)\n",
      "\n",
      "dft = np.fft.fft(L_HEEL)\n",
      "timeshape = time.shape\n",
      "freq = np.fft.fftfreq(timeshape[0])*framerate\n",
      "#freq = np.linspace(0.0, 1.0/(2.0*framerate), frames/2)\n",
      "print framerate\n",
      "print dft.shape, freq.shape\n",
      "plt.plot(freq, 2.0/frames * np.abs(dft[0:frames]))\n",
      "plt.xlim((-20,20))\n",
      "plt.figure()\n",
      "plt.plot(time, L_HEEL, \"o\", alpha = .2)\n",
      "plt.figure()\n",
      "\n",
      "N = 600\n",
      "# sample spacing\n",
      "T = 1.0 / 800.0\n",
      "x = np.linspace(0.0, N*T, N)\n",
      "y = np.sin(50.0 * 2.0*np.pi*x) + 0.5*np.sin(80.0 * 2.0*np.pi*x)\n",
      "yf = np.fft.fft(y)\n",
      "xf = np.linspace(0.0, 1.0/(2.0*T), N/2)\n",
      "plt.plot(xf, 2.0/N * np.abs(yf[0:N/2]))\n",
      "plt.grid()\n",
      "plt.show()\n",
      "\n",
      "\n",
      "# AFO dictionary int -> GaitClass.Participant\n",
      "#for i in range(18): #cycle through participant\n",
      "#    afo_freq += AFO[i].trials[1]\n",
      "#    ppafo_freq += PPAFO[i].trials[1]\n",
      "#    shoes_freq += Shoes[i].trials[1]\n",
      "#    markers_x=X_df\n",
      "#    markers_y=Y_df\n",
      "#            markers_z=Z_df\n",
      "#            for marker in markers_x:\n",
      "#                dft_x += np.fft(marker)\n",
      "#            for marker in markers_y:\n",
      "#                dft_y += np.fft(marker)\n",
      "#            for marker in markers_z:\n",
      "#                dft_z += np.fft(marker)\n",
      "                \n"
     ],
     "language": "python",
     "metadata": {},
     "outputs": [
      {
       "ename": "KeyError",
       "evalue": "3",
       "output_type": "pyerr",
       "traceback": [
        "\u001b[1;31m---------------------------------------------------------------------------\u001b[0m\n\u001b[1;31mKeyError\u001b[0m                                  Traceback (most recent call last)",
        "\u001b[1;32m<ipython-input-14-c47359ccdee8>\u001b[0m in \u001b[0;36m<module>\u001b[1;34m()\u001b[0m\n\u001b[0;32m      8\u001b[0m \u001b[0mFullLabelSet\u001b[0m \u001b[1;33m=\u001b[0m \u001b[1;33m[\u001b[0m\u001b[1;34m'SACRAL'\u001b[0m\u001b[1;33m,\u001b[0m \u001b[1;34m'R_ASIS'\u001b[0m\u001b[1;33m,\u001b[0m \u001b[1;34m'R_TROCH'\u001b[0m\u001b[1;33m,\u001b[0m \u001b[1;34m'R_THIGH'\u001b[0m\u001b[1;33m,\u001b[0m \u001b[1;34m'R_LAT_KNEE'\u001b[0m\u001b[1;33m,\u001b[0m \u001b[1;34m'R_TIB'\u001b[0m\u001b[1;33m,\u001b[0m \u001b[1;34m'R_LAT_MAL'\u001b[0m\u001b[1;33m,\u001b[0m \u001b[1;34m'R_TOE_5'\u001b[0m\u001b[1;33m,\u001b[0m \u001b[1;34m'R_TOE_1'\u001b[0m\u001b[1;33m,\u001b[0m \u001b[1;34m'R_MED_MAL'\u001b[0m\u001b[1;33m,\u001b[0m \u001b[1;34m'R_HEEL'\u001b[0m\u001b[1;33m,\u001b[0m \u001b[1;34m'R_MED_KNEE'\u001b[0m\u001b[1;33m,\u001b[0m \u001b[1;34m'L_MED_KNEE'\u001b[0m\u001b[1;33m,\u001b[0m \u001b[1;34m'L_HEEL'\u001b[0m\u001b[1;33m,\u001b[0m \u001b[1;34m'L_MED_MAL'\u001b[0m\u001b[1;33m,\u001b[0m \u001b[1;34m'L_TOE_1'\u001b[0m\u001b[1;33m,\u001b[0m \u001b[1;34m'L_TOE_5'\u001b[0m\u001b[1;33m,\u001b[0m \u001b[1;34m'L_LAT_MAL'\u001b[0m\u001b[1;33m,\u001b[0m \u001b[1;34m'L_TIB'\u001b[0m\u001b[1;33m,\u001b[0m \u001b[1;34m'L_LAT_KNEE'\u001b[0m\u001b[1;33m,\u001b[0m \u001b[1;34m'L_TROCH'\u001b[0m\u001b[1;33m,\u001b[0m \u001b[1;34m'L_THIGH'\u001b[0m\u001b[1;33m,\u001b[0m \u001b[1;34m'L_ASIS'\u001b[0m\u001b[1;33m]\u001b[0m\u001b[1;33m\u001b[0m\u001b[0m\n\u001b[0;32m      9\u001b[0m \u001b[0mi\u001b[0m \u001b[1;33m=\u001b[0m \u001b[1;36m3\u001b[0m \u001b[1;31m#trial number\u001b[0m\u001b[1;33m\u001b[0m\u001b[0m\n\u001b[1;32m---> 10\u001b[1;33m \u001b[0mframes\u001b[0m \u001b[1;33m=\u001b[0m \u001b[0mAFO\u001b[0m\u001b[1;33m[\u001b[0m\u001b[1;36m1\u001b[0m\u001b[1;33m]\u001b[0m\u001b[1;33m.\u001b[0m\u001b[0mtrials\u001b[0m\u001b[1;33m[\u001b[0m\u001b[0mi\u001b[0m\u001b[1;33m]\u001b[0m\u001b[1;33m.\u001b[0m\u001b[0mframes\u001b[0m\u001b[1;33m\u001b[0m\u001b[0m\n\u001b[0m\u001b[0;32m     11\u001b[0m \u001b[0mframerate\u001b[0m \u001b[1;33m=\u001b[0m \u001b[0mAFO\u001b[0m\u001b[1;33m[\u001b[0m\u001b[1;36m1\u001b[0m\u001b[1;33m]\u001b[0m\u001b[1;33m.\u001b[0m\u001b[0mtrials\u001b[0m\u001b[1;33m[\u001b[0m\u001b[0mi\u001b[0m\u001b[1;33m]\u001b[0m\u001b[1;33m.\u001b[0m\u001b[0mframerate\u001b[0m\u001b[1;33m\u001b[0m\u001b[0m\n\u001b[0;32m     12\u001b[0m \u001b[0mdrop_NA\u001b[0m \u001b[1;33m=\u001b[0m \u001b[1;33m[\u001b[0m\u001b[1;33m]\u001b[0m\u001b[1;33m\u001b[0m\u001b[0m\n",
        "\u001b[1;31mKeyError\u001b[0m: 3"
       ]
      }
     ],
     "prompt_number": 14
    },
    {
     "cell_type": "code",
     "collapsed": false,
     "input": [],
     "language": "python",
     "metadata": {},
     "outputs": []
    },
    {
     "cell_type": "code",
     "collapsed": false,
     "input": [],
     "language": "python",
     "metadata": {},
     "outputs": []
    },
    {
     "cell_type": "code",
     "collapsed": false,
     "input": [],
     "language": "python",
     "metadata": {},
     "outputs": []
    }
   ],
   "metadata": {}
  }
 ]
}