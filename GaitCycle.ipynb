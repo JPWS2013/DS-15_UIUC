{
 "metadata": {
  "name": "",
  "signature": "sha256:b1fce0d984e88e665ead0fe3cf3660ef7684d0c0d99c66efadf3242630d920d1"
 },
 "nbformat": 3,
 "nbformat_minor": 0,
 "worksheets": [
  {
   "cells": [
    {
     "cell_type": "markdown",
     "metadata": {},
     "source": [
      "###Computation to Determine Gait Cycle"
     ]
    },
    {
     "cell_type": "code",
     "collapsed": false,
     "input": [
      "%matplotlib inline\n",
      "%precision 3\n",
      "import numpy as np\n",
      "import scipy\n",
      "import ReadCsvs as rc\n",
      "import thinkstats2\n",
      "import thinkplot"
     ],
     "language": "python",
     "metadata": {},
     "outputs": [],
     "prompt_number": 2
    },
    {
     "cell_type": "code",
     "collapsed": false,
     "input": [
      "AFO, PPAFO, Shoes=rc.ReadGaitData()"
     ],
     "language": "python",
     "metadata": {},
     "outputs": [
      {
       "output_type": "stream",
       "stream": "stdout",
       "text": [
        "Sub001_6MW_AFO_0001.mat\n",
        "Sub001_6MW_AFO_0002.mat"
       ]
      },
      {
       "output_type": "stream",
       "stream": "stdout",
       "text": [
        "\n",
        "Sub001_6MW_AFO_0003.mat"
       ]
      },
      {
       "output_type": "stream",
       "stream": "stdout",
       "text": [
        "\n",
        "Sub001_6MW_AFO_0004.mat"
       ]
      },
      {
       "output_type": "stream",
       "stream": "stdout",
       "text": [
        "\n",
        "Sub001_6MW_AFO_0005.mat"
       ]
      },
      {
       "output_type": "stream",
       "stream": "stdout",
       "text": [
        "\n",
        "Sub001_6MW_AFO_0006.mat"
       ]
      },
      {
       "output_type": "stream",
       "stream": "stdout",
       "text": [
        "\n",
        "Sub001_6MW_AFO_0007.mat"
       ]
      },
      {
       "output_type": "stream",
       "stream": "stdout",
       "text": [
        "\n",
        "Sub001_6MW_AFO_0008.mat"
       ]
      },
      {
       "output_type": "stream",
       "stream": "stdout",
       "text": [
        "\n",
        "Sub001_6MW_AFO_0009.mat"
       ]
      },
      {
       "output_type": "stream",
       "stream": "stdout",
       "text": [
        "\n",
        "Sub001_6MW_PPAFO_0001.mat"
       ]
      },
      {
       "output_type": "stream",
       "stream": "stdout",
       "text": [
        "\n",
        "Sub001_6MW_PPAFO_0002.mat"
       ]
      },
      {
       "output_type": "stream",
       "stream": "stdout",
       "text": [
        "\n",
        "Sub001_6MW_PPAFO_0003.mat"
       ]
      },
      {
       "output_type": "stream",
       "stream": "stdout",
       "text": [
        "\n",
        "Sub001_6MW_PPAFO_0004.mat"
       ]
      },
      {
       "output_type": "stream",
       "stream": "stdout",
       "text": [
        "\n",
        "Sub001_6MW_PPAFO_0005.mat"
       ]
      },
      {
       "output_type": "stream",
       "stream": "stdout",
       "text": [
        "\n",
        "Sub001_6MW_PPAFO_0006.mat"
       ]
      },
      {
       "output_type": "stream",
       "stream": "stdout",
       "text": [
        "\n",
        "Sub001_6MW_PPAFO_0007.mat"
       ]
      },
      {
       "output_type": "stream",
       "stream": "stdout",
       "text": [
        "\n",
        "Sub001_6MW_PPAFO_0008.mat"
       ]
      },
      {
       "output_type": "stream",
       "stream": "stdout",
       "text": [
        "\n",
        "Sub001_6MW_PPAFO_0009.mat"
       ]
      },
      {
       "output_type": "stream",
       "stream": "stdout",
       "text": [
        "\n",
        "Sub001_6MW_Shoes_0001.mat"
       ]
      },
      {
       "output_type": "stream",
       "stream": "stdout",
       "text": [
        "\n",
        "Sub001_6MW_Shoes_0002.mat"
       ]
      },
      {
       "output_type": "stream",
       "stream": "stdout",
       "text": [
        "\n",
        "Sub001_6MW_Shoes_0003.mat"
       ]
      },
      {
       "output_type": "stream",
       "stream": "stdout",
       "text": [
        "\n",
        "Sub001_6MW_Shoes_0004.mat"
       ]
      },
      {
       "output_type": "stream",
       "stream": "stdout",
       "text": [
        "\n",
        "Sub001_6MW_Shoes_0005.mat"
       ]
      },
      {
       "output_type": "stream",
       "stream": "stdout",
       "text": [
        "\n",
        "Sub001_6MW_Shoes_0006.mat"
       ]
      },
      {
       "output_type": "stream",
       "stream": "stdout",
       "text": [
        "\n",
        "Sub001_6MW_Shoes_0007.mat"
       ]
      },
      {
       "output_type": "stream",
       "stream": "stdout",
       "text": [
        "\n",
        "Sub001_6MW_Shoes_0008.mat"
       ]
      },
      {
       "output_type": "stream",
       "stream": "stdout",
       "text": [
        "\n",
        "Sub001_6MW_Shoes_0009.mat"
       ]
      },
      {
       "output_type": "stream",
       "stream": "stdout",
       "text": [
        "\n",
        "Sub002_6MW_AFO_0001.mat"
       ]
      },
      {
       "output_type": "stream",
       "stream": "stdout",
       "text": [
        "\n",
        "Sub002_6MW_AFO_0002.mat"
       ]
      },
      {
       "output_type": "stream",
       "stream": "stdout",
       "text": [
        "\n",
        "Sub002_6MW_AFO_0003.mat"
       ]
      },
      {
       "output_type": "stream",
       "stream": "stdout",
       "text": [
        "\n",
        "Sub002_6MW_AFO_0004.mat"
       ]
      },
      {
       "output_type": "stream",
       "stream": "stdout",
       "text": [
        "\n",
        "Sub002_6MW_AFO_0005.mat"
       ]
      },
      {
       "output_type": "stream",
       "stream": "stdout",
       "text": [
        "\n",
        "Sub002_6MW_AFO_0006.mat"
       ]
      },
      {
       "output_type": "stream",
       "stream": "stdout",
       "text": [
        "\n",
        "Sub002_6MW_AFO_0007.mat"
       ]
      },
      {
       "output_type": "stream",
       "stream": "stdout",
       "text": [
        "\n",
        "Sub002_6MW_AFO_0008.mat"
       ]
      },
      {
       "output_type": "stream",
       "stream": "stdout",
       "text": [
        "\n",
        "Sub002_6MW_AFO_0009.mat"
       ]
      },
      {
       "output_type": "stream",
       "stream": "stdout",
       "text": [
        "\n",
        "Sub002_6MW_PPAFO_0001.mat"
       ]
      },
      {
       "output_type": "stream",
       "stream": "stdout",
       "text": [
        "\n",
        "Sub002_6MW_PPAFO_0002.mat"
       ]
      },
      {
       "output_type": "stream",
       "stream": "stdout",
       "text": [
        "\n",
        "Sub002_6MW_PPAFO_0003.mat"
       ]
      },
      {
       "output_type": "stream",
       "stream": "stdout",
       "text": [
        "\n",
        "Sub002_6MW_PPAFO_0004.mat"
       ]
      },
      {
       "output_type": "stream",
       "stream": "stdout",
       "text": [
        "\n",
        "Sub002_6MW_PPAFO_0005.mat"
       ]
      },
      {
       "output_type": "stream",
       "stream": "stdout",
       "text": [
        "\n",
        "Sub002_6MW_PPAFO_0006.mat"
       ]
      },
      {
       "output_type": "stream",
       "stream": "stdout",
       "text": [
        "\n",
        "Sub002_6MW_PPAFO_0007.mat"
       ]
      },
      {
       "output_type": "stream",
       "stream": "stdout",
       "text": [
        "\n",
        "Sub002_6MW_PPAFO_0008.mat"
       ]
      },
      {
       "output_type": "stream",
       "stream": "stdout",
       "text": [
        "\n",
        "Sub002_6MW_Shoe_0001.mat"
       ]
      },
      {
       "output_type": "stream",
       "stream": "stdout",
       "text": [
        "\n",
        "Sub002_6MW_Shoe_0002.mat"
       ]
      },
      {
       "output_type": "stream",
       "stream": "stdout",
       "text": [
        "\n",
        "Sub002_6MW_Shoe_0003.mat"
       ]
      },
      {
       "output_type": "stream",
       "stream": "stdout",
       "text": [
        "\n",
        "Sub002_6MW_Shoe_0004.mat"
       ]
      },
      {
       "output_type": "stream",
       "stream": "stdout",
       "text": [
        "\n",
        "Sub002_6MW_Shoe_0005.mat"
       ]
      },
      {
       "output_type": "stream",
       "stream": "stdout",
       "text": [
        "\n",
        "Sub002_6MW_Shoe_0006.mat"
       ]
      },
      {
       "output_type": "stream",
       "stream": "stdout",
       "text": [
        "\n",
        "Sub002_6MW_Shoe_0007.mat"
       ]
      },
      {
       "output_type": "stream",
       "stream": "stdout",
       "text": [
        "\n",
        "Sub002_6MW_Shoe_0008.mat"
       ]
      },
      {
       "output_type": "stream",
       "stream": "stdout",
       "text": [
        "\n",
        "BAD_DATA_Sub003_6MW_AFO_0005.mat"
       ]
      },
      {
       "output_type": "stream",
       "stream": "stdout",
       "text": [
        "\n",
        "Sub003_6MW_AFO_0001.mat"
       ]
      },
      {
       "output_type": "stream",
       "stream": "stdout",
       "text": [
        "\n",
        "Sub003_6MW_AFO_0002.mat"
       ]
      },
      {
       "output_type": "stream",
       "stream": "stdout",
       "text": [
        "\n",
        "Sub003_6MW_AFO_0003.mat"
       ]
      },
      {
       "output_type": "stream",
       "stream": "stdout",
       "text": [
        "\n",
        "Sub003_6MW_AFO_0005.mat"
       ]
      },
      {
       "output_type": "stream",
       "stream": "stdout",
       "text": [
        "\n",
        "Sub003_6MW_AFO_0006.mat\n",
        "Sub003_6MW_AFO_0007.mat"
       ]
      },
      {
       "output_type": "stream",
       "stream": "stdout",
       "text": [
        "\n",
        "Sub003_6MW_AFO_0008.mat"
       ]
      },
      {
       "output_type": "stream",
       "stream": "stdout",
       "text": [
        "\n",
        "Sub003_6MW_AFO_0009.mat"
       ]
      },
      {
       "output_type": "stream",
       "stream": "stdout",
       "text": [
        "\n",
        "Sub003_6MW_PPAFO_0003.mat"
       ]
      },
      {
       "output_type": "stream",
       "stream": "stdout",
       "text": [
        "\n",
        "Sub003_6MW_PPAFO_0004.mat"
       ]
      },
      {
       "output_type": "stream",
       "stream": "stdout",
       "text": [
        "\n",
        "Sub003_6MW_PPAFO_0005.mat"
       ]
      },
      {
       "output_type": "stream",
       "stream": "stdout",
       "text": [
        "\n",
        "Sub003_6MW_PPAFO_0006.mat"
       ]
      },
      {
       "output_type": "stream",
       "stream": "stdout",
       "text": [
        "\n",
        "Sub003_6MW_PPAFO_0007.mat"
       ]
      },
      {
       "output_type": "stream",
       "stream": "stdout",
       "text": [
        "\n",
        "Sub003_6MW_PPAFO_0008.mat"
       ]
      },
      {
       "output_type": "stream",
       "stream": "stdout",
       "text": [
        "\n",
        "Sub003_6MW_PPAFO_0009.mat"
       ]
      },
      {
       "output_type": "stream",
       "stream": "stdout",
       "text": [
        "\n",
        "Sub003_6MW_Shoe_0001.mat"
       ]
      },
      {
       "output_type": "stream",
       "stream": "stdout",
       "text": [
        "\n",
        "Sub003_6MW_Shoe_0002.mat"
       ]
      },
      {
       "output_type": "stream",
       "stream": "stdout",
       "text": [
        "\n",
        "Sub003_6MW_Shoe_0003.mat"
       ]
      },
      {
       "output_type": "stream",
       "stream": "stdout",
       "text": [
        "\n",
        "Sub003_6MW_Shoe_0004.mat"
       ]
      },
      {
       "output_type": "stream",
       "stream": "stdout",
       "text": [
        "\n",
        "Sub003_6MW_Shoe_0005.mat"
       ]
      },
      {
       "output_type": "stream",
       "stream": "stdout",
       "text": [
        "\n",
        "Sub003_6MW_Shoe_0006.mat"
       ]
      },
      {
       "output_type": "stream",
       "stream": "stdout",
       "text": [
        "\n",
        "Sub003_6MW_Shoe_0007.mat"
       ]
      },
      {
       "output_type": "stream",
       "stream": "stdout",
       "text": [
        "\n",
        "Sub003_6MW_Shoe_0008.mat"
       ]
      },
      {
       "output_type": "stream",
       "stream": "stdout",
       "text": [
        "\n",
        "Sub003_6MW_Shoe_0009.mat"
       ]
      },
      {
       "output_type": "stream",
       "stream": "stdout",
       "text": [
        "\n",
        "Sub003_6MW_Shoe_0010.mat"
       ]
      },
      {
       "output_type": "stream",
       "stream": "stdout",
       "text": [
        "\n",
        "Sub003_6MW_Shoe_0011.mat"
       ]
      },
      {
       "output_type": "stream",
       "stream": "stdout",
       "text": [
        "\n",
        "Sub004_6MW_AFO_0001.mat"
       ]
      },
      {
       "output_type": "stream",
       "stream": "stdout",
       "text": [
        "\n",
        "Sub004_6MW_AFO_0002.mat"
       ]
      },
      {
       "output_type": "stream",
       "stream": "stdout",
       "text": [
        "\n",
        "Sub004_6MW_AFO_0003.mat"
       ]
      },
      {
       "output_type": "stream",
       "stream": "stdout",
       "text": [
        "\n",
        "Sub004_6MW_AFO_0004.mat"
       ]
      },
      {
       "output_type": "stream",
       "stream": "stdout",
       "text": [
        "\n",
        "Sub004_6MW_PPAFO_0001.mat"
       ]
      },
      {
       "output_type": "stream",
       "stream": "stdout",
       "text": [
        "\n",
        "Sub004_6MW_PPAFO_0002.mat"
       ]
      },
      {
       "output_type": "stream",
       "stream": "stdout",
       "text": [
        "\n",
        "Sub004_6MW_PPAFO_0003.mat"
       ]
      },
      {
       "output_type": "stream",
       "stream": "stdout",
       "text": [
        "\n",
        "Sub004_6MW_PPAFO_0004.mat"
       ]
      },
      {
       "output_type": "stream",
       "stream": "stdout",
       "text": [
        "\n",
        "Sub004_6MW_PPAFO_0005.mat"
       ]
      },
      {
       "output_type": "stream",
       "stream": "stdout",
       "text": [
        "\n",
        "Sub004_6MW_PPAFO_0006.mat"
       ]
      },
      {
       "output_type": "stream",
       "stream": "stdout",
       "text": [
        "\n",
        "Sub004_6MW_Shoes_0001.mat"
       ]
      },
      {
       "output_type": "stream",
       "stream": "stdout",
       "text": [
        "\n",
        "Sub004_6MW_Shoes_0002.mat"
       ]
      },
      {
       "output_type": "stream",
       "stream": "stdout",
       "text": [
        "\n",
        "Sub004_6MW_Shoes_0003.mat"
       ]
      },
      {
       "output_type": "stream",
       "stream": "stdout",
       "text": [
        "\n",
        "Sub004_6MW_Shoes_0004.mat"
       ]
      },
      {
       "output_type": "stream",
       "stream": "stdout",
       "text": [
        "\n",
        "Sub004_6MW_Shoes_0005.mat"
       ]
      },
      {
       "output_type": "stream",
       "stream": "stdout",
       "text": [
        "\n",
        "Sub005_6MW_AFO_0001.mat"
       ]
      },
      {
       "output_type": "stream",
       "stream": "stdout",
       "text": [
        "\n",
        "Sub005_6MW_AFO_0002.mat"
       ]
      },
      {
       "output_type": "stream",
       "stream": "stdout",
       "text": [
        "\n",
        "Sub005_6MW_AFO_0003.mat"
       ]
      },
      {
       "output_type": "stream",
       "stream": "stdout",
       "text": [
        "\n",
        "Sub005_6MW_AFO_0004.mat"
       ]
      },
      {
       "output_type": "stream",
       "stream": "stdout",
       "text": [
        "\n",
        "Sub005_6MW_AFO_0006.mat"
       ]
      },
      {
       "output_type": "stream",
       "stream": "stdout",
       "text": [
        "\n",
        "Sub005_6MW_AFO_0007.mat"
       ]
      },
      {
       "output_type": "stream",
       "stream": "stdout",
       "text": [
        "\n",
        "Sub005_6MW_AFO_0008.mat"
       ]
      },
      {
       "output_type": "stream",
       "stream": "stdout",
       "text": [
        "\n",
        "Sub005_6MW_AFO_0009.mat"
       ]
      },
      {
       "output_type": "stream",
       "stream": "stdout",
       "text": [
        "\n",
        "Sub005_6MW_AFO_0010.mat"
       ]
      },
      {
       "output_type": "stream",
       "stream": "stdout",
       "text": [
        "\n",
        "Sub005_6MW_AFO_0011.mat"
       ]
      },
      {
       "output_type": "stream",
       "stream": "stdout",
       "text": [
        "\n",
        "Sub005_6MW_AFO_0012.mat"
       ]
      },
      {
       "output_type": "stream",
       "stream": "stdout",
       "text": [
        "\n",
        "Sub005_6MW_AFO_0013.mat"
       ]
      },
      {
       "output_type": "stream",
       "stream": "stdout",
       "text": [
        "\n",
        "Sub005_6MW_PPAFO_0001.mat"
       ]
      },
      {
       "output_type": "stream",
       "stream": "stdout",
       "text": [
        "\n",
        "Sub005_6MW_PPAFO_0002.mat"
       ]
      },
      {
       "output_type": "stream",
       "stream": "stdout",
       "text": [
        "\n",
        "Sub005_6MW_PPAFO_0003.mat"
       ]
      },
      {
       "output_type": "stream",
       "stream": "stdout",
       "text": [
        "\n",
        "Sub005_6MW_PPAFO_0006_static.mat"
       ]
      },
      {
       "output_type": "stream",
       "stream": "stdout",
       "text": [
        "\n",
        "Sub005_6MW_PPAFO_0007.mat"
       ]
      },
      {
       "output_type": "stream",
       "stream": "stdout",
       "text": [
        "\n",
        "Sub005_6MW_PPAFO_0008_static.mat"
       ]
      },
      {
       "output_type": "stream",
       "stream": "stdout",
       "text": [
        "\n",
        "Sub005_6MW_PPAFO_0009.mat"
       ]
      },
      {
       "output_type": "stream",
       "stream": "stdout",
       "text": [
        "\n",
        "Sub005_6MW_PPAFO_0010.mat"
       ]
      },
      {
       "output_type": "stream",
       "stream": "stdout",
       "text": [
        "\n",
        "Sub005_6MW_PPAFO_0011.mat"
       ]
      },
      {
       "output_type": "stream",
       "stream": "stdout",
       "text": [
        "\n",
        "Sub005_6MW_PPAFO_0012.mat"
       ]
      },
      {
       "output_type": "stream",
       "stream": "stdout",
       "text": [
        "\n",
        "Sub005_6MW_PPAFO_0013.mat"
       ]
      },
      {
       "output_type": "stream",
       "stream": "stdout",
       "text": [
        "\n",
        "Sub005_6MW_PPAFO_0016.mat"
       ]
      },
      {
       "output_type": "stream",
       "stream": "stdout",
       "text": [
        "\n",
        "Sub005_6MW_Shoes_0001_Static_good.mat"
       ]
      },
      {
       "output_type": "stream",
       "stream": "stdout",
       "text": [
        "\n",
        "Sub005_6MW_Shoes_0002_static.mat"
       ]
      },
      {
       "output_type": "stream",
       "stream": "stdout",
       "text": [
        "\n",
        "Sub005_6MW_Shoes_0003_static.mat"
       ]
      },
      {
       "output_type": "stream",
       "stream": "stdout",
       "text": [
        "\n",
        "Sub005_6MW_Shoes_0004.mat"
       ]
      },
      {
       "output_type": "stream",
       "stream": "stdout",
       "text": [
        "\n",
        "Sub005_6MW_Shoes_0006.mat"
       ]
      },
      {
       "output_type": "stream",
       "stream": "stdout",
       "text": [
        "\n",
        "Sub005_6MW_Shoes_0007.mat"
       ]
      },
      {
       "output_type": "stream",
       "stream": "stdout",
       "text": [
        "\n",
        "Sub005_6MW_Shoes_0008.mat"
       ]
      },
      {
       "output_type": "stream",
       "stream": "stdout",
       "text": [
        "\n",
        "Sub005_6MW_Shoes_0009.mat"
       ]
      },
      {
       "output_type": "stream",
       "stream": "stdout",
       "text": [
        "\n",
        "Sub005_6MW_Shoes_0010.mat"
       ]
      },
      {
       "output_type": "stream",
       "stream": "stdout",
       "text": [
        "\n",
        "Sub005_6MW_Shoes_0012.mat"
       ]
      },
      {
       "output_type": "stream",
       "stream": "stdout",
       "text": [
        "\n",
        "Sub005_6MW_Shoes_0013.mat"
       ]
      },
      {
       "output_type": "stream",
       "stream": "stdout",
       "text": [
        "\n",
        "Sub007_6MW_AFO_0008.mat"
       ]
      },
      {
       "output_type": "stream",
       "stream": "stdout",
       "text": [
        "\n",
        "Sub007_6MW_AFO_0009.mat"
       ]
      },
      {
       "output_type": "stream",
       "stream": "stdout",
       "text": [
        "\n",
        "Sub007_6MW_AFO_0010.mat"
       ]
      },
      {
       "output_type": "stream",
       "stream": "stdout",
       "text": [
        "\n",
        "Sub007_6MW_AFO_0011.mat"
       ]
      },
      {
       "output_type": "stream",
       "stream": "stdout",
       "text": [
        "\n",
        "Sub007_6MW_AFO_0012.mat"
       ]
      },
      {
       "output_type": "stream",
       "stream": "stdout",
       "text": [
        "\n",
        "Sub007_6MW_PPAFO_0001.mat"
       ]
      },
      {
       "output_type": "stream",
       "stream": "stdout",
       "text": [
        "\n",
        "Sub007_6MW_PPAFO_0002.mat"
       ]
      },
      {
       "output_type": "stream",
       "stream": "stdout",
       "text": [
        "\n",
        "Sub007_6MW_PPAFO_0003.mat\n",
        "Sub007_6MW_PPAFO_0004.mat"
       ]
      },
      {
       "output_type": "stream",
       "stream": "stdout",
       "text": [
        "\n",
        "Sub007_6MW_PPAFO_0005.mat"
       ]
      },
      {
       "output_type": "stream",
       "stream": "stdout",
       "text": [
        "\n",
        "Sub007_6MW_PPAFO_0006.mat"
       ]
      },
      {
       "output_type": "stream",
       "stream": "stdout",
       "text": [
        "\n",
        "Sub007_6MW_Shoes_0001.mat"
       ]
      },
      {
       "output_type": "stream",
       "stream": "stdout",
       "text": [
        "\n",
        "Sub007_6MW_Shoes_0002.mat"
       ]
      },
      {
       "output_type": "stream",
       "stream": "stdout",
       "text": [
        "\n",
        "Sub007_6MW_Shoes_0003.mat"
       ]
      },
      {
       "output_type": "stream",
       "stream": "stdout",
       "text": [
        "\n",
        "Sub007_6MW_Shoes_0004.mat"
       ]
      },
      {
       "output_type": "stream",
       "stream": "stdout",
       "text": [
        "\n",
        "Sub007_6MW_Shoes_0005.mat"
       ]
      },
      {
       "output_type": "stream",
       "stream": "stdout",
       "text": [
        "\n",
        "Sub007_6MW_Shoes_0006.mat"
       ]
      },
      {
       "output_type": "stream",
       "stream": "stdout",
       "text": [
        "\n",
        "Sub009_6MW_AFO_0001.mat"
       ]
      },
      {
       "output_type": "stream",
       "stream": "stdout",
       "text": [
        "\n",
        "Sub009_6MW_AFO_0002.mat"
       ]
      },
      {
       "output_type": "stream",
       "stream": "stdout",
       "text": [
        "\n",
        "Sub009_6MW_AFO_0003.mat"
       ]
      },
      {
       "output_type": "stream",
       "stream": "stdout",
       "text": [
        "\n",
        "Sub009_6MW_AFO_0004.mat"
       ]
      },
      {
       "output_type": "stream",
       "stream": "stdout",
       "text": [
        "\n",
        "Sub009_6MW_AFO_0005.mat"
       ]
      },
      {
       "output_type": "stream",
       "stream": "stdout",
       "text": [
        "\n",
        "Sub009_6MW_PPAFO_0001.mat"
       ]
      },
      {
       "output_type": "stream",
       "stream": "stdout",
       "text": [
        "\n",
        "Sub009_6MW_PPAFO_0002_static.mat"
       ]
      },
      {
       "output_type": "stream",
       "stream": "stdout",
       "text": [
        "\n",
        "Sub009_6MW_PPAFO_0003.mat"
       ]
      },
      {
       "output_type": "stream",
       "stream": "stdout",
       "text": [
        "\n",
        "Sub009_6MW_PPAFO_0004.mat"
       ]
      },
      {
       "output_type": "stream",
       "stream": "stdout",
       "text": [
        "\n",
        "Sub009_6MW_PPAFO_0005.mat"
       ]
      },
      {
       "output_type": "stream",
       "stream": "stdout",
       "text": [
        "\n",
        "Sub009_6MW_PPAFO_0006.mat"
       ]
      },
      {
       "output_type": "stream",
       "stream": "stdout",
       "text": [
        "\n",
        "Sub009_6MW_Shoes_0001.mat"
       ]
      },
      {
       "output_type": "stream",
       "stream": "stdout",
       "text": [
        "\n",
        "Sub009_6MW_Shoes_0002.mat"
       ]
      },
      {
       "output_type": "stream",
       "stream": "stdout",
       "text": [
        "\n",
        "Sub009_6MW_Shoes_0003.mat"
       ]
      },
      {
       "output_type": "stream",
       "stream": "stdout",
       "text": [
        "\n",
        "Sub009_6MW_Shoes_0004.mat"
       ]
      },
      {
       "output_type": "stream",
       "stream": "stdout",
       "text": [
        "\n",
        "Sub010_6MW_AFO_0001.mat"
       ]
      },
      {
       "output_type": "stream",
       "stream": "stdout",
       "text": [
        "\n",
        "Sub010_6MW_AFO_0002.mat"
       ]
      },
      {
       "output_type": "stream",
       "stream": "stdout",
       "text": [
        "\n",
        "Sub010_6MW_AFO_0003.mat"
       ]
      },
      {
       "output_type": "stream",
       "stream": "stdout",
       "text": [
        "\n",
        "Sub010_6MW_AFO_0004.mat"
       ]
      },
      {
       "output_type": "stream",
       "stream": "stdout",
       "text": [
        "\n",
        "Sub010_6MW_AFO_0005.mat"
       ]
      },
      {
       "output_type": "stream",
       "stream": "stdout",
       "text": [
        "\n",
        "Sub010_6MW_PPAFO_0001.mat"
       ]
      },
      {
       "output_type": "stream",
       "stream": "stdout",
       "text": [
        "\n",
        "Sub010_6MW_PPAFO_0002.mat"
       ]
      },
      {
       "output_type": "stream",
       "stream": "stdout",
       "text": [
        "\n",
        "Sub010_6MW_PPAFO_0003.mat"
       ]
      },
      {
       "output_type": "stream",
       "stream": "stdout",
       "text": [
        "\n",
        "Sub010_6MW_PPAFO_0004.mat"
       ]
      },
      {
       "output_type": "stream",
       "stream": "stdout",
       "text": [
        "\n",
        "Sub010_6MW_PPAFO_0005.mat"
       ]
      },
      {
       "output_type": "stream",
       "stream": "stdout",
       "text": [
        "\n",
        "Sub010_6MW_PPAFO_0006.mat"
       ]
      },
      {
       "output_type": "stream",
       "stream": "stdout",
       "text": [
        "\n",
        "Sub010_6MW_Shoes_0004.mat"
       ]
      },
      {
       "output_type": "stream",
       "stream": "stdout",
       "text": [
        "\n",
        "Sub010_6MW_Shoes_0005.mat"
       ]
      },
      {
       "output_type": "stream",
       "stream": "stdout",
       "text": [
        "\n",
        "Sub010_6MW_Shoes_0006.mat"
       ]
      },
      {
       "output_type": "stream",
       "stream": "stdout",
       "text": [
        "\n",
        "Sub010_6MW_Shoes_0007.mat"
       ]
      },
      {
       "output_type": "stream",
       "stream": "stdout",
       "text": [
        "\n",
        "Sub010_6MW_Shoes_0008.mat"
       ]
      },
      {
       "output_type": "stream",
       "stream": "stdout",
       "text": [
        "\n",
        "Sub011_6MW_AFO_0001.mat\n",
        "Sub011_6MW_AFO_0002.mat"
       ]
      },
      {
       "output_type": "stream",
       "stream": "stdout",
       "text": [
        "\n",
        "Sub011_6MW_AFO_0003.mat"
       ]
      },
      {
       "output_type": "stream",
       "stream": "stdout",
       "text": [
        "\n",
        "Sub011_6MW_AFO_0004.mat"
       ]
      },
      {
       "output_type": "stream",
       "stream": "stdout",
       "text": [
        "\n",
        "Sub011_6MW_AFO_0005.mat"
       ]
      },
      {
       "output_type": "stream",
       "stream": "stdout",
       "text": [
        "\n",
        "Sub011_6MW_AFO_0006.mat"
       ]
      },
      {
       "output_type": "stream",
       "stream": "stdout",
       "text": [
        "\n",
        "Sub011_6MW_AFO_0007.mat"
       ]
      },
      {
       "output_type": "stream",
       "stream": "stdout",
       "text": [
        "\n",
        "Sub011_6MW_AFO_0008.mat"
       ]
      },
      {
       "output_type": "stream",
       "stream": "stdout",
       "text": [
        "\n",
        "Sub011_6MW_AFO_0009.mat"
       ]
      },
      {
       "output_type": "stream",
       "stream": "stdout",
       "text": [
        "\n",
        "Sub011_6MW_AFO_0010.mat"
       ]
      },
      {
       "output_type": "stream",
       "stream": "stdout",
       "text": [
        "\n",
        "Sub011_6MW_PPAFO_0001.mat"
       ]
      },
      {
       "output_type": "stream",
       "stream": "stdout",
       "text": [
        "\n",
        "Sub011_6MW_PPAFO_0002.mat"
       ]
      },
      {
       "output_type": "stream",
       "stream": "stdout",
       "text": [
        "\n",
        "Sub011_6MW_PPAFO_0003.mat"
       ]
      },
      {
       "output_type": "stream",
       "stream": "stdout",
       "text": [
        "\n",
        "Sub011_6MW_PPAFO_0004.mat"
       ]
      },
      {
       "output_type": "stream",
       "stream": "stdout",
       "text": [
        "\n",
        "Sub011_6MW_PPAFO_0005.mat"
       ]
      },
      {
       "output_type": "stream",
       "stream": "stdout",
       "text": [
        "\n",
        "Sub011_6MW_PPAFO_0006.mat"
       ]
      },
      {
       "output_type": "stream",
       "stream": "stdout",
       "text": [
        "\n",
        "Sub011_6MW_PPAFO_0007.mat"
       ]
      },
      {
       "output_type": "stream",
       "stream": "stdout",
       "text": [
        "\n",
        "Sub011_6MW_Shoes_0001.mat"
       ]
      },
      {
       "output_type": "stream",
       "stream": "stdout",
       "text": [
        "\n",
        "Sub011_6MW_Shoes_0002_static.mat"
       ]
      },
      {
       "output_type": "stream",
       "stream": "stdout",
       "text": [
        "\n",
        "Sub011_6MW_Shoes_0003.mat"
       ]
      },
      {
       "output_type": "stream",
       "stream": "stdout",
       "text": [
        "\n",
        "Sub011_6MW_Shoes_0004.mat"
       ]
      },
      {
       "output_type": "stream",
       "stream": "stdout",
       "text": [
        "\n",
        "Sub011_6MW_Shoes_0005.mat"
       ]
      },
      {
       "output_type": "stream",
       "stream": "stdout",
       "text": [
        "\n",
        "Sub011_6MW_Shoes_0006.mat"
       ]
      },
      {
       "output_type": "stream",
       "stream": "stdout",
       "text": [
        "\n",
        "Sub011_6MW_Shoes_0007.mat"
       ]
      },
      {
       "output_type": "stream",
       "stream": "stdout",
       "text": [
        "\n",
        "Sub011_6MW_Shoes_0008.mat"
       ]
      },
      {
       "output_type": "stream",
       "stream": "stdout",
       "text": [
        "\n",
        "Sub011_6MW_Shoes_0009.mat"
       ]
      },
      {
       "output_type": "stream",
       "stream": "stdout",
       "text": [
        "\n",
        "Sub012_6MW_AFO_0001.mat"
       ]
      },
      {
       "output_type": "stream",
       "stream": "stdout",
       "text": [
        "\n",
        "Sub012_6MW_AFO_0002.mat"
       ]
      },
      {
       "output_type": "stream",
       "stream": "stdout",
       "text": [
        "\n",
        "Sub012_6MW_AFO_0003.mat"
       ]
      },
      {
       "output_type": "stream",
       "stream": "stdout",
       "text": [
        "\n",
        "Sub012_6MW_AFO_0004.mat"
       ]
      },
      {
       "output_type": "stream",
       "stream": "stdout",
       "text": [
        "\n",
        "Sub012_6MW_AFO_0005.mat"
       ]
      },
      {
       "output_type": "stream",
       "stream": "stdout",
       "text": [
        "\n",
        "Sub012_6MW_AFO_0006.mat"
       ]
      },
      {
       "output_type": "stream",
       "stream": "stdout",
       "text": [
        "\n",
        "Sub012_6MW_AFO_0007.mat"
       ]
      },
      {
       "output_type": "stream",
       "stream": "stdout",
       "text": [
        "\n",
        "Sub012_6MW_AFO_0008.mat"
       ]
      },
      {
       "output_type": "stream",
       "stream": "stdout",
       "text": [
        "\n",
        "Sub012_6MW_AFO_0009.mat"
       ]
      },
      {
       "output_type": "stream",
       "stream": "stdout",
       "text": [
        "\n",
        "Sub012_6MW_AFO_0010.mat"
       ]
      },
      {
       "output_type": "stream",
       "stream": "stdout",
       "text": [
        "\n",
        "Sub012_6MW_PPAFO_0001.mat"
       ]
      },
      {
       "output_type": "stream",
       "stream": "stdout",
       "text": [
        "\n",
        "Sub012_6MW_PPAFO_0002.mat"
       ]
      },
      {
       "output_type": "stream",
       "stream": "stdout",
       "text": [
        "\n",
        "Sub012_6MW_PPAFO_0003.mat"
       ]
      },
      {
       "output_type": "stream",
       "stream": "stdout",
       "text": [
        "\n",
        "Sub012_6MW_PPAFO_0005.mat"
       ]
      },
      {
       "output_type": "stream",
       "stream": "stdout",
       "text": [
        "\n",
        "Sub012_6MW_PPAFO_0006.mat"
       ]
      },
      {
       "output_type": "stream",
       "stream": "stdout",
       "text": [
        "\n",
        "Sub012_6MW_PPAFO_0007.mat"
       ]
      },
      {
       "output_type": "stream",
       "stream": "stdout",
       "text": [
        "\n",
        "Sub012_6MW_PPAFO_0008.mat"
       ]
      },
      {
       "output_type": "stream",
       "stream": "stdout",
       "text": [
        "\n",
        "Sub012_6MW_PPAFO_0009.mat"
       ]
      },
      {
       "output_type": "stream",
       "stream": "stdout",
       "text": [
        "\n",
        "Sub012_6MW_PPAFO_0010.mat"
       ]
      },
      {
       "output_type": "stream",
       "stream": "stdout",
       "text": [
        "\n",
        "Sub012_6MW_Shoes_0001.mat"
       ]
      },
      {
       "output_type": "stream",
       "stream": "stdout",
       "text": [
        "\n",
        "Sub012_6MW_Shoes_0003.mat"
       ]
      },
      {
       "output_type": "stream",
       "stream": "stdout",
       "text": [
        "\n",
        "Sub012_6MW_Shoes_0004.mat"
       ]
      },
      {
       "output_type": "stream",
       "stream": "stdout",
       "text": [
        "\n",
        "Sub012_6MW_Shoes_0005.mat"
       ]
      },
      {
       "output_type": "stream",
       "stream": "stdout",
       "text": [
        "\n",
        "Sub012_6MW_Shoes_0007.mat"
       ]
      },
      {
       "output_type": "stream",
       "stream": "stdout",
       "text": [
        "\n",
        "Sub012_6MW_Shoes_0008.mat"
       ]
      },
      {
       "output_type": "stream",
       "stream": "stdout",
       "text": [
        "\n",
        "Sub012_6MW_Shoes_0009.mat"
       ]
      },
      {
       "output_type": "stream",
       "stream": "stdout",
       "text": [
        "\n",
        "Sub012_6MW_Shoes_0010.mat"
       ]
      },
      {
       "output_type": "stream",
       "stream": "stdout",
       "text": [
        "\n",
        "Sub012_6MW_Shoes_0011.mat"
       ]
      },
      {
       "output_type": "stream",
       "stream": "stdout",
       "text": [
        "\n",
        "Sub013_6MW_AFO_0001.mat"
       ]
      },
      {
       "output_type": "stream",
       "stream": "stdout",
       "text": [
        "\n",
        "Sub013_6MW_AFO_0003.mat"
       ]
      },
      {
       "output_type": "stream",
       "stream": "stdout",
       "text": [
        "\n",
        "Sub013_6MW_AFO_0004.mat"
       ]
      },
      {
       "output_type": "stream",
       "stream": "stdout",
       "text": [
        "\n",
        "Sub013_6MW_AFO_0006.mat\n",
        "Sub013_6MW_AFO_0007.mat"
       ]
      },
      {
       "output_type": "stream",
       "stream": "stdout",
       "text": [
        "\n",
        "Sub013_6MW_AFO_0008.mat"
       ]
      },
      {
       "output_type": "stream",
       "stream": "stdout",
       "text": [
        "\n",
        "Sub013_6MW_AFO_0009.mat"
       ]
      },
      {
       "output_type": "stream",
       "stream": "stdout",
       "text": [
        "\n",
        "Sub013_6MW_AFO_0010.mat"
       ]
      },
      {
       "output_type": "stream",
       "stream": "stdout",
       "text": [
        "\n",
        "Sub013_6MW_AFO_0011.mat"
       ]
      },
      {
       "output_type": "stream",
       "stream": "stdout",
       "text": [
        "\n",
        "Sub013_6MW_AFO_0013.mat"
       ]
      },
      {
       "output_type": "stream",
       "stream": "stdout",
       "text": [
        "\n",
        "Sub013_6MW_AFO_0014.mat"
       ]
      },
      {
       "output_type": "stream",
       "stream": "stdout",
       "text": [
        "\n",
        "Sub013_6MW_PPAFO_0001.mat"
       ]
      },
      {
       "output_type": "stream",
       "stream": "stdout",
       "text": [
        "\n",
        "Sub013_6MW_PPAFO_0002.mat"
       ]
      },
      {
       "output_type": "stream",
       "stream": "stdout",
       "text": [
        "\n",
        "Sub013_6MW_PPAFO_0003.mat"
       ]
      },
      {
       "output_type": "stream",
       "stream": "stdout",
       "text": [
        "\n",
        "Sub013_6MW_PPAFO_0004.mat"
       ]
      },
      {
       "output_type": "stream",
       "stream": "stdout",
       "text": [
        "\n",
        "Sub013_6MW_PPAFO_0005.mat"
       ]
      },
      {
       "output_type": "stream",
       "stream": "stdout",
       "text": [
        "\n",
        "Sub013_6MW_PPAFO_0006.mat"
       ]
      },
      {
       "output_type": "stream",
       "stream": "stdout",
       "text": [
        "\n",
        "Sub013_6MW_PPAFO_0007.mat"
       ]
      },
      {
       "output_type": "stream",
       "stream": "stdout",
       "text": [
        "\n",
        "Sub013_6MW_PPAFO_0008.mat"
       ]
      },
      {
       "output_type": "stream",
       "stream": "stdout",
       "text": [
        "\n",
        "Sub013_6MW_Shoes_0001.mat"
       ]
      },
      {
       "output_type": "stream",
       "stream": "stdout",
       "text": [
        "\n",
        "Sub013_6MW_Shoes_0002.mat"
       ]
      },
      {
       "output_type": "stream",
       "stream": "stdout",
       "text": [
        "\n",
        "Sub013_6MW_Shoes_0003.mat"
       ]
      },
      {
       "output_type": "stream",
       "stream": "stdout",
       "text": [
        "\n",
        "Sub013_6MW_Shoes_0005.mat"
       ]
      },
      {
       "output_type": "stream",
       "stream": "stdout",
       "text": [
        "\n",
        "Sub013_6MW_Shoes_0006.mat\n",
        "Sub013_6MW_Shoes_0007.mat"
       ]
      },
      {
       "output_type": "stream",
       "stream": "stdout",
       "text": [
        "\n",
        "Sub013_6MW_Shoes_0008.mat"
       ]
      },
      {
       "output_type": "stream",
       "stream": "stdout",
       "text": [
        "\n",
        "Sub013_6MW_Shoes_0009.mat"
       ]
      },
      {
       "output_type": "stream",
       "stream": "stdout",
       "text": [
        "\n",
        "Sub013_6MW_Shoes_0010.mat"
       ]
      },
      {
       "output_type": "stream",
       "stream": "stdout",
       "text": [
        "\n",
        "Sub013_6MW_Shoes_0011.mat"
       ]
      },
      {
       "output_type": "stream",
       "stream": "stdout",
       "text": [
        "\n",
        "Sub015_6MW_AFO_0001.mat"
       ]
      },
      {
       "output_type": "stream",
       "stream": "stdout",
       "text": [
        "\n",
        "Sub015_6MW_AFO_0002.mat"
       ]
      },
      {
       "output_type": "stream",
       "stream": "stdout",
       "text": [
        "\n",
        "Sub015_6MW_AFO_0003.mat"
       ]
      },
      {
       "output_type": "stream",
       "stream": "stdout",
       "text": [
        "\n",
        "Sub015_6MW_AFO_0004.mat"
       ]
      },
      {
       "output_type": "stream",
       "stream": "stdout",
       "text": [
        "\n",
        "Sub015_6MW_AFO_0005.mat"
       ]
      },
      {
       "output_type": "stream",
       "stream": "stdout",
       "text": [
        "\n",
        "Sub015_6MW_AFO_0006.mat"
       ]
      },
      {
       "output_type": "stream",
       "stream": "stdout",
       "text": [
        "\n",
        "Sub015_6MW_AFO_0007.mat"
       ]
      },
      {
       "output_type": "stream",
       "stream": "stdout",
       "text": [
        "\n",
        "Sub015_6MW_AFO_0008.mat"
       ]
      },
      {
       "output_type": "stream",
       "stream": "stdout",
       "text": [
        "\n",
        "Sub015_6MW_AFO_0009.mat"
       ]
      },
      {
       "output_type": "stream",
       "stream": "stdout",
       "text": [
        "\n",
        "Sub015_6MW_AFO_0010.mat"
       ]
      },
      {
       "output_type": "stream",
       "stream": "stdout",
       "text": [
        "\n",
        "Sub015_6MW_PPAFO_0001.mat"
       ]
      },
      {
       "output_type": "stream",
       "stream": "stdout",
       "text": [
        "\n",
        "Sub015_6MW_PPAFO_0002.mat"
       ]
      },
      {
       "output_type": "stream",
       "stream": "stdout",
       "text": [
        "\n",
        "Sub015_6MW_PPAFO_0003.mat"
       ]
      },
      {
       "output_type": "stream",
       "stream": "stdout",
       "text": [
        "\n",
        "Sub015_6MW_PPAFO_0004.mat"
       ]
      },
      {
       "output_type": "stream",
       "stream": "stdout",
       "text": [
        "\n",
        "Sub015_6MW_PPAFO_0005.mat"
       ]
      },
      {
       "output_type": "stream",
       "stream": "stdout",
       "text": [
        "\n",
        "Sub015_6MW_PPAFO_0007.mat"
       ]
      },
      {
       "output_type": "stream",
       "stream": "stdout",
       "text": [
        "\n",
        "Sub015_6MW_PPAFO_0008.mat"
       ]
      },
      {
       "output_type": "stream",
       "stream": "stdout",
       "text": [
        "\n",
        "Sub015_6MW_PPAFO_0010.mat"
       ]
      },
      {
       "output_type": "stream",
       "stream": "stdout",
       "text": [
        "\n",
        "Sub015_6MW_Shoes_0001.mat"
       ]
      },
      {
       "output_type": "stream",
       "stream": "stdout",
       "text": [
        "\n",
        "Sub015_6MW_Shoes_0002.mat"
       ]
      },
      {
       "output_type": "stream",
       "stream": "stdout",
       "text": [
        "\n",
        "Sub015_6MW_Shoes_0003.mat"
       ]
      },
      {
       "output_type": "stream",
       "stream": "stdout",
       "text": [
        "\n",
        "Sub015_6MW_Shoes_0004.mat"
       ]
      },
      {
       "output_type": "stream",
       "stream": "stdout",
       "text": [
        "\n",
        "Sub015_6MW_Shoes_0005.mat"
       ]
      },
      {
       "output_type": "stream",
       "stream": "stdout",
       "text": [
        "\n",
        "Sub015_6MW_Shoes_0006.mat"
       ]
      },
      {
       "output_type": "stream",
       "stream": "stdout",
       "text": [
        "\n",
        "Sub015_6MW_Shoes_0007.mat"
       ]
      },
      {
       "output_type": "stream",
       "stream": "stdout",
       "text": [
        "\n",
        "Sub015_6MW_Shoes_0008.mat"
       ]
      },
      {
       "output_type": "stream",
       "stream": "stdout",
       "text": [
        "\n",
        "Sub016_6MW_AFO_0001.mat"
       ]
      },
      {
       "output_type": "stream",
       "stream": "stdout",
       "text": [
        "\n",
        "Sub016_6MW_AFO_0002.mat"
       ]
      },
      {
       "output_type": "stream",
       "stream": "stdout",
       "text": [
        "\n",
        "Sub016_6MW_AFO_0003.mat"
       ]
      },
      {
       "output_type": "stream",
       "stream": "stdout",
       "text": [
        "\n",
        "Sub016_6MW_AFO_0004.mat"
       ]
      },
      {
       "output_type": "stream",
       "stream": "stdout",
       "text": [
        "\n",
        "Sub016_6MW_AFO_0005.mat"
       ]
      },
      {
       "output_type": "stream",
       "stream": "stdout",
       "text": [
        "\n",
        "Sub016_6MW_AFO_0006.mat"
       ]
      },
      {
       "output_type": "stream",
       "stream": "stdout",
       "text": [
        "\n",
        "Sub016_6MW_AFO_0007.mat"
       ]
      },
      {
       "output_type": "stream",
       "stream": "stdout",
       "text": [
        "\n",
        "Sub016_6MW_AFO_0008.mat"
       ]
      },
      {
       "output_type": "stream",
       "stream": "stdout",
       "text": [
        "\n",
        "Sub016_6MW_PPAFO_0001.mat"
       ]
      },
      {
       "output_type": "stream",
       "stream": "stdout",
       "text": [
        "\n",
        "Sub016_6MW_PPAFO_0002.mat"
       ]
      },
      {
       "output_type": "stream",
       "stream": "stdout",
       "text": [
        "\n",
        "Sub016_6MW_PPAFO_0003.mat"
       ]
      },
      {
       "output_type": "stream",
       "stream": "stdout",
       "text": [
        "\n",
        "Sub016_6MW_PPAFO_0004.mat"
       ]
      },
      {
       "output_type": "stream",
       "stream": "stdout",
       "text": [
        "\n",
        "Sub016_6MW_PPAFO_0005.mat"
       ]
      },
      {
       "output_type": "stream",
       "stream": "stdout",
       "text": [
        "\n",
        "Sub016_6MW_PPAFO_0006.mat"
       ]
      },
      {
       "output_type": "stream",
       "stream": "stdout",
       "text": [
        "\n",
        "Sub016_6MW_Shoes_0002.mat"
       ]
      },
      {
       "output_type": "stream",
       "stream": "stdout",
       "text": [
        "\n",
        "Sub016_6MW_Shoes_0003.mat"
       ]
      },
      {
       "output_type": "stream",
       "stream": "stdout",
       "text": [
        "\n",
        "Sub016_6MW_Shoes_0004.mat"
       ]
      },
      {
       "output_type": "stream",
       "stream": "stdout",
       "text": [
        "\n",
        "Sub016_6MW_Shoes_0005.mat"
       ]
      },
      {
       "output_type": "stream",
       "stream": "stdout",
       "text": [
        "\n",
        "Sub016_6MW_Shoes_0006.mat"
       ]
      },
      {
       "output_type": "stream",
       "stream": "stdout",
       "text": [
        "\n",
        "Sub016_6MW_Shoes_0007.mat"
       ]
      },
      {
       "output_type": "stream",
       "stream": "stdout",
       "text": [
        "\n",
        "Sub016_6MW_Shoes_0008.mat"
       ]
      },
      {
       "output_type": "stream",
       "stream": "stdout",
       "text": [
        "\n",
        "Sub016_6MW_Shoes_0009.mat"
       ]
      },
      {
       "output_type": "stream",
       "stream": "stdout",
       "text": [
        "\n",
        "Done reading all data!"
       ]
      },
      {
       "output_type": "stream",
       "stream": "stdout",
       "text": [
        "\n"
       ]
      }
     ],
     "prompt_number": 3
    },
    {
     "cell_type": "markdown",
     "metadata": {},
     "source": [
      "####Frequency analysis with DFT of position, velocity, and acceleration"
     ]
    },
    {
     "cell_type": "code",
     "collapsed": false,
     "input": [
      "#DFT - transform of gait\n",
      "\n",
      "import numpy as np\n",
      "import pylab as plt\n",
      "import thinkstats2\n",
      "import thinkplot\n",
      "def FreqCalc(data, sel_marker, pnum, trialnum):\n",
      "\n",
      "#FullLabelSet=['SACRAL', 'R_ASIS', 'R_TROCH', 'R_THIGH', 'R_LAT_KNEE', 'R_TIB', 'R_LAT_MAL', 'R_TOE_5', 'R_TOE_1', 'R_MED_MAL', 'R_HEEL', 'R_MED_KNEE', 'L_MED_KNEE', 'L_HEEL', 'L_MED_MAL', 'L_TOE_1', 'L_TOE_5', 'L_LAT_MAL', 'L_TIB', 'L_LAT_KNEE', 'L_TROCH', 'L_THIGH', 'L_ASIS']\n",
      "#Left = ['L_MED_KNEE', 'L_HEEL', 'L_MED_MAL', 'L_TOE_1', 'L_TOE_5', 'L_LAT_MAL', 'L_TIB', 'L_LAT_KNEE', 'L_TROCH', 'L_THIGH', 'L_ASIS']\n",
      "#Right = ['R_ASIS', 'R_TROCH', 'R_THIGH', 'R_LAT_KNEE', 'R_TIB', 'R_LAT_MAL', 'R_TOE_5', 'R_TOE_1', 'R_MED_MAL', 'R_HEEL', 'R_MED_KNEE']\n",
      "#j = 1 #subject number\n",
      "#i = 3 #trial number\n",
      "\n",
      "    frames = AFO[pnum].trials[trialnum].frames\n",
      "    framerate = AFO[pnum].trials[trialnum].framerate\n",
      "    drop_NA = []\n",
      "    \n",
      "    #Assign a time from frame and frame  - in seconds\n",
      "    AFO[pnum].trials[trialnum].x[\"times\"] = np.arange(0, frames) * (1.0/framerate)\n",
      "    times = AFO[pnum].trials[trialnum].x[\"times\"]\n",
      "\n",
      "    vel_t = []\n",
      "    acc_t = []\n",
      "    marker_t = []\n",
      "    time_t = []   \n",
      "    \n",
      "    for label in sel_marker:\n",
      "        #drop NA from times and marker values\n",
      "        drop_NA = AFO[pnum].trials[trialnum].x[[\"times\", label]]\n",
      "        drop_NA = drop_NA.dropna()\n",
      "        marker = drop_NA[label]\n",
      "        marker_t.append(marker)\n",
      "        if len(marker) == 0:\n",
      "            continue\n",
      "        time = drop_NA[\"times\"]\n",
      "        time_t.append(time) #Adds the time series to a master list\n",
      "        timeshape = time.shape[0]\n",
      "    \n",
      "        #Computes velocity\n",
      "        time_step = np.diff(time)\n",
      "        velocity = np.diff(marker)/time_step\n",
      "        vel_t.append(velocity) #Stores velocity to a master list\n",
      "\n",
      "        #Computes acceleration\n",
      "        vel_time_step = np.diff(time)\n",
      "        acc = np.diff(velocity)/vel_time_step[:-1]\n",
      "        acc_t.append(acc)\n",
      "        #acc = AFO[j].trials[i].x[\"acc\"]\n",
      "        #drop_acc_NA = acc.dropna(subset=[['acc', 'time']])\n",
      "        \n",
      "        #DFT position\n",
      "        dft = np.fft.fft(marker)\n",
      "        freq = np.fft.fftfreq(timeshape)*framerate\n",
      "        \n",
      "        #DFT velocity\n",
      "        dft_vel = np.fft.fft(velocity)\n",
      "        time_stepshape = time_step.shape[0]\n",
      "        freq_vel = np.fft.fftfreq(time_stepshape)*framerate\n",
      "        \n",
      "        #DFT acceleration\n",
      "        dft_acc = np.fft.fft(acc)\n",
      "        acc_timeshape = vel_time_step[:-1].shape[0]\n",
      "        freq_acc = np.fft.fftfreq(acc_timeshape)*framerate \n",
      "    \n",
      "        #plotting\n",
      "#         plt.figure(0)\n",
      "#         plt.title(\"Frequency of Right Marker Positions\")\n",
      "#         plt.plot(freq, 2.0/frames * np.abs(dft[0:frames]))\n",
      "#         plt.xlim((0,15))\n",
      "#         plt.xlabel(\"Frequency (Hz)\")\n",
      "#         plt.ylabel(\"DFT of %s Marker Positions\" %label)\n",
      "        \n",
      "        v_time = time[:-1]\n",
      "        print np.shape(v_time), np.shape(vel_t), np.shape(velocity)\n",
      "#         plt.figure(1)\n",
      "#         plt.plot(v_time, velocity)\n",
      "#         plt.xlabel(\"Time(s)\")\n",
      "#         plt.ylabel(\"Velocity (mm/s)\")\n",
      "        \n",
      "        plt.figure(0)\n",
      "        plt.title(\"Frequency of Right Marker Frequencies\")\n",
      "        plt.plot(freq_vel, 2.0/frames * np.abs(dft_vel[0:frames]))\n",
      "        plt.xlim((0,15))\n",
      "        plt.xlabel(\"Frequency (Hz)\")\n",
      "        plt.ylabel(\"DFT of %s Marker Velocities\" %label)\n",
      "    \n",
      "        plt.figure(1)\n",
      "        plt.plot(freq_acc, 2.0/frames * np.abs(dft_acc[0:frames]))\n",
      "        plt.xlim((0,15))\n",
      "        plt.xlabel(\"Frequency (Hz)\")\n",
      "        plt.ylabel(\"DFT of %s Marker Accelerations\" %label)\n",
      "        \n",
      "        plt.figure(2)\n",
      "        plt.plot(time, marker, \"o\", alpha = .2)\n",
      "        plt.xlabel(\"time (s)\")\n",
      "        plt.ylabel(\"Position of %s (mm)\" %label)    \n",
      "#         plt.figure()\n",
      "#         plt.plot(time, marker, \"o\", alpha = .2)\n",
      "#         plt.xlabel(\"time (s)\")\n",
      "#         plt.ylabel(\"Position of %s (mm)\" %label)\n",
      "        \n",
      "        return time_t, vel_t, marker_t, dft, freq\n",
      "\n",
      "\n",
      "\n"
     ],
     "language": "python",
     "metadata": {},
     "outputs": [],
     "prompt_number": 4
    },
    {
     "cell_type": "code",
     "collapsed": false,
     "input": [
      "sel_marker=['SACRAL', 'R_ASIS', 'R_TROCH', 'R_THIGH', 'R_LAT_KNEE', 'R_TIB', 'R_LAT_MAL', 'R_TOE_5', 'R_TOE_1', 'R_MED_MAL', 'R_HEEL', 'R_MED_KNEE', 'L_MED_KNEE', 'L_HEEL', 'L_MED_MAL', 'L_TOE_1', 'L_TOE_5', 'L_LAT_MAL', 'L_TIB', 'L_LAT_KNEE', 'L_TROCH', 'L_THIGH', 'L_ASIS']\n",
      "data=[AFO, PPAFO, Shoes]\n",
      "p_list = AFO.keys() \n",
      "\n",
      "for participant in p_list:\n",
      "    participant_obj=AFO[participant]\n",
      "    #print participant_obj.trials.keys()\n",
      "    for trial in participant_obj.trials.keys():\n",
      "        if trial>3:  \n",
      "            Frequency= FreqCalc(data, sel_marker, participant, trial)"
     ],
     "language": "python",
     "metadata": {},
     "outputs": [
      {
       "output_type": "stream",
       "stream": "stdout",
       "text": [
        "(591,) (1, 591) (591,)\n",
        "(590,)"
       ]
      },
      {
       "output_type": "stream",
       "stream": "stdout",
       "text": [
        " (1, 590) (590,)\n",
        "(699,) (1, 699) (699,)\n",
        "(610,) (1, 610) (610,)\n",
        "(712,) (1, 712) (712,)\n",
        "(716,) (1, 716) (716,)\n",
        "(492,) (1, 492) (492,)\n",
        "(946,)"
       ]
      },
      {
       "output_type": "stream",
       "stream": "stdout",
       "text": [
        " (1, 946) (946,)\n",
        "(919,) (1, 919) (919,)\n",
        "(1166,) (1, 1166) (1166,)\n",
        "(885,) (1, 885) (885,)\n",
        "(1241,)"
       ]
      },
      {
       "output_type": "stream",
       "stream": "stdout",
       "text": [
        " (1, 1241) (1241,)\n",
        "(201,) (1, 201) (201,)\n",
        "(483,)"
       ]
      },
      {
       "output_type": "stream",
       "stream": "stdout",
       "text": [
        " (1, 483) (483,)\n",
        "(517,) (1, 517) (517,)\n",
        "(373,)"
       ]
      },
      {
       "output_type": "stream",
       "stream": "stdout",
       "text": [
        " (1, 373) (373,)\n",
        "(427,) (1, 427) (427,)\n",
        "(1644,)"
       ]
      },
      {
       "output_type": "stream",
       "stream": "stdout",
       "text": [
        " (1, 1644) (1644,)\n",
        "(442,) (1, 442) (442,)\n",
        "(367,)"
       ]
      },
      {
       "output_type": "stream",
       "stream": "stdout",
       "text": [
        " (1, 367) (367,)\n",
        "(444,) (1, 444) (444,)\n",
        "(466,) (1, 466) (466,)\n",
        "(464,)"
       ]
      },
      {
       "output_type": "stream",
       "stream": "stdout",
       "text": [
        " (1, 464) (464,)\n",
        "(395,) (1, 395) (395,)\n",
        "(433,) (1, 433) (433,)\n",
        "(432,)"
       ]
      },
      {
       "output_type": "stream",
       "stream": "stdout",
       "text": [
        " (1, 432) (432,)\n",
        "(429,) (1, 429) (429,)\n",
        "(1383,)"
       ]
      },
      {
       "output_type": "stream",
       "stream": "stdout",
       "text": [
        " (1, 1383) (1383,)\n",
        "(2977,) (1, 2977) (2977,)\n",
        "(1449,)"
       ]
      },
      {
       "output_type": "stream",
       "stream": "stdout",
       "text": [
        " (1, 1449) (1449,)\n",
        "(2049,) (1, 2049) (2049,)\n",
        "(526,)"
       ]
      },
      {
       "output_type": "stream",
       "stream": "stdout",
       "text": [
        " (1, 526) (526,)\n",
        "(1196,) (1, 1196) (1196,)\n",
        "(1530,) (1, 1530) (1530,)\n",
        "(1327,)"
       ]
      },
      {
       "output_type": "stream",
       "stream": "stdout",
       "text": [
        " (1, 1327) (1327,)\n",
        "(1726,) (1, 1726) (1726,)\n",
        "(746,) (1, 746) (746,)\n",
        "(741,) (1, 741) (741,)\n",
        "(733,)"
       ]
      },
      {
       "output_type": "stream",
       "stream": "stdout",
       "text": [
        " (1, 733) (733,)\n",
        "(695,) (1, 695) (695,)\n",
        "(795,) (1, 795) (795,)\n",
        "(763,) (1, 763) (763,)\n",
        "(652,)"
       ]
      },
      {
       "output_type": "stream",
       "stream": "stdout",
       "text": [
        " (1, 652) (652,)\n",
        "(504,) (1, 504) (504,)\n",
        "(596,) (1, 596) (596,)\n",
        "(527,) (1, 527) (527,)\n",
        "(429,) (1, 429) (429,)\n",
        "(496,) (1, 496) (496,)\n",
        "(483,)"
       ]
      },
      {
       "output_type": "stream",
       "stream": "stdout",
       "text": [
        " (1, 483) (483,)\n",
        "(460,) (1, 460) (460,)\n",
        "(298,) (1, 298) (298,)\n",
        "(450,) (1, 450) (450,)\n",
        "(281,) (1, 281) (281,)\n",
        "(419,)"
       ]
      },
      {
       "output_type": "stream",
       "stream": "stdout",
       "text": [
        " (1, 419) (419,)\n",
        "(506,) (1, 506) (506,)\n",
        "(560,) (1, 560) (560,)\n",
        "(503,) (1, 503) (503,)\n",
        "(512,) (1, 512) (512,)\n",
        "(444,)"
       ]
      },
      {
       "output_type": "stream",
       "stream": "stdout",
       "text": [
        " (1, 444) (444,)\n",
        "(518,) (1, 518) (518,)\n",
        "(567,) (1, 567) (567,)\n",
        "(643,) (1, 643) (643,)\n",
        "(724,) (1, 724) (724,)\n",
        "(716,)"
       ]
      },
      {
       "output_type": "stream",
       "stream": "stdout",
       "text": [
        " (1, 716) (716,)\n",
        "(620,) (1, 620) (620,)\n",
        "(764,) (1, 764) (764,)\n",
        "(489,) (1, 489) (489,)\n",
        "(480,) (1, 480) (480,)\n",
        "(357,) (1, 357) (357,)\n",
        "(459,)"
       ]
      },
      {
       "output_type": "stream",
       "stream": "stdout",
       "text": [
        " (1, 459) (459,)\n",
        "(433,) (1, 433) (433,)\n"
       ]
      },
      {
       "metadata": {},
       "output_type": "display_data",
       "png": "[encoded data removed]",
       "text": [
        "<matplotlib.figure.Figure at 0x10b949750>"
       ]
      },
      {
       "metadata": {},
       "output_type": "display_data",
       "png": "[encoded data removed]",
       "text": [
        "<matplotlib.figure.Figure at 0x10b81bdd0>"
       ]
      },
      {
       "metadata": {},
       "output_type": "display_data",
       "png": "[encoded data removed]",
       "text": [
        "<matplotlib.figure.Figure at 0x10c8d4510>"
       ]
      }
     ],
     "prompt_number": 5
    },
    {
     "cell_type": "markdown",
     "metadata": {},
     "source": [
      "####Gait Cycle Calculation"
     ]
    },
    {
     "cell_type": "code",
     "collapsed": false,
     "input": [
      "\n",
      "def HeelStrike(fw, pnum, trial, mark1, mark2):\n",
      "    \"\"\"\n",
      "    finding the initial heel strike\n",
      "    \"\"\"\n",
      "    \n",
      "    if fw=='AFO':\n",
      "        dset=AFO\n",
      "    if fw=='PPAFO':\n",
      "        dset=PPAFO\n",
      "    if fw=='Shoes':\n",
      "        dset=Shoes\n",
      "        \n",
      "    MT_Obj = dset[pnum].GetTrial(trial) #AFO trial 4 for participant 1\n",
      "    cycle_start = []\n",
      "    \n",
      "    R_Heel_x = MT_Obj.x[mark2]\n",
      "    R_Heel_y = MT_Obj.y[mark2]\n",
      "    R_Heel_z = MT_Obj.z[mark2]\n",
      "    L_Heel_x = MT_Obj.x[mark1]\n",
      "    L_Heel_y = MT_Obj.y[mark1]\n",
      "    L_Heel_z = MT_Obj.z[mark1]\n",
      "    \n",
      "    #time and velocity calculations\n",
      "    frames = MT_Obj.frames\n",
      "    framerate = MT_Obj.framerate\n",
      "    MT_Obj.z['time'] = np.arange(0, frames) * (1.0/framerate)\n",
      "    time = MT_Obj.z['time']\n",
      "    R_Heel_z = thinkstats2.Smooth(R_Heel_z, sigma=7)\n",
      "    \n",
      "    #velocity\n",
      "    time_step = np.diff(time)\n",
      "    velocity = np.diff(R_Heel_z)/time_step\n",
      "    v_smooth = thinkstats2.Smooth(velocity)\n",
      "    v_time = time[:-1]\n",
      "    \n",
      "    #acceleration\n",
      "    a_time = v_time[:-1]\n",
      "    vel_time_step = np.diff(time)\n",
      "    acc = np.diff(v_smooth)/a_time\n",
      "    a_smooth = thinkstats2.Smooth(acc)\n",
      "    \n",
      "    pos = R_Heel_z[1:-1]\n",
      "    vel = v_smooth[1:]\n",
      "    acc = a_smooth\n",
      "    heel = -15 * pos + -.1 * vel * vel +  .8 * acc\n",
      "    \n",
      "    filter = np.array([-1., -1., -1, -1, -1, -1, -1, -1,\n",
      "                       0.,   0.,  0., 0., 0., 0,  0, 0])\n",
      "    \n",
      "    from scipy.signal import convolve\n",
      "    down = convolve(vel, filter, 'same')\n",
      "    \n",
      "    heel += down*1.9\n",
      "        \n",
      "    #take derivative of heel\n",
      "    down_time_step = np.diff(a_time)\n",
      "    Max_zero = np.diff(down)/down_time_step\n",
      "    \n",
      "    #find maxima of derivative of heel\n",
      "    threshold = 2000\n",
      "    maxima = []\n",
      "    index = []\n",
      "    strike_time = []\n",
      "    heel_strike = []\n",
      "    \n",
      "    for i in range(len(Max_zero) - 1):\n",
      "        if Max_zero[i] > 0 and Max_zero[i+1] < 0 and down[i] > threshold:\n",
      "            if (down[i+1] > down[i]):\n",
      "                maxima.append([i+1, down[i+1]])\n",
      "                index.append([i+1])\n",
      "                strike_time.append(a_time[i+40])\n",
      "                heel_strike.append(R_Heel_z[i+40])\n",
      "            else:\n",
      "                maxima.append([i, down[i]])\n",
      "                index.append([i])\n",
      "                strike_time.append(a_time[i+50])\n",
      "                heel_strike.append(R_Heel_z[i+50])\n",
      "    print maxima, strike_time, heel_strike\n",
      "\n",
      "    plt.figure()\n",
      "    plt.title(\"Convovled\")\n",
      "    plt.plot(a_time, down)   \n",
      "    plt.xlabel(\"Time(s)\")\n",
      "    plt.ylabel(\"Convolved values\")\n",
      "\n",
      "    #plot against a_time, down and time, pos\n",
      "#     plt.figure()\n",
      "#     plt.title(\"heel strike\")\n",
      "#     plt.plot(time,R_Heel_z)\n",
      "#     plt.plot(strike_time, heel_strike, 'o')\n",
      "#     plt.xlabel(\"Time(s)\")\n",
      "#     plt.ylabel(\"Position (mm)\")\n",
      "    \n",
      "#     plt.figure()\n",
      "#     plt.title(\"Velocity\")\n",
      "#     plt.plot(v_time, v_smooth)\n",
      "#     plt.xlabel(\"Time(s)\")\n",
      "#     plt.ylabel(\"Velocity(mm/s)\")\n",
      "    \n",
      "#     plt.figure()\n",
      "#     plt.title(\"Position\")\n",
      "#     plt.plot(time, R_Heel_z)\n",
      "#     plt.xlabel(\"Time(s)\")\n",
      "#     plt.ylabel(\"Position (mm)\")\n",
      "    \n",
      "    #down_dev = np.diff(down)/a_time[:-1]\n",
      "    #mask = np.where(np.logical_and(down_dev>-10, down_dev<10))\n",
      "    #a_mask = np.where(acc<0)\n",
      "    #plt.figure(5)\n",
      "    #plt.plot(a_time[:-1],down_dev, 'o')\n",
      "   \n",
      "#     plt.title(\"heel val\")\n",
      "#     plt.plot(a_time, heel)\n",
      "#     plt.ylim([-10000, 4000])\n",
      "    \n",
      "    #vel_zero = R_Heel_z[np.where(np.logical_and(velocity>-5, velocity<5))]\n",
      "    acc_neg = R_Heel_z[np.where(acc<0)]\n",
      "    v_mask = np.where(np.logical_and(velocity>-5, velocity<5))\n",
      "    a_mask = np.where(acc<0)\n",
      "    return heel_strike, time, R_Heel_z, v_time, vel, a_time, down, heel\n",
      "        \n",
      "cycle_start = HeelStrike('AFO', 1, 4, 'L_HEEL', 'R_HEEL')\n",
      "AFO_cycle_start = [HeelStrike('AFO', x, 4, 'L_HEEL', 'R_HEEL') for x in [1, 2, 4]]#, 5, 8, 9, 11, 12, 13, 14, 16]]\n",
      "PPAFO_cycle_start = [HeelStrike('PPAFO', x, 4, 'L_HEEL', 'R_HEEL') for x in [1, 2, 4]]#, 5, 6, 7, 8, 9, 11, 12, 13, 14, 16]]\n",
      "Shoes_cycle_start = [HeelStrike('Shoes', x, 4, 'L_HEEL', 'R_HEEL') for x in [1, 2, 4]]#, 5, 6, 7, 8, 9, 11, 12, 13, 14, 16]]\n",
      "\n",
      "\n",
      "###########################################################################################################\n",
      "def EstimatedAutocorr(x):\n",
      "    \"\"\"\n",
      "    Using autocorrelation transpose the signal until the two signals line up. The first heel strike should overlay the second.\n",
      "    \"\"\"   \n",
      "    x = cycle_start[2]\n",
      "    time = cycle_start[1]\n",
      "    drop_NA = np.vstack((x[:-1], time))\n",
      "    #print drop_NA.shape, x.shape, y.shape\n",
      "    drop_NA = drop_NA.T\n",
      "    x = drop_NA[0]\n",
      "    x = x[~np.isnan(x).any()]\n",
      " \n",
      "    #n = len(x)\n",
      "    #var = np.var(x)\n",
      "    tao = np.correlate(x, x, mode='full')\n",
      "    # assert np.allclose(r, np.array([(x[:n-k]*x[-(n-k):]).sum() for k in range(n)]))\n",
      "    #result = r/(var*(np.arange(n, 0, -1)))\n",
      "    plt.figure(4)\n",
      "    plt.plot(tao)\n",
      "    return tao\n",
      "\n",
      "autocorr = EstimatedAutocorr(cycle_start)\n",
      "print autocorr\n"
     ],
     "language": "python",
     "metadata": {},
     "outputs": [
      {
       "output_type": "stream",
       "stream": "stdout",
       "text": [
        "[[211, 11448.902356692108], [458, 11018.28551837574]] [1.25, 2.4849999999999999] [59.483219537689443, 56.257361358732069]\n",
        "[[211, 11448.902356692108], [458, 11018.28551837574]] [1.25, 2.4849999999999999] [59.483219537689443, 56.257361358732069]\n",
        "[]"
       ]
      },
      {
       "output_type": "stream",
       "stream": "stdout",
       "text": [
        " [] []\n",
        "[[919, 2642.7943765937071], [1578, 3795.2221014702191]] [4.79, 8.0850000000000009] [78.934225273020232, 72.304789802364581]\n",
        "[[205, 11318.636120844252], [466, 9481.8330386431917]]"
       ]
      },
      {
       "output_type": "stream",
       "stream": "stdout",
       "text": [
        " [1.22, 2.5249999999999999] [63.596808302405549, 65.508208028298299]\n",
        "[[619, 5226.5218154342574], [863, 5352.0548625600086]] [3.29, 4.5099999999999998] [63.485155845041369, 64.702447651837119]\n",
        "[[122, 4985.9440307385485], [187, 2311.5221736270933], [494, 4068.3981460508048], [539, 2645.2040992788347], [866, 4403.5096977616122], [915, 3043.2154721974343]]"
       ]
      },
      {
       "output_type": "stream",
       "stream": "stdout",
       "text": [
        " [0.80500000000000005, 1.1300000000000001, 2.665, 2.8900000000000001, 4.5250000000000004, 4.7700000000000005] [109.09208943304881, 45.582384824019087, 117.31010086709593, 57.528037588146077, 115.01060153629446, 47.819463881345776]\n",
        "[[288, 11358.631770325082]] [1.635] [61.112048766778003]\n",
        "[[295, 5964.0507035502051], [518, 5929.4572152072487], [734, 5987.365915534423], [956, 5957.21058573756]]"
       ]
      },
      {
       "output_type": "stream",
       "stream": "stdout",
       "text": [
        " [1.6699999999999999, 2.7850000000000001, 3.8650000000000002, 4.9750000000000005] [85.745662588689768, 84.946024902808603, 76.254366516193059, 87.062041567971661]\n",
        "[[164, 2709.4242753803715], [220, 3446.5609756907397], [622, 4529.2281616584123], [1049, 3209.0032885181618], [1098, 3242.1318062177311]]"
       ]
      },
      {
       "output_type": "stream",
       "stream": "stdout",
       "text": [
        " [1.0150000000000001, 1.2949999999999999, 3.3050000000000002, 5.4400000000000004, 5.6850000000000005] [164.57812309418887, 81.292745560705967, 81.792897675301944, 153.21353032985107, 66.968305803695372]\n"
       ]
      },
      {
       "ename": "ValueError",
       "evalue": "all the input array dimensions except for the concatenation axis must match exactly",
       "output_type": "pyerr",
       "traceback": [
        "\u001b[0;31m---------------------------------------------------------------------------\u001b[0m\n\u001b[0;31mValueError\u001b[0m                                Traceback (most recent call last)",
        "\u001b[0;32m<ipython-input-7-4c5ca67a70bc>\u001b[0m in \u001b[0;36m<module>\u001b[0;34m()\u001b[0m\n\u001b[1;32m    149\u001b[0m     \u001b[0;32mreturn\u001b[0m \u001b[0mtao\u001b[0m\u001b[0;34m\u001b[0m\u001b[0m\n\u001b[1;32m    150\u001b[0m \u001b[0;34m\u001b[0m\u001b[0m\n\u001b[0;32m--> 151\u001b[0;31m \u001b[0mautocorr\u001b[0m \u001b[0;34m=\u001b[0m \u001b[0mEstimatedAutocorr\u001b[0m\u001b[0;34m(\u001b[0m\u001b[0mcycle_start\u001b[0m\u001b[0;34m)\u001b[0m\u001b[0;34m\u001b[0m\u001b[0m\n\u001b[0m\u001b[1;32m    152\u001b[0m \u001b[0;32mprint\u001b[0m \u001b[0mautocorr\u001b[0m\u001b[0;34m\u001b[0m\u001b[0m\n",
        "\u001b[0;32m<ipython-input-7-4c5ca67a70bc>\u001b[0m in \u001b[0;36mEstimatedAutocorr\u001b[0;34m(x)\u001b[0m\n\u001b[1;32m    134\u001b[0m     \u001b[0mx\u001b[0m \u001b[0;34m=\u001b[0m \u001b[0mcycle_start\u001b[0m\u001b[0;34m[\u001b[0m\u001b[0;36m2\u001b[0m\u001b[0;34m]\u001b[0m\u001b[0;34m\u001b[0m\u001b[0m\n\u001b[1;32m    135\u001b[0m     \u001b[0mtime\u001b[0m \u001b[0;34m=\u001b[0m \u001b[0mcycle_start\u001b[0m\u001b[0;34m[\u001b[0m\u001b[0;36m1\u001b[0m\u001b[0;34m]\u001b[0m\u001b[0;34m\u001b[0m\u001b[0m\n\u001b[0;32m--> 136\u001b[0;31m     \u001b[0mdrop_NA\u001b[0m \u001b[0;34m=\u001b[0m \u001b[0mnp\u001b[0m\u001b[0;34m.\u001b[0m\u001b[0mvstack\u001b[0m\u001b[0;34m(\u001b[0m\u001b[0;34m(\u001b[0m\u001b[0mx\u001b[0m\u001b[0;34m[\u001b[0m\u001b[0;34m:\u001b[0m\u001b[0;34m-\u001b[0m\u001b[0;36m1\u001b[0m\u001b[0;34m]\u001b[0m\u001b[0;34m,\u001b[0m \u001b[0mtime\u001b[0m\u001b[0;34m)\u001b[0m\u001b[0;34m)\u001b[0m\u001b[0;34m\u001b[0m\u001b[0m\n\u001b[0m\u001b[1;32m    137\u001b[0m     \u001b[0;31m#print drop_NA.shape, x.shape, y.shape\u001b[0m\u001b[0;34m\u001b[0m\u001b[0;34m\u001b[0m\u001b[0m\n\u001b[1;32m    138\u001b[0m     \u001b[0mdrop_NA\u001b[0m \u001b[0;34m=\u001b[0m \u001b[0mdrop_NA\u001b[0m\u001b[0;34m.\u001b[0m\u001b[0mT\u001b[0m\u001b[0;34m\u001b[0m\u001b[0m\n",
        "\u001b[0;32m/Users/jpoh/anaconda/lib/python2.7/site-packages/numpy/core/shape_base.pyc\u001b[0m in \u001b[0;36mvstack\u001b[0;34m(tup)\u001b[0m\n\u001b[1;32m    226\u001b[0m \u001b[0;34m\u001b[0m\u001b[0m\n\u001b[1;32m    227\u001b[0m     \"\"\"\n\u001b[0;32m--> 228\u001b[0;31m     \u001b[0;32mreturn\u001b[0m \u001b[0m_nx\u001b[0m\u001b[0;34m.\u001b[0m\u001b[0mconcatenate\u001b[0m\u001b[0;34m(\u001b[0m\u001b[0;34m[\u001b[0m\u001b[0matleast_2d\u001b[0m\u001b[0;34m(\u001b[0m\u001b[0m_m\u001b[0m\u001b[0;34m)\u001b[0m \u001b[0;32mfor\u001b[0m \u001b[0m_m\u001b[0m \u001b[0;32min\u001b[0m \u001b[0mtup\u001b[0m\u001b[0;34m]\u001b[0m\u001b[0;34m,\u001b[0m \u001b[0;36m0\u001b[0m\u001b[0;34m)\u001b[0m\u001b[0;34m\u001b[0m\u001b[0m\n\u001b[0m\u001b[1;32m    229\u001b[0m \u001b[0;34m\u001b[0m\u001b[0m\n\u001b[1;32m    230\u001b[0m \u001b[0;32mdef\u001b[0m \u001b[0mhstack\u001b[0m\u001b[0;34m(\u001b[0m\u001b[0mtup\u001b[0m\u001b[0;34m)\u001b[0m\u001b[0;34m:\u001b[0m\u001b[0;34m\u001b[0m\u001b[0m\n",
        "\u001b[0;31mValueError\u001b[0m: all the input array dimensions except for the concatenation axis must match exactly"
       ]
      },
      {
       "metadata": {},
       "output_type": "display_data",
       "png": "[encoded data removed]",
       "text": [
        "<matplotlib.figure.Figure at 0x10c320b90>"
       ]
      },
      {
       "metadata": {},
       "output_type": "display_data",
       "png": "[encoded data removed]",
       "text": [
        "<matplotlib.figure.Figure at 0x127026cd0>"
       ]
      },
      {
       "metadata": {},
       "output_type": "display_data",
       "png": "[encoded data removed]",
       "text": [
        "<matplotlib.figure.Figure at 0x111ac6290>"
       ]
      },
      {
       "metadata": {},
       "output_type": "display_data",
       "png": "[encoded data removed]",
       "text": [
        "<matplotlib.figure.Figure at 0x10b98a450>"
       ]
      },
      {
       "metadata": {},
       "output_type": "display_data",
       "png": "[encoded data removed]",
       "text": [
        "<matplotlib.figure.Figure at 0x110608990>"
       ]
      },
      {
       "metadata": {},
       "output_type": "display_data",
       "png": "[encoded data removed]",
       "text": [
        "<matplotlib.figure.Figure at 0x10c553f10>"
       ]
      },
      {
       "metadata": {},
       "output_type": "display_data",
       "png": "[encoded data removed]",
       "text": [
        "<matplotlib.figure.Figure at 0x10c6fead0>"
       ]
      },
      {
       "metadata": {},
       "output_type": "display_data",
       "png": "[encoded data removed]",
       "text": [
        "<matplotlib.figure.Figure at 0x10b069ed0>"
       ]
      },
      {
       "metadata": {},
       "output_type": "display_data",
       "png": "[encoded data removed]",
       "text": [
        "<matplotlib.figure.Figure at 0x10cf14f50>"
       ]
      },
      {
       "metadata": {},
       "output_type": "display_data",
       "png": "[encoded data removed]",
       "text": [
        "<matplotlib.figure.Figure at 0x10cf927d0>"
       ]
      }
     ],
     "prompt_number": 7
    },
    {
     "cell_type": "code",
     "collapsed": false,
     "input": [],
     "language": "python",
     "metadata": {},
     "outputs": []
    },
    {
     "cell_type": "markdown",
     "metadata": {},
     "source": [
      "####Autocorrelate to get second heel strike"
     ]
    },
    {
     "cell_type": "code",
     "collapsed": false,
     "input": [],
     "language": "python",
     "metadata": {},
     "outputs": []
    },
    {
     "cell_type": "markdown",
     "metadata": {},
     "source": [
      "#### Frequency to get second heel strike"
     ]
    },
    {
     "cell_type": "code",
     "collapsed": false,
     "input": [],
     "language": "python",
     "metadata": {},
     "outputs": []
    }
   ],
   "metadata": {}
  }
 ]
}