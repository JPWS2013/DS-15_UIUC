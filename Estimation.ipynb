{
 "metadata": {
  "name": "",
  "signature": "sha256:a2173adb90dc06ba237447cfebcb5dc1cfe493a7d76150b48093460e13f5a395"
 },
 "nbformat": 3,
 "nbformat_minor": 0,
 "worksheets": [
  {
   "cells": [
    {
     "cell_type": "code",
     "collapsed": false,
     "input": [
      "%matplotlib inline\n",
      "%precision 3\n",
      "\n",
      "import numpy as np\n",
      "import scipy\n",
      "import ReadCsvs as rc"
     ],
     "language": "python",
     "metadata": {},
     "outputs": []
    },
    {
     "cell_type": "code",
     "collapsed": false,
     "input": [
      "AFO, PPAFO, Shoes=rc.ReadGaitData()"
     ],
     "language": "python",
     "metadata": {},
     "outputs": []
    },
    {
     "cell_type": "code",
     "collapsed": false,
     "input": [
      "#estimation\n",
      "import numpy as np\n",
      "import pylab as plt\n",
      "import thinkstats2\n",
      "import thinkplot\n",
      "\n",
      "\n",
      "FullLabelSet=['SACRAL', 'R_ASIS', 'R_TROCH', 'R_THIGH', 'R_LAT_KNEE', 'R_TIB', 'R_LAT_MAL', 'R_TOE_5', 'R_TOE_1', 'R_MED_MAL', 'R_HEEL', 'R_MED_KNEE', 'L_MED_KNEE', 'L_HEEL', 'L_MED_MAL', 'L_TOE_1', 'L_TOE_5', 'L_LAT_MAL', 'L_TIB', 'L_LAT_KNEE', 'L_TROCH', 'L_THIGH', 'L_ASIS']\n",
      "Left = ['L_MED_KNEE', 'L_HEEL', 'L_MED_MAL', 'L_TOE_1', 'L_TOE_5', 'L_LAT_MAL', 'L_TIB', 'L_LAT_KNEE', 'L_TROCH', 'L_THIGH', 'L_ASIS']\n",
      "Right = ['R_ASIS', 'R_TROCH', 'R_THIGH', 'R_LAT_KNEE', 'R_TIB', 'R_LAT_MAL', 'R_TOE_5', 'R_TOE_1', 'R_MED_MAL', 'R_HEEL', 'R_MED_KNEE']\n",
      "j = 1 #subject number\n",
      "i = 3 #trial number\n",
      "frames = AFO[j].trials[i].frames\n",
      "framerate = AFO[j].trials[i].framerate\n",
      "drop_NA = []\n",
      "\n",
      "#Assign a time from frame and frame  - in seconds\n",
      "AFO[j].trials[i].x[\"times\"] = np.arange(0, frames) * (1.0/framerate)\n",
      "times = AFO[j].trials[i].x[\"times\"]\n",
      "\n",
      "Velocity = []\n",
      "for label in Right:\n",
      "    #drop NA from times and marker values\n",
      "    drop_NA = AFO[j].trials[i].x[[\"times\", label]]\n",
      "    drop_NA = drop_NA.dropna()\n",
      "    marker = drop_NA[label]\n",
      "    if len(marker) == 0:\n",
      "        continue\n",
      "    time = drop_NA[\"times\"]\n",
      "    timeshape = time.shape[0]\n",
      "    \n",
      "    #velocity\n",
      "    time_step = np.diff(time)\n",
      "    velocity = np.diff(marker)/time_step\n",
      "    Velocity.append(velocity)\n",
      "    \n",
      "    #DFT velocity and acc\n",
      "    dft_vel = np.fft.fft(velocity)\n",
      "    time_stepshape = time_step.shape[0]\n",
      "    freq_vel = np.fft.fftfreq(time_stepshape)*framerate\n",
      "    \n",
      "#CDF\n",
      "vel_cdf = thinkstats2.Cdf(velocity)\n",
      "thinkplot.Cdf(vel_cdf)\n",
      "cdf = thinkstats2.MakeCdfFromList(vel_cdf)"
     ],
     "language": "python",
     "metadata": {},
     "outputs": []
    }
   ],
   "metadata": {}
  }
 ]
}