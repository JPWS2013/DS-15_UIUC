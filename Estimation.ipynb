{
 "metadata": {
  "name": "",
  "signature": "sha256:e80a6835ff3bba126eb35c14094f33cb7527fb393d9408fefb3551cc71a6f07d"
 },
 "nbformat": 3,
 "nbformat_minor": 0,
 "worksheets": [
  {
   "cells": [
    {
     "cell_type": "code",
     "collapsed": false,
     "input": [
      "%matplotlib inline\n",
      "%precision 3\n",
      "\n",
      "import numpy as np\n",
      "import scipy\n",
      "import ReadCsvs as rc"
     ],
     "language": "python",
     "metadata": {},
     "outputs": [],
     "prompt_number": 2
    },
    {
     "cell_type": "code",
     "collapsed": false,
     "input": [
      "AFO, PPAFO, Shoes=rc.ReadGaitData()"
     ],
     "language": "python",
     "metadata": {},
     "outputs": [
      {
       "output_type": "stream",
       "stream": "stdout",
       "text": [
        "Sub001_6MW_AFO_0001.mat\n",
        "Sub001_6MW_AFO_0002.mat"
       ]
      },
      {
       "output_type": "stream",
       "stream": "stdout",
       "text": [
        "\n",
        "Sub001_6MW_AFO_0003.mat"
       ]
      },
      {
       "output_type": "stream",
       "stream": "stdout",
       "text": [
        "\n",
        "Sub001_6MW_AFO_0004.mat"
       ]
      },
      {
       "output_type": "stream",
       "stream": "stdout",
       "text": [
        "\n",
        "Sub001_6MW_AFO_0005.mat"
       ]
      },
      {
       "output_type": "stream",
       "stream": "stdout",
       "text": [
        "\n",
        "Sub001_6MW_AFO_0006.mat"
       ]
      },
      {
       "output_type": "stream",
       "stream": "stdout",
       "text": [
        "\n",
        "Sub001_6MW_AFO_0007.mat"
       ]
      },
      {
       "output_type": "stream",
       "stream": "stdout",
       "text": [
        "\n",
        "Sub001_6MW_AFO_0008.mat"
       ]
      },
      {
       "output_type": "stream",
       "stream": "stdout",
       "text": [
        "\n",
        "Sub001_6MW_AFO_0009.mat"
       ]
      },
      {
       "output_type": "stream",
       "stream": "stdout",
       "text": [
        "\n",
        "Sub001_6MW_PPAFO_0001.mat"
       ]
      },
      {
       "output_type": "stream",
       "stream": "stdout",
       "text": [
        "\n",
        "Sub001_6MW_PPAFO_0002.mat"
       ]
      },
      {
       "output_type": "stream",
       "stream": "stdout",
       "text": [
        "\n",
        "Sub001_6MW_PPAFO_0003.mat"
       ]
      },
      {
       "output_type": "stream",
       "stream": "stdout",
       "text": [
        "\n",
        "Sub001_6MW_PPAFO_0004.mat"
       ]
      },
      {
       "output_type": "stream",
       "stream": "stdout",
       "text": [
        "\n",
        "Sub001_6MW_PPAFO_0005.mat"
       ]
      },
      {
       "output_type": "stream",
       "stream": "stdout",
       "text": [
        "\n",
        "Sub001_6MW_PPAFO_0006.mat"
       ]
      },
      {
       "output_type": "stream",
       "stream": "stdout",
       "text": [
        "\n",
        "Sub001_6MW_PPAFO_0007.mat"
       ]
      },
      {
       "output_type": "stream",
       "stream": "stdout",
       "text": [
        "\n",
        "Sub001_6MW_PPAFO_0008.mat"
       ]
      },
      {
       "output_type": "stream",
       "stream": "stdout",
       "text": [
        "\n",
        "Sub001_6MW_PPAFO_0009.mat"
       ]
      },
      {
       "output_type": "stream",
       "stream": "stdout",
       "text": [
        "\n",
        "Sub001_6MW_Shoes_0001.mat"
       ]
      },
      {
       "output_type": "stream",
       "stream": "stdout",
       "text": [
        "\n",
        "Sub001_6MW_Shoes_0002.mat"
       ]
      },
      {
       "output_type": "stream",
       "stream": "stdout",
       "text": [
        "\n",
        "Sub001_6MW_Shoes_0003.mat"
       ]
      },
      {
       "output_type": "stream",
       "stream": "stdout",
       "text": [
        "\n",
        "Sub001_6MW_Shoes_0004.mat"
       ]
      },
      {
       "output_type": "stream",
       "stream": "stdout",
       "text": [
        "\n",
        "Sub001_6MW_Shoes_0005.mat"
       ]
      },
      {
       "output_type": "stream",
       "stream": "stdout",
       "text": [
        "\n",
        "Sub001_6MW_Shoes_0006.mat"
       ]
      },
      {
       "output_type": "stream",
       "stream": "stdout",
       "text": [
        "\n",
        "Sub001_6MW_Shoes_0007.mat"
       ]
      },
      {
       "output_type": "stream",
       "stream": "stdout",
       "text": [
        "\n",
        "Sub001_6MW_Shoes_0008.mat"
       ]
      },
      {
       "output_type": "stream",
       "stream": "stdout",
       "text": [
        "\n",
        "Sub001_6MW_Shoes_0009.mat"
       ]
      },
      {
       "output_type": "stream",
       "stream": "stdout",
       "text": [
        "\n",
        "Sub002_6MW_AFO_0001.mat"
       ]
      },
      {
       "output_type": "stream",
       "stream": "stdout",
       "text": [
        "\n",
        "Sub002_6MW_AFO_0002.mat"
       ]
      },
      {
       "output_type": "stream",
       "stream": "stdout",
       "text": [
        "\n",
        "Sub002_6MW_AFO_0003.mat"
       ]
      },
      {
       "output_type": "stream",
       "stream": "stdout",
       "text": [
        "\n",
        "Sub002_6MW_AFO_0004.mat"
       ]
      },
      {
       "output_type": "stream",
       "stream": "stdout",
       "text": [
        "\n",
        "Sub002_6MW_AFO_0005.mat"
       ]
      },
      {
       "output_type": "stream",
       "stream": "stdout",
       "text": [
        "\n",
        "Sub002_6MW_AFO_0006.mat"
       ]
      },
      {
       "output_type": "stream",
       "stream": "stdout",
       "text": [
        "\n",
        "Sub002_6MW_AFO_0007.mat"
       ]
      },
      {
       "output_type": "stream",
       "stream": "stdout",
       "text": [
        "\n",
        "Sub002_6MW_AFO_0008.mat"
       ]
      },
      {
       "output_type": "stream",
       "stream": "stdout",
       "text": [
        "\n",
        "Sub002_6MW_AFO_0009.mat"
       ]
      },
      {
       "output_type": "stream",
       "stream": "stdout",
       "text": [
        "\n",
        "Sub002_6MW_PPAFO_0001.mat"
       ]
      },
      {
       "output_type": "stream",
       "stream": "stdout",
       "text": [
        "\n",
        "Sub002_6MW_PPAFO_0002.mat"
       ]
      },
      {
       "output_type": "stream",
       "stream": "stdout",
       "text": [
        "\n",
        "Sub002_6MW_PPAFO_0003.mat"
       ]
      },
      {
       "output_type": "stream",
       "stream": "stdout",
       "text": [
        "\n",
        "Sub002_6MW_PPAFO_0004.mat"
       ]
      },
      {
       "output_type": "stream",
       "stream": "stdout",
       "text": [
        "\n",
        "Sub002_6MW_PPAFO_0005.mat"
       ]
      },
      {
       "output_type": "stream",
       "stream": "stdout",
       "text": [
        "\n",
        "Sub002_6MW_PPAFO_0006.mat"
       ]
      },
      {
       "output_type": "stream",
       "stream": "stdout",
       "text": [
        "\n",
        "Sub002_6MW_PPAFO_0007.mat"
       ]
      },
      {
       "output_type": "stream",
       "stream": "stdout",
       "text": [
        "\n",
        "Sub002_6MW_PPAFO_0008.mat"
       ]
      },
      {
       "output_type": "stream",
       "stream": "stdout",
       "text": [
        "\n",
        "Sub002_6MW_Shoe_0001.mat"
       ]
      },
      {
       "output_type": "stream",
       "stream": "stdout",
       "text": [
        "\n",
        "Sub002_6MW_Shoe_0002.mat"
       ]
      },
      {
       "output_type": "stream",
       "stream": "stdout",
       "text": [
        "\n",
        "Sub002_6MW_Shoe_0003.mat"
       ]
      },
      {
       "output_type": "stream",
       "stream": "stdout",
       "text": [
        "\n",
        "Sub002_6MW_Shoe_0004.mat"
       ]
      },
      {
       "output_type": "stream",
       "stream": "stdout",
       "text": [
        "\n",
        "Sub002_6MW_Shoe_0005.mat"
       ]
      },
      {
       "output_type": "stream",
       "stream": "stdout",
       "text": [
        "\n",
        "Sub002_6MW_Shoe_0006.mat"
       ]
      },
      {
       "output_type": "stream",
       "stream": "stdout",
       "text": [
        "\n",
        "Sub002_6MW_Shoe_0007.mat"
       ]
      },
      {
       "output_type": "stream",
       "stream": "stdout",
       "text": [
        "\n",
        "Sub002_6MW_Shoe_0008.mat"
       ]
      },
      {
       "output_type": "stream",
       "stream": "stdout",
       "text": [
        "\n",
        "BAD_DATA_Sub003_6MW_AFO_0005.mat"
       ]
      },
      {
       "output_type": "stream",
       "stream": "stdout",
       "text": [
        "\n",
        "Sub003_6MW_AFO_0001.mat"
       ]
      },
      {
       "output_type": "stream",
       "stream": "stdout",
       "text": [
        "\n",
        "Sub003_6MW_AFO_0002.mat"
       ]
      },
      {
       "output_type": "stream",
       "stream": "stdout",
       "text": [
        "\n",
        "Sub003_6MW_AFO_0003.mat"
       ]
      },
      {
       "output_type": "stream",
       "stream": "stdout",
       "text": [
        "\n",
        "Sub003_6MW_AFO_0005.mat"
       ]
      },
      {
       "output_type": "stream",
       "stream": "stdout",
       "text": [
        "\n",
        "Sub003_6MW_AFO_0006.mat"
       ]
      },
      {
       "output_type": "stream",
       "stream": "stdout",
       "text": [
        "\n",
        "Sub003_6MW_AFO_0007.mat"
       ]
      },
      {
       "output_type": "stream",
       "stream": "stdout",
       "text": [
        "\n",
        "Sub003_6MW_AFO_0008.mat"
       ]
      },
      {
       "output_type": "stream",
       "stream": "stdout",
       "text": [
        "\n",
        "Sub003_6MW_AFO_0009.mat"
       ]
      },
      {
       "output_type": "stream",
       "stream": "stdout",
       "text": [
        "\n",
        "Sub003_6MW_PPAFO_0003.mat"
       ]
      },
      {
       "output_type": "stream",
       "stream": "stdout",
       "text": [
        "\n",
        "Sub003_6MW_PPAFO_0004.mat"
       ]
      },
      {
       "output_type": "stream",
       "stream": "stdout",
       "text": [
        "\n",
        "Sub003_6MW_PPAFO_0005.mat"
       ]
      },
      {
       "output_type": "stream",
       "stream": "stdout",
       "text": [
        "\n",
        "Sub003_6MW_PPAFO_0006.mat"
       ]
      },
      {
       "output_type": "stream",
       "stream": "stdout",
       "text": [
        "\n",
        "Sub003_6MW_PPAFO_0007.mat"
       ]
      },
      {
       "output_type": "stream",
       "stream": "stdout",
       "text": [
        "\n",
        "Sub003_6MW_PPAFO_0008.mat"
       ]
      },
      {
       "output_type": "stream",
       "stream": "stdout",
       "text": [
        "\n",
        "Sub003_6MW_PPAFO_0009.mat"
       ]
      },
      {
       "output_type": "stream",
       "stream": "stdout",
       "text": [
        "\n",
        "Sub003_6MW_Shoe_0001.mat"
       ]
      },
      {
       "output_type": "stream",
       "stream": "stdout",
       "text": [
        "\n",
        "Sub003_6MW_Shoe_0002.mat"
       ]
      },
      {
       "output_type": "stream",
       "stream": "stdout",
       "text": [
        "\n",
        "Sub003_6MW_Shoe_0003.mat"
       ]
      },
      {
       "output_type": "stream",
       "stream": "stdout",
       "text": [
        "\n",
        "Sub003_6MW_Shoe_0004.mat"
       ]
      },
      {
       "output_type": "stream",
       "stream": "stdout",
       "text": [
        "\n",
        "Sub003_6MW_Shoe_0005.mat"
       ]
      },
      {
       "output_type": "stream",
       "stream": "stdout",
       "text": [
        "\n",
        "Sub003_6MW_Shoe_0006.mat"
       ]
      },
      {
       "output_type": "stream",
       "stream": "stdout",
       "text": [
        "\n",
        "Sub003_6MW_Shoe_0007.mat"
       ]
      },
      {
       "output_type": "stream",
       "stream": "stdout",
       "text": [
        "\n",
        "Sub003_6MW_Shoe_0008.mat"
       ]
      },
      {
       "output_type": "stream",
       "stream": "stdout",
       "text": [
        "\n",
        "Sub003_6MW_Shoe_0009.mat"
       ]
      },
      {
       "output_type": "stream",
       "stream": "stdout",
       "text": [
        "\n",
        "Sub003_6MW_Shoe_0010.mat"
       ]
      },
      {
       "output_type": "stream",
       "stream": "stdout",
       "text": [
        "\n",
        "Sub003_6MW_Shoe_0011.mat"
       ]
      },
      {
       "output_type": "stream",
       "stream": "stdout",
       "text": [
        "\n",
        "Sub004_6MW_AFO_0001.mat"
       ]
      },
      {
       "output_type": "stream",
       "stream": "stdout",
       "text": [
        "\n",
        "Sub004_6MW_AFO_0002.mat"
       ]
      },
      {
       "output_type": "stream",
       "stream": "stdout",
       "text": [
        "\n",
        "Sub004_6MW_AFO_0003.mat"
       ]
      },
      {
       "output_type": "stream",
       "stream": "stdout",
       "text": [
        "\n",
        "Sub004_6MW_AFO_0004.mat"
       ]
      },
      {
       "output_type": "stream",
       "stream": "stdout",
       "text": [
        "\n",
        "Sub004_6MW_PPAFO_0001.mat"
       ]
      },
      {
       "output_type": "stream",
       "stream": "stdout",
       "text": [
        "\n",
        "Sub004_6MW_PPAFO_0002.mat"
       ]
      },
      {
       "output_type": "stream",
       "stream": "stdout",
       "text": [
        "\n",
        "Sub004_6MW_PPAFO_0003.mat"
       ]
      },
      {
       "output_type": "stream",
       "stream": "stdout",
       "text": [
        "\n",
        "Sub004_6MW_PPAFO_0004.mat"
       ]
      },
      {
       "output_type": "stream",
       "stream": "stdout",
       "text": [
        "\n",
        "Sub004_6MW_PPAFO_0005.mat"
       ]
      },
      {
       "output_type": "stream",
       "stream": "stdout",
       "text": [
        "\n",
        "Sub004_6MW_PPAFO_0006.mat"
       ]
      },
      {
       "output_type": "stream",
       "stream": "stdout",
       "text": [
        "\n",
        "Sub004_6MW_Shoes_0001.mat"
       ]
      },
      {
       "output_type": "stream",
       "stream": "stdout",
       "text": [
        "\n",
        "Sub004_6MW_Shoes_0002.mat"
       ]
      },
      {
       "output_type": "stream",
       "stream": "stdout",
       "text": [
        "\n",
        "Sub004_6MW_Shoes_0003.mat"
       ]
      },
      {
       "output_type": "stream",
       "stream": "stdout",
       "text": [
        "\n",
        "Sub004_6MW_Shoes_0004.mat"
       ]
      },
      {
       "output_type": "stream",
       "stream": "stdout",
       "text": [
        "\n",
        "Sub004_6MW_Shoes_0005.mat"
       ]
      },
      {
       "output_type": "stream",
       "stream": "stdout",
       "text": [
        "\n",
        "Sub005_6MW_AFO_0001.mat"
       ]
      },
      {
       "output_type": "stream",
       "stream": "stdout",
       "text": [
        "\n",
        "Sub005_6MW_AFO_0002.mat"
       ]
      },
      {
       "output_type": "stream",
       "stream": "stdout",
       "text": [
        "\n",
        "Sub005_6MW_AFO_0003.mat"
       ]
      },
      {
       "output_type": "stream",
       "stream": "stdout",
       "text": [
        "\n",
        "Sub005_6MW_AFO_0004.mat"
       ]
      },
      {
       "output_type": "stream",
       "stream": "stdout",
       "text": [
        "\n",
        "Sub005_6MW_AFO_0006.mat"
       ]
      },
      {
       "output_type": "stream",
       "stream": "stdout",
       "text": [
        "\n",
        "Sub005_6MW_AFO_0007.mat"
       ]
      },
      {
       "output_type": "stream",
       "stream": "stdout",
       "text": [
        "\n",
        "Sub005_6MW_AFO_0008.mat"
       ]
      },
      {
       "output_type": "stream",
       "stream": "stdout",
       "text": [
        "\n",
        "Sub005_6MW_AFO_0009.mat"
       ]
      },
      {
       "output_type": "stream",
       "stream": "stdout",
       "text": [
        "\n",
        "Sub005_6MW_AFO_0010.mat"
       ]
      },
      {
       "output_type": "stream",
       "stream": "stdout",
       "text": [
        "\n",
        "Sub005_6MW_AFO_0011.mat"
       ]
      },
      {
       "output_type": "stream",
       "stream": "stdout",
       "text": [
        "\n",
        "Sub005_6MW_AFO_0012.mat"
       ]
      },
      {
       "output_type": "stream",
       "stream": "stdout",
       "text": [
        "\n",
        "Sub005_6MW_AFO_0013.mat"
       ]
      },
      {
       "output_type": "stream",
       "stream": "stdout",
       "text": [
        "\n",
        "Sub005_6MW_PPAFO_0001.mat"
       ]
      },
      {
       "output_type": "stream",
       "stream": "stdout",
       "text": [
        "\n",
        "Sub005_6MW_PPAFO_0002.mat"
       ]
      },
      {
       "output_type": "stream",
       "stream": "stdout",
       "text": [
        "\n",
        "Sub005_6MW_PPAFO_0003.mat"
       ]
      },
      {
       "output_type": "stream",
       "stream": "stdout",
       "text": [
        "\n",
        "Sub005_6MW_PPAFO_0006_static.mat"
       ]
      },
      {
       "output_type": "stream",
       "stream": "stdout",
       "text": [
        "\n",
        "Sub005_6MW_PPAFO_0007.mat"
       ]
      },
      {
       "output_type": "stream",
       "stream": "stdout",
       "text": [
        "\n",
        "Sub005_6MW_PPAFO_0008_static.mat"
       ]
      },
      {
       "output_type": "stream",
       "stream": "stdout",
       "text": [
        "\n",
        "Sub005_6MW_PPAFO_0009.mat"
       ]
      },
      {
       "output_type": "stream",
       "stream": "stdout",
       "text": [
        "\n",
        "Sub005_6MW_PPAFO_0010.mat"
       ]
      },
      {
       "output_type": "stream",
       "stream": "stdout",
       "text": [
        "\n",
        "Sub005_6MW_PPAFO_0011.mat"
       ]
      },
      {
       "output_type": "stream",
       "stream": "stdout",
       "text": [
        "\n",
        "Sub005_6MW_PPAFO_0012.mat"
       ]
      },
      {
       "output_type": "stream",
       "stream": "stdout",
       "text": [
        "\n",
        "Sub005_6MW_PPAFO_0013.mat"
       ]
      },
      {
       "output_type": "stream",
       "stream": "stdout",
       "text": [
        "\n",
        "Sub005_6MW_PPAFO_0016.mat"
       ]
      },
      {
       "output_type": "stream",
       "stream": "stdout",
       "text": [
        "\n",
        "Sub005_6MW_Shoes_0001_Static_good.mat"
       ]
      },
      {
       "output_type": "stream",
       "stream": "stdout",
       "text": [
        "\n",
        "Sub005_6MW_Shoes_0002_static.mat"
       ]
      },
      {
       "output_type": "stream",
       "stream": "stdout",
       "text": [
        "\n",
        "Sub005_6MW_Shoes_0003_static.mat"
       ]
      },
      {
       "output_type": "stream",
       "stream": "stdout",
       "text": [
        "\n",
        "Sub005_6MW_Shoes_0004.mat"
       ]
      },
      {
       "output_type": "stream",
       "stream": "stdout",
       "text": [
        "\n",
        "Sub005_6MW_Shoes_0006.mat"
       ]
      },
      {
       "output_type": "stream",
       "stream": "stdout",
       "text": [
        "\n",
        "Sub005_6MW_Shoes_0007.mat"
       ]
      },
      {
       "output_type": "stream",
       "stream": "stdout",
       "text": [
        "\n",
        "Sub005_6MW_Shoes_0008.mat"
       ]
      },
      {
       "output_type": "stream",
       "stream": "stdout",
       "text": [
        "\n",
        "Sub005_6MW_Shoes_0009.mat"
       ]
      },
      {
       "output_type": "stream",
       "stream": "stdout",
       "text": [
        "\n",
        "Sub005_6MW_Shoes_0010.mat"
       ]
      },
      {
       "output_type": "stream",
       "stream": "stdout",
       "text": [
        "\n",
        "Sub005_6MW_Shoes_0012.mat"
       ]
      },
      {
       "output_type": "stream",
       "stream": "stdout",
       "text": [
        "\n",
        "Sub005_6MW_Shoes_0013.mat"
       ]
      },
      {
       "output_type": "stream",
       "stream": "stdout",
       "text": [
        "\n",
        "Sub007_6MW_AFO_0008.mat"
       ]
      },
      {
       "output_type": "stream",
       "stream": "stdout",
       "text": [
        "\n",
        "Sub007_6MW_AFO_0009.mat"
       ]
      },
      {
       "output_type": "stream",
       "stream": "stdout",
       "text": [
        "\n",
        "Sub007_6MW_AFO_0010.mat"
       ]
      },
      {
       "output_type": "stream",
       "stream": "stdout",
       "text": [
        "\n",
        "Sub007_6MW_AFO_0011.mat"
       ]
      },
      {
       "output_type": "stream",
       "stream": "stdout",
       "text": [
        "\n",
        "Sub007_6MW_AFO_0012.mat"
       ]
      },
      {
       "output_type": "stream",
       "stream": "stdout",
       "text": [
        "\n",
        "Sub007_6MW_PPAFO_0001.mat"
       ]
      },
      {
       "output_type": "stream",
       "stream": "stdout",
       "text": [
        "\n",
        "Sub007_6MW_PPAFO_0002.mat"
       ]
      },
      {
       "output_type": "stream",
       "stream": "stdout",
       "text": [
        "\n",
        "Sub007_6MW_PPAFO_0003.mat"
       ]
      },
      {
       "output_type": "stream",
       "stream": "stdout",
       "text": [
        "\n",
        "Sub007_6MW_PPAFO_0004.mat"
       ]
      },
      {
       "output_type": "stream",
       "stream": "stdout",
       "text": [
        "\n",
        "Sub007_6MW_PPAFO_0005.mat"
       ]
      },
      {
       "output_type": "stream",
       "stream": "stdout",
       "text": [
        "\n",
        "Sub007_6MW_PPAFO_0006.mat"
       ]
      },
      {
       "output_type": "stream",
       "stream": "stdout",
       "text": [
        "\n",
        "Sub007_6MW_Shoes_0001.mat"
       ]
      },
      {
       "output_type": "stream",
       "stream": "stdout",
       "text": [
        "\n",
        "Sub007_6MW_Shoes_0002.mat"
       ]
      },
      {
       "output_type": "stream",
       "stream": "stdout",
       "text": [
        "\n",
        "Sub007_6MW_Shoes_0003.mat"
       ]
      },
      {
       "output_type": "stream",
       "stream": "stdout",
       "text": [
        "\n",
        "Sub007_6MW_Shoes_0004.mat"
       ]
      },
      {
       "output_type": "stream",
       "stream": "stdout",
       "text": [
        "\n",
        "Sub007_6MW_Shoes_0005.mat"
       ]
      },
      {
       "output_type": "stream",
       "stream": "stdout",
       "text": [
        "\n",
        "Sub007_6MW_Shoes_0006.mat"
       ]
      },
      {
       "output_type": "stream",
       "stream": "stdout",
       "text": [
        "\n",
        "Sub009_6MW_AFO_0001.mat"
       ]
      },
      {
       "output_type": "stream",
       "stream": "stdout",
       "text": [
        "\n",
        "Sub009_6MW_AFO_0002.mat"
       ]
      },
      {
       "output_type": "stream",
       "stream": "stdout",
       "text": [
        "\n",
        "Sub009_6MW_AFO_0003.mat"
       ]
      },
      {
       "output_type": "stream",
       "stream": "stdout",
       "text": [
        "\n",
        "Sub009_6MW_AFO_0004.mat"
       ]
      },
      {
       "output_type": "stream",
       "stream": "stdout",
       "text": [
        "\n",
        "Sub009_6MW_AFO_0005.mat"
       ]
      },
      {
       "output_type": "stream",
       "stream": "stdout",
       "text": [
        "\n",
        "Sub009_6MW_PPAFO_0001.mat"
       ]
      },
      {
       "output_type": "stream",
       "stream": "stdout",
       "text": [
        "\n",
        "Sub009_6MW_PPAFO_0002_static.mat"
       ]
      },
      {
       "output_type": "stream",
       "stream": "stdout",
       "text": [
        "\n",
        "Sub009_6MW_PPAFO_0003.mat"
       ]
      },
      {
       "output_type": "stream",
       "stream": "stdout",
       "text": [
        "\n",
        "Sub009_6MW_PPAFO_0004.mat"
       ]
      },
      {
       "output_type": "stream",
       "stream": "stdout",
       "text": [
        "\n",
        "Sub009_6MW_PPAFO_0005.mat"
       ]
      },
      {
       "output_type": "stream",
       "stream": "stdout",
       "text": [
        "\n",
        "Sub009_6MW_PPAFO_0006.mat"
       ]
      },
      {
       "output_type": "stream",
       "stream": "stdout",
       "text": [
        "\n",
        "Sub009_6MW_Shoes_0001.mat"
       ]
      },
      {
       "output_type": "stream",
       "stream": "stdout",
       "text": [
        "\n",
        "Sub009_6MW_Shoes_0002.mat"
       ]
      },
      {
       "output_type": "stream",
       "stream": "stdout",
       "text": [
        "\n",
        "Sub009_6MW_Shoes_0003.mat"
       ]
      },
      {
       "output_type": "stream",
       "stream": "stdout",
       "text": [
        "\n",
        "Sub009_6MW_Shoes_0004.mat"
       ]
      },
      {
       "output_type": "stream",
       "stream": "stdout",
       "text": [
        "\n",
        "Sub010_6MW_AFO_0001.mat"
       ]
      },
      {
       "output_type": "stream",
       "stream": "stdout",
       "text": [
        "\n",
        "Sub010_6MW_AFO_0002.mat"
       ]
      },
      {
       "output_type": "stream",
       "stream": "stdout",
       "text": [
        "\n",
        "Sub010_6MW_AFO_0003.mat"
       ]
      },
      {
       "output_type": "stream",
       "stream": "stdout",
       "text": [
        "\n",
        "Sub010_6MW_AFO_0004.mat"
       ]
      },
      {
       "output_type": "stream",
       "stream": "stdout",
       "text": [
        "\n",
        "Sub010_6MW_AFO_0005.mat"
       ]
      },
      {
       "output_type": "stream",
       "stream": "stdout",
       "text": [
        "\n",
        "Sub010_6MW_PPAFO_0001.mat"
       ]
      },
      {
       "output_type": "stream",
       "stream": "stdout",
       "text": [
        "\n",
        "Sub010_6MW_PPAFO_0002.mat"
       ]
      },
      {
       "output_type": "stream",
       "stream": "stdout",
       "text": [
        "\n",
        "Sub010_6MW_PPAFO_0003.mat"
       ]
      },
      {
       "output_type": "stream",
       "stream": "stdout",
       "text": [
        "\n",
        "Sub010_6MW_PPAFO_0004.mat"
       ]
      },
      {
       "output_type": "stream",
       "stream": "stdout",
       "text": [
        "\n",
        "Sub010_6MW_PPAFO_0005.mat"
       ]
      },
      {
       "output_type": "stream",
       "stream": "stdout",
       "text": [
        "\n",
        "Sub010_6MW_PPAFO_0006.mat"
       ]
      },
      {
       "output_type": "stream",
       "stream": "stdout",
       "text": [
        "\n",
        "Sub010_6MW_Shoes_0004.mat"
       ]
      },
      {
       "output_type": "stream",
       "stream": "stdout",
       "text": [
        "\n",
        "Sub010_6MW_Shoes_0005.mat"
       ]
      },
      {
       "output_type": "stream",
       "stream": "stdout",
       "text": [
        "\n",
        "Sub010_6MW_Shoes_0006.mat"
       ]
      },
      {
       "output_type": "stream",
       "stream": "stdout",
       "text": [
        "\n",
        "Sub010_6MW_Shoes_0007.mat"
       ]
      },
      {
       "output_type": "stream",
       "stream": "stdout",
       "text": [
        "\n",
        "Sub010_6MW_Shoes_0008.mat"
       ]
      },
      {
       "output_type": "stream",
       "stream": "stdout",
       "text": [
        "\n",
        "Sub011_6MW_AFO_0001.mat"
       ]
      },
      {
       "output_type": "stream",
       "stream": "stdout",
       "text": [
        "\n",
        "Sub011_6MW_AFO_0002.mat"
       ]
      },
      {
       "output_type": "stream",
       "stream": "stdout",
       "text": [
        "\n",
        "Sub011_6MW_AFO_0003.mat"
       ]
      },
      {
       "output_type": "stream",
       "stream": "stdout",
       "text": [
        "\n",
        "Sub011_6MW_AFO_0004.mat"
       ]
      },
      {
       "output_type": "stream",
       "stream": "stdout",
       "text": [
        "\n",
        "Sub011_6MW_AFO_0005.mat"
       ]
      },
      {
       "output_type": "stream",
       "stream": "stdout",
       "text": [
        "\n",
        "Sub011_6MW_AFO_0006.mat"
       ]
      },
      {
       "output_type": "stream",
       "stream": "stdout",
       "text": [
        "\n",
        "Sub011_6MW_AFO_0007.mat"
       ]
      },
      {
       "output_type": "stream",
       "stream": "stdout",
       "text": [
        "\n",
        "Sub011_6MW_AFO_0008.mat"
       ]
      },
      {
       "output_type": "stream",
       "stream": "stdout",
       "text": [
        "\n",
        "Sub011_6MW_AFO_0009.mat"
       ]
      },
      {
       "output_type": "stream",
       "stream": "stdout",
       "text": [
        "\n",
        "Sub011_6MW_AFO_0010.mat"
       ]
      },
      {
       "output_type": "stream",
       "stream": "stdout",
       "text": [
        "\n",
        "Sub011_6MW_PPAFO_0001.mat"
       ]
      },
      {
       "output_type": "stream",
       "stream": "stdout",
       "text": [
        "\n",
        "Sub011_6MW_PPAFO_0002.mat"
       ]
      },
      {
       "output_type": "stream",
       "stream": "stdout",
       "text": [
        "\n",
        "Sub011_6MW_PPAFO_0003.mat"
       ]
      },
      {
       "output_type": "stream",
       "stream": "stdout",
       "text": [
        "\n",
        "Sub011_6MW_PPAFO_0004.mat"
       ]
      },
      {
       "output_type": "stream",
       "stream": "stdout",
       "text": [
        "\n",
        "Sub011_6MW_PPAFO_0005.mat"
       ]
      },
      {
       "output_type": "stream",
       "stream": "stdout",
       "text": [
        "\n",
        "Sub011_6MW_PPAFO_0006.mat"
       ]
      },
      {
       "output_type": "stream",
       "stream": "stdout",
       "text": [
        "\n",
        "Sub011_6MW_PPAFO_0007.mat"
       ]
      },
      {
       "output_type": "stream",
       "stream": "stdout",
       "text": [
        "\n",
        "Sub011_6MW_Shoes_0001.mat"
       ]
      },
      {
       "output_type": "stream",
       "stream": "stdout",
       "text": [
        "\n",
        "Sub011_6MW_Shoes_0002_static.mat"
       ]
      },
      {
       "output_type": "stream",
       "stream": "stdout",
       "text": [
        "\n",
        "Sub011_6MW_Shoes_0003.mat"
       ]
      },
      {
       "output_type": "stream",
       "stream": "stdout",
       "text": [
        "\n",
        "Sub011_6MW_Shoes_0004.mat"
       ]
      },
      {
       "output_type": "stream",
       "stream": "stdout",
       "text": [
        "\n",
        "Sub011_6MW_Shoes_0005.mat"
       ]
      },
      {
       "output_type": "stream",
       "stream": "stdout",
       "text": [
        "\n",
        "Sub011_6MW_Shoes_0006.mat"
       ]
      },
      {
       "output_type": "stream",
       "stream": "stdout",
       "text": [
        "\n",
        "Sub011_6MW_Shoes_0007.mat"
       ]
      },
      {
       "output_type": "stream",
       "stream": "stdout",
       "text": [
        "\n",
        "Sub011_6MW_Shoes_0008.mat"
       ]
      },
      {
       "output_type": "stream",
       "stream": "stdout",
       "text": [
        "\n",
        "Sub011_6MW_Shoes_0009.mat"
       ]
      },
      {
       "output_type": "stream",
       "stream": "stdout",
       "text": [
        "\n",
        "Sub012_6MW_AFO_0001.mat"
       ]
      },
      {
       "output_type": "stream",
       "stream": "stdout",
       "text": [
        "\n",
        "Sub012_6MW_AFO_0002.mat"
       ]
      },
      {
       "output_type": "stream",
       "stream": "stdout",
       "text": [
        "\n",
        "Sub012_6MW_AFO_0003.mat"
       ]
      },
      {
       "output_type": "stream",
       "stream": "stdout",
       "text": [
        "\n",
        "Sub012_6MW_AFO_0004.mat"
       ]
      },
      {
       "output_type": "stream",
       "stream": "stdout",
       "text": [
        "\n",
        "Sub012_6MW_AFO_0005.mat"
       ]
      },
      {
       "output_type": "stream",
       "stream": "stdout",
       "text": [
        "\n",
        "Sub012_6MW_AFO_0006.mat"
       ]
      },
      {
       "output_type": "stream",
       "stream": "stdout",
       "text": [
        "\n",
        "Sub012_6MW_AFO_0007.mat"
       ]
      },
      {
       "output_type": "stream",
       "stream": "stdout",
       "text": [
        "\n",
        "Sub012_6MW_AFO_0008.mat"
       ]
      },
      {
       "output_type": "stream",
       "stream": "stdout",
       "text": [
        "\n",
        "Sub012_6MW_AFO_0009.mat"
       ]
      },
      {
       "output_type": "stream",
       "stream": "stdout",
       "text": [
        "\n",
        "Sub012_6MW_AFO_0010.mat"
       ]
      },
      {
       "output_type": "stream",
       "stream": "stdout",
       "text": [
        "\n",
        "Sub012_6MW_PPAFO_0001.mat"
       ]
      },
      {
       "output_type": "stream",
       "stream": "stdout",
       "text": [
        "\n",
        "Sub012_6MW_PPAFO_0002.mat"
       ]
      },
      {
       "output_type": "stream",
       "stream": "stdout",
       "text": [
        "\n",
        "Sub012_6MW_PPAFO_0003.mat"
       ]
      },
      {
       "output_type": "stream",
       "stream": "stdout",
       "text": [
        "\n",
        "Sub012_6MW_PPAFO_0005.mat"
       ]
      },
      {
       "output_type": "stream",
       "stream": "stdout",
       "text": [
        "\n",
        "Sub012_6MW_PPAFO_0006.mat"
       ]
      },
      {
       "output_type": "stream",
       "stream": "stdout",
       "text": [
        "\n",
        "Sub012_6MW_PPAFO_0007.mat"
       ]
      },
      {
       "output_type": "stream",
       "stream": "stdout",
       "text": [
        "\n",
        "Sub012_6MW_PPAFO_0008.mat"
       ]
      },
      {
       "output_type": "stream",
       "stream": "stdout",
       "text": [
        "\n",
        "Sub012_6MW_PPAFO_0009.mat"
       ]
      },
      {
       "output_type": "stream",
       "stream": "stdout",
       "text": [
        "\n",
        "Sub012_6MW_PPAFO_0010.mat"
       ]
      },
      {
       "output_type": "stream",
       "stream": "stdout",
       "text": [
        "\n",
        "Sub012_6MW_Shoes_0001.mat"
       ]
      },
      {
       "output_type": "stream",
       "stream": "stdout",
       "text": [
        "\n",
        "Sub012_6MW_Shoes_0003.mat"
       ]
      },
      {
       "output_type": "stream",
       "stream": "stdout",
       "text": [
        "\n",
        "Sub012_6MW_Shoes_0004.mat"
       ]
      },
      {
       "output_type": "stream",
       "stream": "stdout",
       "text": [
        "\n",
        "Sub012_6MW_Shoes_0005.mat"
       ]
      },
      {
       "output_type": "stream",
       "stream": "stdout",
       "text": [
        "\n",
        "Sub012_6MW_Shoes_0007.mat"
       ]
      },
      {
       "output_type": "stream",
       "stream": "stdout",
       "text": [
        "\n",
        "Sub012_6MW_Shoes_0008.mat"
       ]
      },
      {
       "output_type": "stream",
       "stream": "stdout",
       "text": [
        "\n",
        "Sub012_6MW_Shoes_0009.mat"
       ]
      },
      {
       "output_type": "stream",
       "stream": "stdout",
       "text": [
        "\n",
        "Sub012_6MW_Shoes_0010.mat"
       ]
      },
      {
       "output_type": "stream",
       "stream": "stdout",
       "text": [
        "\n",
        "Sub012_6MW_Shoes_0011.mat"
       ]
      },
      {
       "output_type": "stream",
       "stream": "stdout",
       "text": [
        "\n",
        "Sub013_6MW_AFO_0001.mat"
       ]
      },
      {
       "output_type": "stream",
       "stream": "stdout",
       "text": [
        "\n",
        "Sub013_6MW_AFO_0003.mat"
       ]
      },
      {
       "output_type": "stream",
       "stream": "stdout",
       "text": [
        "\n",
        "Sub013_6MW_AFO_0004.mat"
       ]
      },
      {
       "output_type": "stream",
       "stream": "stdout",
       "text": [
        "\n",
        "Sub013_6MW_AFO_0006.mat\n",
        "Sub013_6MW_AFO_0007.mat"
       ]
      },
      {
       "output_type": "stream",
       "stream": "stdout",
       "text": [
        "\n",
        "Sub013_6MW_AFO_0008.mat"
       ]
      },
      {
       "output_type": "stream",
       "stream": "stdout",
       "text": [
        "\n",
        "Sub013_6MW_AFO_0009.mat"
       ]
      },
      {
       "output_type": "stream",
       "stream": "stdout",
       "text": [
        "\n",
        "Sub013_6MW_AFO_0010.mat"
       ]
      },
      {
       "output_type": "stream",
       "stream": "stdout",
       "text": [
        "\n",
        "Sub013_6MW_AFO_0011.mat"
       ]
      },
      {
       "output_type": "stream",
       "stream": "stdout",
       "text": [
        "\n",
        "Sub013_6MW_AFO_0013.mat"
       ]
      },
      {
       "output_type": "stream",
       "stream": "stdout",
       "text": [
        "\n",
        "Sub013_6MW_AFO_0014.mat"
       ]
      },
      {
       "output_type": "stream",
       "stream": "stdout",
       "text": [
        "\n",
        "Sub013_6MW_PPAFO_0001.mat"
       ]
      },
      {
       "output_type": "stream",
       "stream": "stdout",
       "text": [
        "\n",
        "Sub013_6MW_PPAFO_0002.mat"
       ]
      },
      {
       "output_type": "stream",
       "stream": "stdout",
       "text": [
        "\n",
        "Sub013_6MW_PPAFO_0003.mat"
       ]
      },
      {
       "output_type": "stream",
       "stream": "stdout",
       "text": [
        "\n",
        "Sub013_6MW_PPAFO_0004.mat"
       ]
      },
      {
       "output_type": "stream",
       "stream": "stdout",
       "text": [
        "\n",
        "Sub013_6MW_PPAFO_0005.mat"
       ]
      },
      {
       "output_type": "stream",
       "stream": "stdout",
       "text": [
        "\n",
        "Sub013_6MW_PPAFO_0006.mat"
       ]
      },
      {
       "output_type": "stream",
       "stream": "stdout",
       "text": [
        "\n",
        "Sub013_6MW_PPAFO_0007.mat"
       ]
      },
      {
       "output_type": "stream",
       "stream": "stdout",
       "text": [
        "\n",
        "Sub013_6MW_PPAFO_0008.mat"
       ]
      },
      {
       "output_type": "stream",
       "stream": "stdout",
       "text": [
        "\n",
        "Sub013_6MW_Shoes_0001.mat"
       ]
      },
      {
       "output_type": "stream",
       "stream": "stdout",
       "text": [
        "\n",
        "Sub013_6MW_Shoes_0002.mat"
       ]
      },
      {
       "output_type": "stream",
       "stream": "stdout",
       "text": [
        "\n",
        "Sub013_6MW_Shoes_0003.mat"
       ]
      },
      {
       "output_type": "stream",
       "stream": "stdout",
       "text": [
        "\n",
        "Sub013_6MW_Shoes_0005.mat"
       ]
      },
      {
       "output_type": "stream",
       "stream": "stdout",
       "text": [
        "\n",
        "Sub013_6MW_Shoes_0006.mat\n",
        "Sub013_6MW_Shoes_0007.mat"
       ]
      },
      {
       "output_type": "stream",
       "stream": "stdout",
       "text": [
        "\n",
        "Sub013_6MW_Shoes_0008.mat"
       ]
      },
      {
       "output_type": "stream",
       "stream": "stdout",
       "text": [
        "\n",
        "Sub013_6MW_Shoes_0009.mat"
       ]
      },
      {
       "output_type": "stream",
       "stream": "stdout",
       "text": [
        "\n",
        "Sub013_6MW_Shoes_0010.mat"
       ]
      },
      {
       "output_type": "stream",
       "stream": "stdout",
       "text": [
        "\n",
        "Sub013_6MW_Shoes_0011.mat"
       ]
      },
      {
       "output_type": "stream",
       "stream": "stdout",
       "text": [
        "\n",
        "Sub016_6MW_AFO_0001.mat"
       ]
      },
      {
       "output_type": "stream",
       "stream": "stdout",
       "text": [
        "\n",
        "Sub016_6MW_AFO_0002.mat"
       ]
      },
      {
       "output_type": "stream",
       "stream": "stdout",
       "text": [
        "\n",
        "Sub016_6MW_AFO_0003.mat"
       ]
      },
      {
       "output_type": "stream",
       "stream": "stdout",
       "text": [
        "\n",
        "Sub016_6MW_AFO_0004.mat"
       ]
      },
      {
       "output_type": "stream",
       "stream": "stdout",
       "text": [
        "\n",
        "Sub016_6MW_AFO_0005.mat"
       ]
      },
      {
       "output_type": "stream",
       "stream": "stdout",
       "text": [
        "\n",
        "Sub016_6MW_AFO_0006.mat"
       ]
      },
      {
       "output_type": "stream",
       "stream": "stdout",
       "text": [
        "\n",
        "Sub016_6MW_AFO_0007.mat"
       ]
      },
      {
       "output_type": "stream",
       "stream": "stdout",
       "text": [
        "\n",
        "Sub016_6MW_AFO_0008.mat"
       ]
      },
      {
       "output_type": "stream",
       "stream": "stdout",
       "text": [
        "\n",
        "Sub016_6MW_PPAFO_0001.mat"
       ]
      },
      {
       "output_type": "stream",
       "stream": "stdout",
       "text": [
        "\n",
        "Sub016_6MW_PPAFO_0002.mat"
       ]
      },
      {
       "output_type": "stream",
       "stream": "stdout",
       "text": [
        "\n",
        "Sub016_6MW_PPAFO_0003.mat"
       ]
      },
      {
       "output_type": "stream",
       "stream": "stdout",
       "text": [
        "\n",
        "Sub016_6MW_PPAFO_0004.mat"
       ]
      },
      {
       "output_type": "stream",
       "stream": "stdout",
       "text": [
        "\n",
        "Sub016_6MW_PPAFO_0005.mat"
       ]
      },
      {
       "output_type": "stream",
       "stream": "stdout",
       "text": [
        "\n",
        "Sub016_6MW_PPAFO_0006.mat"
       ]
      },
      {
       "output_type": "stream",
       "stream": "stdout",
       "text": [
        "\n",
        "Sub016_6MW_Shoes_0002.mat"
       ]
      },
      {
       "output_type": "stream",
       "stream": "stdout",
       "text": [
        "\n",
        "Sub016_6MW_Shoes_0003.mat"
       ]
      },
      {
       "output_type": "stream",
       "stream": "stdout",
       "text": [
        "\n",
        "Sub016_6MW_Shoes_0004.mat"
       ]
      },
      {
       "output_type": "stream",
       "stream": "stdout",
       "text": [
        "\n",
        "Sub016_6MW_Shoes_0005.mat"
       ]
      },
      {
       "output_type": "stream",
       "stream": "stdout",
       "text": [
        "\n",
        "Sub016_6MW_Shoes_0006.mat"
       ]
      },
      {
       "output_type": "stream",
       "stream": "stdout",
       "text": [
        "\n",
        "Sub016_6MW_Shoes_0007.mat"
       ]
      },
      {
       "output_type": "stream",
       "stream": "stdout",
       "text": [
        "\n",
        "Sub016_6MW_Shoes_0008.mat"
       ]
      },
      {
       "output_type": "stream",
       "stream": "stdout",
       "text": [
        "\n",
        "Sub016_6MW_Shoes_0009.mat"
       ]
      },
      {
       "output_type": "stream",
       "stream": "stdout",
       "text": [
        "\n",
        "Done reading all data!"
       ]
      },
      {
       "output_type": "stream",
       "stream": "stdout",
       "text": [
        "\n"
       ]
      }
     ],
     "prompt_number": 3
    },
    {
     "cell_type": "markdown",
     "metadata": {},
     "source": [
      "####This portion provides functions for computing the velocity of a marker over time in the x direction and removing zeros to avoid affecting the median values"
     ]
    },
    {
     "cell_type": "code",
     "collapsed": false,
     "input": [
      "#estimation\n",
      "import numpy as np\n",
      "import pylab as plt\n",
      "import thinkstats2\n",
      "import thinkplot\n",
      "\n",
      "#FullLabelSet=['SACRAL', 'R_ASIS', 'R_TROCH', 'R_THIGH', 'R_LAT_KNEE', 'R_TIB', 'R_LAT_MAL', 'R_TOE_5', 'R_TOE_1', 'R_MED_MAL', 'R_HEEL', 'R_MED_KNEE', 'L_MED_KNEE', 'L_HEEL', 'L_MED_MAL', 'L_TOE_1', 'L_TOE_5', 'L_LAT_MAL', 'L_TIB', 'L_LAT_KNEE', 'L_TROCH', 'L_THIGH', 'L_ASIS']\n",
      "#Left = ['L_MED_KNEE', 'L_HEEL', 'L_MED_MAL', 'L_TOE_1', 'L_TOE_5', 'L_LAT_MAL', 'L_TIB', 'L_LAT_KNEE', 'L_TROCH', 'L_THIGH', 'L_ASIS']\n",
      "#Right = ['R_ASIS', 'R_TROCH', 'R_THIGH', 'R_LAT_KNEE', 'R_TIB', 'R_LAT_MAL', 'R_TOE_5', 'R_TOE_1', 'R_MED_MAL', 'R_HEEL', 'R_MED_KNEE']\n",
      "#j = 1 #subject number\n",
      "#i = 3 #trial number\n",
      "\n",
      "def VelocityCalc(data, sel_marker, pnum, trialnum):\n",
      "    \n",
      "    frames = AFO[pnum].trials[trialnum].frames\n",
      "    framerate = AFO[pnum].trials[trialnum].framerate\n",
      "    drop_NA = []\n",
      "    \n",
      "    #Assign a time from frame and frame  - in seconds\n",
      "    AFO[pnum].trials[trialnum].x[\"times\"] = np.arange(0, frames) * (1.0/framerate)\n",
      "    times = AFO[pnum].trials[trialnum].x[\"times\"]\n",
      "\n",
      "    vel_t = []\n",
      "    marker_t=[]\n",
      "    time_t=[]\n",
      "    \n",
      "    for label in sel_marker:\n",
      "        #drop NA from times and marker values\n",
      "        drop_NA = AFO[pnum].trials[trialnum].x[[\"times\", label]]\n",
      "        drop_NA = drop_NA.dropna()\n",
      "        marker = drop_NA[label]\n",
      "        marker_t.append(marker)\n",
      "        if len(marker) == 0:\n",
      "            continue\n",
      "        time = drop_NA[\"times\"]\n",
      "        time_t.append(time) #Adds the time series to a master list\n",
      "        timeshape = time.shape[0]\n",
      "    \n",
      "        #Computes velocity\n",
      "        time_step = np.diff(time)\n",
      "        velocity = np.diff(marker)/time_step\n",
      "        vel_t.append(velocity) #Stores velocity to a master list\n",
      "\n",
      "        #DFT velocity and acc\n",
      "        dft_vel = np.fft.fft(velocity)\n",
      "        time_stepshape = time_step.shape[0]\n",
      "        freq_vel = np.fft.fftfreq(time_stepshape)*framerate\n",
      "        \n",
      "    return time_t, vel_t, marker_t\n",
      "\n",
      "def RemoveZeros(vel_t, low_thresh, up_thresh):\n",
      "    cleanvel_t=[]\n",
      "    for velocity in vel_t:\n",
      "        cleanvel=[]\n",
      "        \n",
      "        for eachvel in velocity:\n",
      "            if eachvel< low_thresh or eachvel>up_thresh:\n",
      "                cleanvel.append(eachvel)\n",
      "        \n",
      "        cleanvel_t.append(cleanvel)\n",
      "    return cleanvel_t"
     ],
     "language": "python",
     "metadata": {},
     "outputs": [],
     "prompt_number": 4
    },
    {
     "cell_type": "markdown",
     "metadata": {},
     "source": [
      "#### This section provides a function that generates the median velocity data for all participants wearing AFO for all valid trials"
     ]
    },
    {
     "cell_type": "code",
     "collapsed": false,
     "input": [
      "sel_marker=['R_HEEL']\n",
      "data=[AFO, PPAFO, Shoes]\n",
      "\n",
      "\n",
      "\n",
      "def GeneratePopulation(data, sel_marker):\n",
      "    AFO=data[0]\n",
      "    p_list=AFO.keys()\n",
      "    #p_list=[1]\n",
      "    pop_dict=dict()\n",
      "    \n",
      "    for participant in p_list:\n",
      "    \n",
      "        participant_obj=AFO[participant]\n",
      "        #print participant_obj.trials.keys()\n",
      "        for trial in participant_obj.trials.keys():\n",
      "            if trial>2:\n",
      "                time_t, vel_t, marker_t=VelocityCalc(data, sel_marker, participant, trial)    \n",
      "                #print len(vel_t[1])\n",
      "                #print len(time_t[1][1:])\n",
      "                #thinkplot.Plot(time_t[0][1:], vel_t[0])\n",
      "                #thinkplot.Plot(time_t[0], marker_t[0])\n",
      "                #thinkplot.Show(legend=False)\n",
      "                \n",
      "                vel_t[0]=thinkstats2.Smooth(vel_t[0])\n",
      "                \n",
      "\n",
      "                #thinkplot.Plot(time_t[0][1:], vel_t[0])\n",
      "                #thinkplot.Plot(time_t[0], marker_t[0])\n",
      "                #thinkplot.Show(legend=False)\n",
      "\n",
      "                cleanvel_t=RemoveZeros(vel_t, -60, 60)\n",
      "                #print len(cleanvel_t[0])\n",
      "                #CDF\n",
      "                if len(cleanvel_t[0])!=0:\n",
      "                    vel_cdf = thinkstats2.Cdf(cleanvel_t[0])\n",
      "                    #thinkplot.Cdf(vel_cdf)\n",
      "                    #thinkplot.Show(legend=False)\n",
      "                    median=vel_cdf.Percentile(50)\n",
      "                    pop_dict[(participant, trial)]=median\n",
      "                    \n",
      "    return pop_dict\n",
      "                #thinkplot.Cdf(vel_cdf)\n",
      "                #thinkplot.Show(legend=False)\n",
      "                #cdf = thinkstats2.MakeCdfFromList(vel_cdf)\n"
     ],
     "language": "python",
     "metadata": {},
     "outputs": [],
<<<<<<< HEAD
     "prompt_number": 5
=======
     "prompt_number": 4
>>>>>>> 6a1181211f985f3c7302f9a2b45d150e89df4416
    },
    {
     "cell_type": "markdown",
     "metadata": {},
     "source": [
      "#### This portion runs the above functions to generate the \"Population data\" for all participants wearing AFO in all valid trials"
     ]
    },
    {
     "cell_type": "code",
     "collapsed": false,
     "input": [
      "pop_dict=GeneratePopulation(data, sel_marker)\n",
      "\n",
      "for eachkey in pop_dict.keys():\n",
      "    print eachkey\n",
      "    print pop_dict[eachkey]"
     ],
     "language": "python",
     "metadata": {},
     "outputs": [
      {
       "output_type": "stream",
       "stream": "stdout",
       "text": [
        "(5, 9)\n",
        "-1875.90636145\n",
        "(1, 3)\n",
        "-1331.20983986\n",
        "(13, 8)\n",
        "-1589.77658107\n",
        "(16, 6)\n",
        "-1296.31754449\n",
        "(5, 6)\n",
        "-1633.81596131\n",
        "(2, 8)\n",
        "-1351.26657475\n",
        "(13, 4)\n",
        "-1865.06252065\n",
        "(5, 13)\n",
        "-1793.42948995\n",
        "(12, 5)\n",
        "-2105.90807603\n",
        "(1, 6)\n",
        "-873.839196999\n",
        "(16, 8)\n",
        "-1272.98063491\n",
        "(9, 4)\n",
        "-831.338695632\n",
        "(7, 11)\n",
        "-691.770003608\n",
        "(3, 7)\n",
        "-2137.84340308\n",
        "(2, 5)\n",
        "-1126.89191805\n",
        "(10, 3)\n",
        "-480.951374955\n",
        "(5, 8)\n",
        "-1508.59276499\n",
        "(10, 4)\n",
        "-348.876977396\n",
        "(13, 13)\n",
        "-1942.56691399\n",
        "(11, 10)\n",
        "-1840.43965668\n",
        "(3, 3)\n",
        "-2477.22726202\n",
        "(2, 9)\n",
        "-802.481255304\n",
        "(11, 5)\n",
        "-1888.91446045\n",
        "(12, 9)\n",
        "-1987.56876166\n",
        "(5, 12)\n",
        "-1635.10559142\n",
        "(4, 4)\n",
        "-285.649264848\n",
        "(12, 6)\n",
        "-1716.0353697\n",
        "(16, 4)\n",
        "-1203.08781739\n",
        "(1, 5)\n",
        "-790.710766\n",
        "(13, 7)\n",
        "-2114.41661333\n",
        "(16, 7)\n",
        "-1449.4664062\n",
        "(3, 6)\n",
        "-1256.06088856\n",
        "(12, 10)\n",
        "-2159.97025961\n",
        "(3, 5)\n",
        "-2290.19794468\n",
        "(11, 9)\n",
        "-1901.55975654\n",
        "(12, 3)\n",
        "-2146.71875127\n",
        "(13, 11)\n",
        "-1615.96394085\n",
        "(5, 4)\n",
        "-1447.69069602\n",
        "(2, 6)\n",
        "-1188.79635546\n",
        "(11, 4)\n",
        "-1865.88659168\n",
        "(7, 10)\n",
        "-843.876548463\n",
        "(5, 11)\n",
        "-1485.87247124\n",
        "(12, 7)\n",
        "-1633.61485694\n",
        "(9, 3)\n",
        "-862.831495859\n",
        "(1, 4)\n",
        "-630.154712318\n",
        "(13, 6)\n",
        "-1947.23111029\n",
        "(3, 9)\n",
        "-1663.12357827\n",
        "(1, 9)\n",
        "-644.488449638\n",
        "(7, 12)\n",
        "-757.129151932\n",
        "(13, 9)\n",
        "-2014.68232473\n",
        "(16, 5)\n",
        "-1271.0344307\n",
        "(13, 10)\n",
        "-1834.42851842\n",
        "(13, 3)\n",
        "-2201.71190588\n",
        "(5, 3)\n",
        "-1812.10951861\n",
        "(2, 7)\n",
        "-931.492964952\n",
        "(11, 7)\n",
        "-1831.42459007\n",
        "(10, 5)\n",
        "-491.198241091\n",
        "(5, 10)\n",
        "-2090.81098595\n",
        "(11, 8)\n",
        "-1814.18372036\n",
        "(5, 7)\n",
        "-1685.78229335\n",
        "(11, 3)\n",
        "-1731.28542338\n",
        "(3, 8)\n",
        "-2054.69677172\n",
        "(13, 14)\n",
        "-1866.80390399\n",
        "(1, 8)\n",
        "-815.523620817\n",
        "(12, 4)\n",
        "-1447.9480307\n",
        "(4, 3)\n",
        "-324.426618473\n",
        "(1, 7)\n",
        "-477.669555109\n",
        "(9, 5)\n",
        "-962.62153747\n",
        "(16, 3)\n",
        "-1043.58455341\n",
        "(11, 6)\n",
        "-1570.23227957\n",
        "(12, 8)\n",
        "-1534.68116511\n"
       ]
      }
     ],
     "prompt_number": 6
    },
    {
     "cell_type": "markdown",
     "metadata": {},
     "source": [
      "#### Computes the Sampling Distribution assuming all trials for all participants are independent measurements"
     ]
    },
    {
     "cell_type": "code",
     "collapsed": false,
     "input": [
      "def IndepTrialSampling(pop_dict, n):\n",
      "    \n",
      "    mean_t=[]\n",
      "    \n",
      "    for i in range(n+1):\n",
      "        all_choices=pop_dict.keys()\n",
      "        indices=range(len(all_choices)) #This is created because the pop_dict keys are tuples which can't be used to run np.random.choice\n",
      "\n",
      "        sample=np.random.choice(indices, len(all_choices), replace=True)\n",
      "\n",
      "        sample_data=[]\n",
      "        \n",
      "\n",
      "        #This generates the actual heel velocity data from the list of selected indices\n",
      "        for samplechoice in sample:\n",
      "            tup=all_choices[samplechoice]\n",
      "            data=pop_dict[tup]\n",
      "            sample_data.append(data)\n",
      "        \n",
      "        data_array=np.asarray(sample_data)\n",
      "        mean=data_array.mean()\n",
      "        mean_t.append(mean)\n",
      "        \n",
      "    return mean_t\n",
      "\n",
      "sample_data=IndepTrialSampling(pop_dict, 1000)\n",
      "cdf=thinkstats2.Cdf(sample_data)\n",
      "thinkplot.Cdf(cdf, label='Independent', color='Red')\n",
      "\n",
      "def DepTrialSampling(pop_dict, n):\n",
      "    mean_t=[]\n",
      "    for i in range(n+1):\n",
      "        allchoice_array=np.asarray(all_choices)\n",
      "\n",
      "        participants=set(allchoice_array[:,0])\n",
      "\n",
      "\n",
      "        samplesizeper=len(all_choices)/len(participants)\n",
      "\n",
      "        fullsample=[]\n",
      "\n",
      "        for participant in participants:\n",
      "            choiceset=[]\n",
      "            for i in range(len(all_choices)):\n",
      "                if allchoice_array[i, 0]==participant:\n",
      "                    trialnum=allchoice_array[i, 1]\n",
      "            \n",
      "                    choiceset.append(pop_dict[(participant, trialnum)])\n",
      "            \n",
      "            chosen=np.random.choice(np.asarray(choiceset), samplesizeper, replace=True)\n",
      "            fullsample=fullsample + chosen.tolist()\n",
      "    \n",
      "    \n",
      "        data_array=np.asarray(fullsample)\n",
      "        mean=data_array.mean()\n",
      "        mean_t.append(mean)\n",
      "        \n",
      "    return mean_t\n",
      "\n",
      "fullsample=DepTrialSampling(pop_dict, 1000) \n",
      "cdf2=thinkstats2.Cdf(fullsample)\n",
      "thinkplot.Cdf(cdf2, label='Dependent', color='Blue')\n",
      "\n",
      "vals=pop_dict.values()\n",
      "vals_array=np.asarray(vals)\n",
      "actual_mean=vals_array.mean()\n",
      "print actual_mean\n",
      "\n",
      "thinkplot.Show(legend=True, loc='upper left', xlabel='Mean Heel Velocity in mm/sec', ylabel='CDF')"
     ],
     "language": "python",
     "metadata": {},
     "outputs": [
      {
       "output_type": "stream",
       "stream": "stdout",
       "text": [
        "-1457.30793283\n"
       ]
      },
      {
       "metadata": {},
       "output_type": "display_data",
       "png": "iVBORw0KGgoAAAANSUhEUgAAAYEAAAEPCAYAAACk43iMAAAABHNCSVQICAgIfAhkiAAAAAlwSFlz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\nRK5CYII=\n",
       "text": [
        "<matplotlib.figure.Figure at 0x122a2d68>"

       ]
      },
      {
       "metadata": {},
       "output_type": "display_data",
       "text": [
        "<matplotlib.figure.Figure at 0x122a2cf8>"
       ]
      }
     ],
     "prompt_number": 7
    },
    {
     "cell_type": "markdown",
     "metadata": {},
     "source": [
      "#### This code attempts to determine how accurate the observed walking trials are able to estimate the person's heel velocity "
     ]
    },
    {
     "cell_type": "code",
     "collapsed": false,
     "input": [
      "vals=pop_dict.values()\n",
      "vals_array=np.asarray(vals)\n",
      "actual_mean=vals_array.mean()\n",
      "    \n",
      "def SampleGaitData(pop_dict, n):\n",
      "    vals=pop_dict.values()\n",
      "    vals_array=np.asarray(vals)\n",
      "    actual_mean=vals_array.mean()\n",
      "\n",
      "    indices=range(len(all_choices))\n",
      "\n",
      "    sample=np.random.choice(indices, n, replace=True)\n",
      "\n",
      "    sample_data=[]\n",
      "\n",
      "    for samplechoice in sample:\n",
      "        tup=all_choices[samplechoice]\n",
      "        data=pop_dict[tup]\n",
      "        sample_data.append(data)\n",
      "        \n",
      "    data_array=np.asarray(sample_data)\n",
      "    return data_array.mean()\n",
      "\n",
      "sample_distri=[]\n",
      "\n",
      "for i in range(1000):\n",
      "    sample_distri.append(SampleGaitData(pop_dict, 6))\n",
      "\n",
      "    \n",
      "cdf3=thinkstats2.Cdf(sample_distri)\n",
      "thinkplot.Cdf(cdf3)\n",
      "thinkplot.Show(legend=False, xlabel='Mean Heel Velocity in mm/sec', ylabel='CDF', title='Sampling Distribution in estimating actual heel velocity')\n",
      "\n",
      "ci=(cdf3.Percentile(5), cdf3.Percentile(95))\n",
      "\n",
      "thinkplot.Cdf(cdf3)\n",
      "thinkplot.Plot([ci, ci], [0, 1], color='0.8')\n",
      "thinkplot.Show(legend=False, xlabel='Sample Distribution', ylabel='CDF')\n",
      "\n",
      "print ci\n",
      "\n",
      "stderr=thinkstats2.Std(sample_distri, actual_mean)\n",
      "print stderr\n",
      "\n",
      "#NEED TO ADD VERTLINE TO THIS TO MARK THE CONFIDENCE INTERVALS"
     ],
     "language": "python",
     "metadata": {},
     "outputs": [
      {
       "metadata": {},
       "output_type": "display_data",
.figure.Figure at 0xd508748>"
       "png": "iVBORw0KGgoAAAANSUhEUgAAAYsAAAEZCAYAAABmTgnDAAAABHNCSVQICAgIfAhkiAAAAAlwSFlz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\nAAAAAElFTkSuQmCC\n",
       "text": [
        "<matplotlib.figure.Figure at 0x109fece90>"
       ]
      },
      {
       "output_type": "stream",
       "stream": "stdout",
       "text": [
        "(-1782.151829596093, -1082.6513464479469)\n",
        "212.233003298\n"
       ]
      },
      {
       "metadata": {},
       "output_type": "display_data",
       "text": [
        "<matplotlib.figure.Figure at 0x111c92850>"
       ]
      }
     ],
     "prompt_number": 20
    },
    {
     "cell_type": "markdown",
     "metadata": {},
     "source": [
      "Based on the above data, we expect the estimate of a person's median heel velocity to be off by 242mm/sec or approximately 0.5mph off (compared to the actual walking speed of 3mph) on average given that we are only able to sample their walking for 5 loops"
     ]
    }
   ],
   "metadata": {}
  }
 ]
}