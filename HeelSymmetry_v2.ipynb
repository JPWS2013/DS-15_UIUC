{
 "cells": [
  {
   "cell_type": "markdown",
   "metadata": {},
   "source": [
    "#Testing Gait Cycle Extraction Method"
   ]
  },
  {
   "cell_type": "markdown",
   "metadata": {},
   "source": [
    "The purpose of this notebook is to test our method for extracting gait cycles to determine how effective it is."
   ]
  },
  {
   "cell_type": "code",
   "execution_count": 1,
   "metadata": {
    "collapsed": false,
    "scrolled": true
   },
   "outputs": [],
   "source": [
    "%matplotlib inline\n",
    "%precision 3\n",
    "import numpy as np\n",
    "import scipy\n",
    "import ReadCsvs as rc\n",
    "import thinkstats2\n",
    "import thinkplot\n",
    "import GaitCycleFunc as gcf"
   ]
  },
  {
   "cell_type": "code",
   "execution_count": 3,
   "metadata": {
    "collapsed": false,
    "scrolled": true
   },
   "outputs": [
    {
     "ename": "IOError",
     "evalue": "[Errno 2] No such file or directory: 'Csvs/fname.csv'",
     "output_type": "error",
     "traceback": [
      "\u001b[1;31m---------------------------------------------------------------------------\u001b[0m",
      "\u001b[1;31mIOError\u001b[0m                                   Traceback (most recent call last)",
      "\u001b[1;32m<ipython-input-3-15f7704212a4>\u001b[0m in \u001b[0;36m<module>\u001b[1;34m()\u001b[0m\n\u001b[1;32m----> 1\u001b[1;33m \u001b[0mAFO\u001b[0m\u001b[1;33m,\u001b[0m \u001b[0mPPAFO\u001b[0m\u001b[1;33m,\u001b[0m \u001b[0mShoes\u001b[0m\u001b[1;33m=\u001b[0m\u001b[0mrc\u001b[0m\u001b[1;33m.\u001b[0m\u001b[0mReadGaitData\u001b[0m\u001b[1;33m(\u001b[0m\u001b[1;33m)\u001b[0m\u001b[1;33m\u001b[0m\u001b[0m\n\u001b[0m",
      "\u001b[1;32mh:\\DS-15_UIUC\\ReadCsvs.pyc\u001b[0m in \u001b[0;36mReadGaitData\u001b[1;34m()\u001b[0m\n\u001b[0;32m     15\u001b[0m \u001b[1;33m\u001b[0m\u001b[0m\n\u001b[0;32m     16\u001b[0m \u001b[1;32mdef\u001b[0m \u001b[0mReadGaitData\u001b[0m\u001b[1;33m(\u001b[0m\u001b[1;33m)\u001b[0m\u001b[1;33m:\u001b[0m\u001b[1;33m\u001b[0m\u001b[0m\n\u001b[1;32m---> 17\u001b[1;33m     \u001b[0mFullData\u001b[0m\u001b[1;33m=\u001b[0m\u001b[0mFormData\u001b[0m\u001b[1;33m(\u001b[0m\u001b[1;33m)\u001b[0m \u001b[1;31m#Get all the data out of the CSV files\u001b[0m\u001b[1;33m\u001b[0m\u001b[0m\n\u001b[0m\u001b[0;32m     18\u001b[0m     \u001b[0mAFO\u001b[0m\u001b[1;33m,\u001b[0m \u001b[0mPPAFO\u001b[0m\u001b[1;33m,\u001b[0m \u001b[0mShoes\u001b[0m\u001b[1;33m=\u001b[0m\u001b[0mSortbyFootwear_MT\u001b[0m\u001b[1;33m(\u001b[0m\u001b[0mFullData\u001b[0m\u001b[1;33m)\u001b[0m \u001b[1;31m#Process and clean the data to have a consistent number of columns with column names in the same order\u001b[0m\u001b[1;33m\u001b[0m\u001b[0m\n\u001b[0;32m     19\u001b[0m     \u001b[0mAFO_g\u001b[0m\u001b[1;33m,\u001b[0m \u001b[0mPPAFO_g\u001b[0m\u001b[1;33m,\u001b[0m \u001b[0mShoes_g\u001b[0m\u001b[1;33m=\u001b[0m\u001b[0mGroupParticipants\u001b[0m\u001b[1;33m(\u001b[0m\u001b[1;33m[\u001b[0m\u001b[0mAFO\u001b[0m\u001b[1;33m,\u001b[0m \u001b[0mPPAFO\u001b[0m\u001b[1;33m,\u001b[0m \u001b[0mShoes\u001b[0m\u001b[1;33m]\u001b[0m\u001b[1;33m)\u001b[0m\u001b[1;33m\u001b[0m\u001b[0m\n",
      "\u001b[1;32mh:\\DS-15_UIUC\\ReadCsvs.pyc\u001b[0m in \u001b[0;36mFormData\u001b[1;34m()\u001b[0m\n\u001b[0;32m     96\u001b[0m     \u001b[0mReturns\u001b[0m \u001b[0ma\u001b[0m \u001b[0mdictionary\u001b[0m \u001b[0mof\u001b[0m \u001b[0mall\u001b[0m \u001b[0mthe\u001b[0m \u001b[0mGaitRaw\u001b[0m \u001b[0mobjects\u001b[0m \u001b[0mrepresenting\u001b[0m \u001b[0meach\u001b[0m \u001b[0mtrial\u001b[0m \u001b[1;32min\u001b[0m \u001b[0mthe\u001b[0m \u001b[0mdataset\u001b[0m\u001b[1;33m\u001b[0m\u001b[0m\n\u001b[0;32m     97\u001b[0m     \"\"\"\n\u001b[1;32m---> 98\u001b[1;33m     \u001b[0mNameList\u001b[0m\u001b[1;33m=\u001b[0m\u001b[0mCsvtoList\u001b[0m\u001b[1;33m(\u001b[0m\u001b[1;34m'Csvs/fname.csv'\u001b[0m\u001b[1;33m)\u001b[0m \u001b[1;31m#Retrieves the list of file names from the csv file\u001b[0m\u001b[1;33m\u001b[0m\u001b[0m\n\u001b[0m\u001b[0;32m     99\u001b[0m \u001b[1;33m\u001b[0m\u001b[0m\n\u001b[0;32m    100\u001b[0m     \u001b[1;31m#NameList=['Sub001_6MW_PPAFO_0001.mat']\u001b[0m\u001b[1;33m\u001b[0m\u001b[1;33m\u001b[0m\u001b[0m\n",
      "\u001b[1;32mh:\\DS-15_UIUC\\ReadCsvs.pyc\u001b[0m in \u001b[0;36mCsvtoList\u001b[1;34m(filepath)\u001b[0m\n\u001b[0;32m     73\u001b[0m     \u001b[0mReturns\u001b[0m \u001b[0ma\u001b[0m \u001b[0mlist\u001b[0m \u001b[0mof\u001b[0m \u001b[0mall\u001b[0m \u001b[0mthe\u001b[0m \u001b[0mstrings\u001b[0m \u001b[0mcontained\u001b[0m \u001b[1;32min\u001b[0m \u001b[0mthe\u001b[0m \u001b[0mcsv\u001b[0m \u001b[0mfile\u001b[0m\u001b[1;33m\u001b[0m\u001b[0m\n\u001b[0;32m     74\u001b[0m     \"\"\"\n\u001b[1;32m---> 75\u001b[1;33m     \u001b[0mFnameFile\u001b[0m \u001b[1;33m=\u001b[0m \u001b[0mopen\u001b[0m\u001b[1;33m(\u001b[0m\u001b[0mfilepath\u001b[0m\u001b[1;33m,\u001b[0m \u001b[1;34m'r'\u001b[0m\u001b[1;33m)\u001b[0m \u001b[1;31m#Opens the csv file\u001b[0m\u001b[1;33m\u001b[0m\u001b[0m\n\u001b[0m\u001b[0;32m     76\u001b[0m \u001b[1;33m\u001b[0m\u001b[0m\n\u001b[0;32m     77\u001b[0m     \u001b[1;32mfor\u001b[0m \u001b[0mline\u001b[0m \u001b[1;32min\u001b[0m \u001b[0mFnameFile\u001b[0m\u001b[1;33m.\u001b[0m\u001b[0mreadlines\u001b[0m\u001b[1;33m(\u001b[0m\u001b[1;33m)\u001b[0m\u001b[1;33m:\u001b[0m \u001b[1;31m#for each line in the csv file\u001b[0m\u001b[1;33m\u001b[0m\u001b[0m\n",
      "\u001b[1;31mIOError\u001b[0m: [Errno 2] No such file or directory: 'Csvs/fname.csv'"
     ]
    }
   ],
   "source": [
    "AFO, PPAFO, Shoes=rc.ReadGaitData()"
   ]
  },
  {
   "cell_type": "markdown",
   "metadata": {},
   "source": [
    "###Test Symmetry Based on Gait Cycles"
   ]
  },
  {
   "cell_type": "code",
   "execution_count": null,
   "metadata": {
    "collapsed": false
   },
   "outputs": [],
   "source": [
    "data=[AFO, PPAFO, Shoes]\n",
    "pnum = 12\n",
    "trial = 5\n",
    "axis = 'z'\n",
    "marker1 = 'R_HEEL'\n",
    "marker2 = 'L_HEEL'\n",
    "\n",
    "def CycleSet(x, data, pnum, trial, axis, marker1, marker2):\n",
    "    \n",
    "    if x == \"AFO\":\n",
    "        cycle_set_afo_R=gcf.CycleExtract('AFO', data, pnum, trial, axis, marker1, False, False)\n",
    "        cycle_set_afo_L=gcf.CycleExtract('AFO', data, pnum, trial, axis, marker2, False, False)\n",
    "        \n",
    "        for i in range(len(cycle_set_afo_L)):\n",
    "            index_L, cycle_L=cycle_set_afo_L[i]\n",
    "            index_R, cycle_R=cycle_set_afo_R[i]\n",
    "            lheeldata_afo=cycle_L['L_HEEL']\n",
    "            rheeldata_afo=cycle_R['R_HEEL']\n",
    "    \n",
    "            percent_L=np.linspace(0,100, len(index_L))\n",
    "            percent_R=np.linspace(0,100, len(index_R))\n",
    "    \n",
    "            thinkplot.Plot(percent_L, lheeldata_afo, label='Left Heel Marker', color='blue')\n",
    "            thinkplot.Plot(percent_R, rheeldata_afo, label='Right Heel Marker', color='red')\n",
    "            thinkplot.Show(legend=True, xlabel='Percent of Gait Cycle (%)', ylabel='Height off the ground in mm', title='Plot of 1 complete gait cycle for left and right heel (AFO)')\n",
    "\n",
    "        crosscorr_afo = np.correlate(lheeldata_afo, rheeldata_afo)\n",
    "        corr_afo=thinkstats2.Corr(lheeldata_afo, rheeldata_afo)\n",
    "        return corr_afo\n",
    "            \n",
    "    if x ==\"PPAFO\":\n",
    "        cycle_set_ppafo_R=gcf.CycleExtract('PPAFO', data, pnum, trial, axis, marker1, False, False)\n",
    "        cycle_set_ppafo_L=gcf.CycleExtract('PPAFO', data, pnum, trial, axis, marker2, False, False)\n",
    "        \n",
    "        for i in range(len(cycle_set_afo_L)):\n",
    "            index_L, cycle_L=cycle_set_ppafo_L[i]\n",
    "            index_R, cycle_R=cycle_set_ppafo_R[i]\n",
    "            lheeldata_ppafo=cycle_L['L_HEEL']\n",
    "            rheeldata_ppafo=cycle_R['R_HEEL']\n",
    "    \n",
    "            percent_L=np.linspace(0,100, len(index_L))\n",
    "            percent_R=np.linspace(0,100, len(index_R))\n",
    "    \n",
    "            thinkplot.Plot(percent_L, lheeldata_ppafo, label='Left Heel Marker', color='blue')\n",
    "            thinkplot.Plot(percent_R, rheeldata_ppafo, label='Right Heel Marker', color='red')\n",
    "            thinkplot.Show(legend=True, xlabel='Percent of Gait Cycle (%)', ylabel='Height off the ground in mm', title='Plot of 1 complete gait cycle for left and right heel (PPAFO)')\n",
    "        \n",
    "        np.correlate(lheeldata_ppafo, rheeldata_ppafo)\n",
    "        crosscorr_ppafo = corr_ppafo=thinkstats2.Corr(lheeldata_ppafo, rheeldata_ppafo)\n",
    "        return corr_ppafo\n",
    "    \n",
    "    else:\n",
    "        cycle_set_shoes_L=gcf.CycleExtract('Shoes', data, pnum, trial, axis, marker2, False, False)\n",
    "        cycle_set_shoes_R=gcf.CycleExtract('Shoes', data, pnum, trial, axis, marker1, False, False)\n",
    "        \n",
    "        for i in range(len(cycle_set_shoes_L)):\n",
    "            index_L, cycle_L=cycle_set_shoes_L[i]\n",
    "            index_R, cycle_R=cycle_set_shoes_R[i]\n",
    "            lheeldata_shoes=cycle_L['L_HEEL']\n",
    "            rheeldata_shoes=cycle_R['R_HEEL']\n",
    "    \n",
    "            percent_L=np.linspace(0,100, len(index_L))\n",
    "            percent_R=np.linspace(0,100, len(index_R))\n",
    "    \n",
    "            thinkplot.Plot(percent_L, lheeldata_shoes, label='Left Heel Marker', color='blue')\n",
    "            thinkplot.Plot(percent_R, rheeldata_shoes, label='Right Heel Marker', color='red')\n",
    "            thinkplot.Show(legend=True, xlabel='Percent of Gait Cycle (%)', ylabel='Height off the ground in mm', title='Plot of 1 complete gait cycle for left and right heel (Shoes)')\n",
    "    \n",
    "        corr_shoes=thinkstats2.Corr(lheeldata_shoes, rheeldata_shoes)\n",
    "        crosscorr_shoes = np.correlate(lheeldata_shoes, rheeldata_shoes)\n",
    "        return corr_shoes\n",
    "        \n",
    "#     print rheeldata\n",
    "#     rheeldata_rev=rheeldata[::-1]\n",
    "#     print rheeldata_rev\n",
    "\n",
    "    # thinkplot.Scatter(lheeldata_afo, rheeldata_afo[::-1], alpha=0.2)\n",
    "    # thinkplot.Show(legend=True, xlabel= 'Left Heel Height (mm)', ylabel='Right Heel Height (mm)', title='Plot of left and right heel height (AFO)')\n",
    "\n",
    "    # thinkplot.Scatter(lheeldata_ppafo, rheeldata_ppafo[::-1], alpha=0.2)\n",
    "    # thinkplot.Show(legend=True, xlabel= 'Left Heel Height (mm)', ylabel='Right Heel Height (mm)', title='Plot of left and right heel height (PPAFO)')\n",
    "\n",
    "    # thinkplot.Scatter(lheeldata_shoes, rheeldata_shoes[::-1], alpha=0.2)\n",
    "    # thinkplot.Show(legend=True, xlabel= 'Left Heel Height (mm)', ylabel='Right Heel Height (mm)', title='Plot of left and right heel height (Shoes)')\n",
    "\n",
    "    \n",
    "    \n",
    "    \n",
    "\n",
    "#     print \"AFO Correlation=\", corr_afo\n",
    "#     print \"PPAFO Correlation=\", corr_ppafo\n",
    "#     print \"Shoes Correlation=\", corr_shoes\n",
    "#     return corr_afo, corr_ppafo, corr_shoes\n",
    "\n",
    "CycleSet('AFO', data, pnum, trial, axis, marker)"
   ]
  },
  {
   "cell_type": "code",
   "execution_count": null,
   "metadata": {
    "collapsed": false
   },
   "outputs": [],
   "source": [
    "# thinkplot.Scatter(lheeldata_afo, rheeldata_afo[::-1], alpha=0.2)\n",
    "# thinkplot.Show(legend=True, xlabel= 'Left Heel Height (mm)', ylabel='Right Heel Height (mm)', title='Plot of left and right heel height (AFO)')\n",
    "\n",
    "# thinkplot.Scatter(lheeldata_ppafo, rheeldata_ppafo[::-1], alpha=0.2)\n",
    "# thinkplot.Show(legend=True, xlabel= 'Left Heel Height (mm)', ylabel='Right Heel Height (mm)', title='Plot of left and right heel height (PPAFO)')\n",
    "\n",
    "# thinkplot.Scatter(lheeldata_shoes, rheeldata_shoes[::-1], alpha=0.2)\n",
    "# thinkplot.Show(legend=True, xlabel= 'Left Heel Height (mm)', ylabel='Right Heel Height (mm)', title='Plot of left and right heel height (Shoes)')\n"
   ]
  },
  {
   "cell_type": "code",
   "execution_count": null,
   "metadata": {
    "collapsed": false
   },
   "outputs": [],
   "source": [
    "# corr_afo=thinkstats2.Corr(lheeldata_afo, rheeldata_afo[::-1])\n",
    "# corr_shoes=thinkstats2.Corr(lheeldata_shoes, rheeldata_shoes[::-1])\n",
    "# corr_ppafo=thinkstats2.Corr(lheeldata_ppafo, rheeldata_ppafo[::-1])\n",
    "\n",
    "# print \"AFO Correlation=\", corr_afo\n",
    "# print \"PPAFO Correlation=\", corr_ppafo\n",
    "# print \"Shoes Correlation=\", corr_shoes"
   ]
  },
  {
   "cell_type": "code",
   "execution_count": null,
   "metadata": {
    "collapsed": true
   },
   "outputs": [],
   "source": [
    "\n",
    "\n",
    "np.correlate(AFO, PPAFO)"
   ]
  },
  {
   "cell_type": "markdown",
   "metadata": {},
   "source": [
    "### Heel Symmetry Hypothesis Test"
   ]
  },
  {
   "cell_type": "code",
   "execution_count": null,
   "metadata": {
    "collapsed": false
   },
   "outputs": [],
   "source": [
    "\n",
    "class HeelSymHT(thinkstats2.HypothesisTest):\n",
    "    \"\"\"\n",
    "    Defines the knee angle hypothesis test class that inherits from the hypothesis test class from thinkstats2\n",
    "    \n",
    "    \"\"\"\n",
    "    \n",
    "    def TestStatistic(self, data):\n",
    "        \"\"\"\n",
    "        Defines the test statistic method required by the hypothesis test parent class\n",
    "        In this implementation, it simply computes the difference between means\n",
    "        \n",
    "        data: tuple of two sequences, one for each of the two groups being compared\n",
    "        \n",
    "        returns: the difference between the means for the two groups (i.e. group1mean - group2mean)\n",
    "        \"\"\"\n",
    "        \n",
    "        raw_group1, raw_group2 = data\n",
    "        \n",
    "        group1=np.asarray(raw_group1)\n",
    "        group2=np.asarray(raw_group2)\n",
    "        \n",
    "        test_stat=group1.mean()-group2.mean()\n",
    "        return test_stat\n",
    "    \n",
    "    def MakeModel(self):\n",
    "        \"\"\"\n",
    "        Defines the MakeModel method required by the hypothesis test parent class\n",
    "        In this implementation, it simply stacks the data for each of the two groups, one on top of the other\n",
    "        \n",
    "        Does not return anything; Adds the stacked data to the pool attribute\n",
    "        \"\"\"\n",
    "        \n",
    "        group1, group2 = self.data\n",
    "        self.n, self.m=len(group1), len(group2)\n",
    "        self.pool=np.hstack((group1, group2))\n",
    "        \n",
    "        #print \"group1len=\", len(group1)\n",
    "        #print \"group2len=\",len(group2)\n",
    "        #print \"poollen=\",len(self.pool)\n",
    "        \n",
    "    def RunModel(self):\n",
    "        np.random.shuffle(self.pool)\n",
    "        data=self.pool[:self.n], self.pool[self.n:]\n",
    "        return data\n",
    "        \n",
    "\n",
    "def HeelSymHypTest(Raw_data1, Raw_data2):\n",
    "    \"\"\"    \n",
    "    Raw_data1: Sequence of data for group 1\n",
    "    Raw_data2: Sequence of data for group 2\n",
    "    \n",
    "    returns: pvalue of the hypothesis test\n",
    "    \"\"\"\n",
    "    \n",
    "    data1 = Raw_data1[~np.isnan(Raw_data1)]\n",
    "    data2 = Raw_data2[~np.isnan(Raw_data2)]\n",
    "    data=(data1, data2)\n",
    "    \n",
    "    ht=HeelSymHT(data)\n",
    "    print \"Actual Observed Effect Size=\", ht.actual\n",
    "\n",
    "    pvalue=ht.PValue()\n",
    "\n",
    "    return pvalue\n",
    "    \n",
    "def HeelSymHypTest_General(data, pnum, trial, axis, marker):\n",
    "    \"\"\"\n",
    "    This function is the generalized version of the HeelSymHypTest that carries out the heel symmetry hypothesis test and returns the pvalue\n",
    "    \n",
    "    AFO: Data Dictionary for the AFO condition\n",
    "    PPAFO: Data Dictionary for the PPAFO condition\n",
    "    Shoes: Data Dictionary for the Shoes condition\n",
    "    pnum: integer for participant number\n",
    "    trial: integer specifying the trial number\n",
    "    \n",
    "    returns: pvalue of the hypothesis test\n",
    "    \"\"\"\n",
    "    print pnum, trial, axis, marker\n",
    "    \n",
    "    Raw_data1= CycleSet('AFO', data, pnum, trial, axis, marker)\n",
    "    Raw_data2= CycleSet('PPAFO', data, pnum, trial, axis, marker)\n",
    "    \n",
    "#     data1 = Raw_data1[~np.isnan(Raw_data1)]\n",
    "#     data2 = Raw_data2[~np.isnan(Raw_data2)]\n",
    "    data1, data2 = (Raw_data1, Raw_data2)\n",
    "    data=(data1, data2)\n",
    "    print data\n",
    "\n",
    "    #print AFO_angle\n",
    "    data=(data1, data2)\n",
    "    ht=HeelSymHT(data)\n",
    "    print \"Actual Observed Effect Size=\", ht.actual\n",
    "\n",
    "    pvalue=ht.PValue()\n",
    "    return pvalue"
   ]
  },
  {
   "cell_type": "code",
   "execution_count": null,
   "metadata": {
    "collapsed": false
   },
   "outputs": [],
   "source": [
    "print HeelSymHypTest_General(['AFO', 'PPAFO', 'Shoes'], 1, 5, 'z', 'R_HEEL')"
   ]
  },
  {
   "cell_type": "code",
   "execution_count": null,
   "metadata": {
    "collapsed": false
   },
   "outputs": [],
   "source": [
    "data = ['AFO', 'PPAFO', 'Shoes']\n",
    "t=dict()\n",
    "for participant in AFO.keys():\n",
    "    afo_keys=AFO[participant].trials.keys()\n",
    "    ppafo_keys=PPAFO[participant].trials.keys()\n",
    "    shoes_keys=Shoes[participant].trials.keys()\n",
    "    overlap=set(afo_keys) & set(ppafo_keys) & set(shoes_keys)\n",
    "#     print 'ppafo=', ppafo_keys\n",
    "    \n",
    "    if overlap:\n",
    "        for eachtrial in overlap:\n",
    "            if eachtrial>3:\n",
    "                print \"Participant=\", participant\n",
    "                print 'trial=', eachtrial\n",
    "                result= HeelSymHypTest_General(data, participant, eachtrial, 'z', 'R_HEEL')\n",
    "                t[(participant, eachtrial)]=result\n",
    "        "
   ]
  }
 ],
 "metadata": {
  "kernelspec": {
   "display_name": "Python 2",
   "language": "python",
   "name": "python2"
  },
  "language_info": {
   "codemirror_mode": {
    "name": "ipython",
    "version": 2
   },
   "file_extension": ".py",
   "mimetype": "text/x-python",
   "name": "python",
   "nbconvert_exporter": "python",
   "pygments_lexer": "ipython2",
   "version": "2.7.9"
  }
 },
 "nbformat": 4,
 "nbformat_minor": 0
}
